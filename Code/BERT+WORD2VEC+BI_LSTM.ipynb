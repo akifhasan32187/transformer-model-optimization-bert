{
  "nbformat": 4,
  "nbformat_minor": 0,
  "metadata": {
    "colab": {
      "provenance": []
    },
    "kernelspec": {
      "name": "python3",
      "display_name": "Python 3"
    },
    "language_info": {
      "name": "python"
    },
    "accelerator": "GPU",
    "gpuClass": "standard",
    "widgets": {
      "application/vnd.jupyter.widget-state+json": {
        "27519f2166094c699f28e67f0557b01e": {
          "model_module": "@jupyter-widgets/controls",
          "model_name": "HBoxModel",
          "model_module_version": "1.5.0",
          "state": {
            "_dom_classes": [],
            "_model_module": "@jupyter-widgets/controls",
            "_model_module_version": "1.5.0",
            "_model_name": "HBoxModel",
            "_view_count": null,
            "_view_module": "@jupyter-widgets/controls",
            "_view_module_version": "1.5.0",
            "_view_name": "HBoxView",
            "box_style": "",
            "children": [
              "IPY_MODEL_cc9c683014b4460ba580faa77236ef0e",
              "IPY_MODEL_47d5b46312894e3c8f3d52a979a8b227",
              "IPY_MODEL_107e87803a534c51922ac471af4c2c40"
            ],
            "layout": "IPY_MODEL_3ea0ba6b3e3042f6ab9bbc9628631f9e"
          }
        },
        "cc9c683014b4460ba580faa77236ef0e": {
          "model_module": "@jupyter-widgets/controls",
          "model_name": "HTMLModel",
          "model_module_version": "1.5.0",
          "state": {
            "_dom_classes": [],
            "_model_module": "@jupyter-widgets/controls",
            "_model_module_version": "1.5.0",
            "_model_name": "HTMLModel",
            "_view_count": null,
            "_view_module": "@jupyter-widgets/controls",
            "_view_module_version": "1.5.0",
            "_view_name": "HTMLView",
            "description": "",
            "description_tooltip": null,
            "layout": "IPY_MODEL_76d46a7d49a84de0b26b40b7c6d6c200",
            "placeholder": "​",
            "style": "IPY_MODEL_ac24719a3f7d4598af1966b865010de4",
            "value": "Downloading (…)okenizer_config.json: 100%"
          }
        },
        "47d5b46312894e3c8f3d52a979a8b227": {
          "model_module": "@jupyter-widgets/controls",
          "model_name": "FloatProgressModel",
          "model_module_version": "1.5.0",
          "state": {
            "_dom_classes": [],
            "_model_module": "@jupyter-widgets/controls",
            "_model_module_version": "1.5.0",
            "_model_name": "FloatProgressModel",
            "_view_count": null,
            "_view_module": "@jupyter-widgets/controls",
            "_view_module_version": "1.5.0",
            "_view_name": "ProgressView",
            "bar_style": "success",
            "description": "",
            "description_tooltip": null,
            "layout": "IPY_MODEL_e2656398f56d429986dac18d837e408a",
            "max": 28,
            "min": 0,
            "orientation": "horizontal",
            "style": "IPY_MODEL_5a87300464f2488587e3e4f2c3a7b1c7",
            "value": 28
          }
        },
        "107e87803a534c51922ac471af4c2c40": {
          "model_module": "@jupyter-widgets/controls",
          "model_name": "HTMLModel",
          "model_module_version": "1.5.0",
          "state": {
            "_dom_classes": [],
            "_model_module": "@jupyter-widgets/controls",
            "_model_module_version": "1.5.0",
            "_model_name": "HTMLModel",
            "_view_count": null,
            "_view_module": "@jupyter-widgets/controls",
            "_view_module_version": "1.5.0",
            "_view_name": "HTMLView",
            "description": "",
            "description_tooltip": null,
            "layout": "IPY_MODEL_c29e7d54eb2c4e68856c01b2a0f73889",
            "placeholder": "​",
            "style": "IPY_MODEL_4d671f4d89814f76ad696e326840c90b",
            "value": " 28.0/28.0 [00:00&lt;00:00, 306B/s]"
          }
        },
        "3ea0ba6b3e3042f6ab9bbc9628631f9e": {
          "model_module": "@jupyter-widgets/base",
          "model_name": "LayoutModel",
          "model_module_version": "1.2.0",
          "state": {
            "_model_module": "@jupyter-widgets/base",
            "_model_module_version": "1.2.0",
            "_model_name": "LayoutModel",
            "_view_count": null,
            "_view_module": "@jupyter-widgets/base",
            "_view_module_version": "1.2.0",
            "_view_name": "LayoutView",
            "align_content": null,
            "align_items": null,
            "align_self": null,
            "border": null,
            "bottom": null,
            "display": null,
            "flex": null,
            "flex_flow": null,
            "grid_area": null,
            "grid_auto_columns": null,
            "grid_auto_flow": null,
            "grid_auto_rows": null,
            "grid_column": null,
            "grid_gap": null,
            "grid_row": null,
            "grid_template_areas": null,
            "grid_template_columns": null,
            "grid_template_rows": null,
            "height": null,
            "justify_content": null,
            "justify_items": null,
            "left": null,
            "margin": null,
            "max_height": null,
            "max_width": null,
            "min_height": null,
            "min_width": null,
            "object_fit": null,
            "object_position": null,
            "order": null,
            "overflow": null,
            "overflow_x": null,
            "overflow_y": null,
            "padding": null,
            "right": null,
            "top": null,
            "visibility": null,
            "width": null
          }
        },
        "76d46a7d49a84de0b26b40b7c6d6c200": {
          "model_module": "@jupyter-widgets/base",
          "model_name": "LayoutModel",
          "model_module_version": "1.2.0",
          "state": {
            "_model_module": "@jupyter-widgets/base",
            "_model_module_version": "1.2.0",
            "_model_name": "LayoutModel",
            "_view_count": null,
            "_view_module": "@jupyter-widgets/base",
            "_view_module_version": "1.2.0",
            "_view_name": "LayoutView",
            "align_content": null,
            "align_items": null,
            "align_self": null,
            "border": null,
            "bottom": null,
            "display": null,
            "flex": null,
            "flex_flow": null,
            "grid_area": null,
            "grid_auto_columns": null,
            "grid_auto_flow": null,
            "grid_auto_rows": null,
            "grid_column": null,
            "grid_gap": null,
            "grid_row": null,
            "grid_template_areas": null,
            "grid_template_columns": null,
            "grid_template_rows": null,
            "height": null,
            "justify_content": null,
            "justify_items": null,
            "left": null,
            "margin": null,
            "max_height": null,
            "max_width": null,
            "min_height": null,
            "min_width": null,
            "object_fit": null,
            "object_position": null,
            "order": null,
            "overflow": null,
            "overflow_x": null,
            "overflow_y": null,
            "padding": null,
            "right": null,
            "top": null,
            "visibility": null,
            "width": null
          }
        },
        "ac24719a3f7d4598af1966b865010de4": {
          "model_module": "@jupyter-widgets/controls",
          "model_name": "DescriptionStyleModel",
          "model_module_version": "1.5.0",
          "state": {
            "_model_module": "@jupyter-widgets/controls",
            "_model_module_version": "1.5.0",
            "_model_name": "DescriptionStyleModel",
            "_view_count": null,
            "_view_module": "@jupyter-widgets/base",
            "_view_module_version": "1.2.0",
            "_view_name": "StyleView",
            "description_width": ""
          }
        },
        "e2656398f56d429986dac18d837e408a": {
          "model_module": "@jupyter-widgets/base",
          "model_name": "LayoutModel",
          "model_module_version": "1.2.0",
          "state": {
            "_model_module": "@jupyter-widgets/base",
            "_model_module_version": "1.2.0",
            "_model_name": "LayoutModel",
            "_view_count": null,
            "_view_module": "@jupyter-widgets/base",
            "_view_module_version": "1.2.0",
            "_view_name": "LayoutView",
            "align_content": null,
            "align_items": null,
            "align_self": null,
            "border": null,
            "bottom": null,
            "display": null,
            "flex": null,
            "flex_flow": null,
            "grid_area": null,
            "grid_auto_columns": null,
            "grid_auto_flow": null,
            "grid_auto_rows": null,
            "grid_column": null,
            "grid_gap": null,
            "grid_row": null,
            "grid_template_areas": null,
            "grid_template_columns": null,
            "grid_template_rows": null,
            "height": null,
            "justify_content": null,
            "justify_items": null,
            "left": null,
            "margin": null,
            "max_height": null,
            "max_width": null,
            "min_height": null,
            "min_width": null,
            "object_fit": null,
            "object_position": null,
            "order": null,
            "overflow": null,
            "overflow_x": null,
            "overflow_y": null,
            "padding": null,
            "right": null,
            "top": null,
            "visibility": null,
            "width": null
          }
        },
        "5a87300464f2488587e3e4f2c3a7b1c7": {
          "model_module": "@jupyter-widgets/controls",
          "model_name": "ProgressStyleModel",
          "model_module_version": "1.5.0",
          "state": {
            "_model_module": "@jupyter-widgets/controls",
            "_model_module_version": "1.5.0",
            "_model_name": "ProgressStyleModel",
            "_view_count": null,
            "_view_module": "@jupyter-widgets/base",
            "_view_module_version": "1.2.0",
            "_view_name": "StyleView",
            "bar_color": null,
            "description_width": ""
          }
        },
        "c29e7d54eb2c4e68856c01b2a0f73889": {
          "model_module": "@jupyter-widgets/base",
          "model_name": "LayoutModel",
          "model_module_version": "1.2.0",
          "state": {
            "_model_module": "@jupyter-widgets/base",
            "_model_module_version": "1.2.0",
            "_model_name": "LayoutModel",
            "_view_count": null,
            "_view_module": "@jupyter-widgets/base",
            "_view_module_version": "1.2.0",
            "_view_name": "LayoutView",
            "align_content": null,
            "align_items": null,
            "align_self": null,
            "border": null,
            "bottom": null,
            "display": null,
            "flex": null,
            "flex_flow": null,
            "grid_area": null,
            "grid_auto_columns": null,
            "grid_auto_flow": null,
            "grid_auto_rows": null,
            "grid_column": null,
            "grid_gap": null,
            "grid_row": null,
            "grid_template_areas": null,
            "grid_template_columns": null,
            "grid_template_rows": null,
            "height": null,
            "justify_content": null,
            "justify_items": null,
            "left": null,
            "margin": null,
            "max_height": null,
            "max_width": null,
            "min_height": null,
            "min_width": null,
            "object_fit": null,
            "object_position": null,
            "order": null,
            "overflow": null,
            "overflow_x": null,
            "overflow_y": null,
            "padding": null,
            "right": null,
            "top": null,
            "visibility": null,
            "width": null
          }
        },
        "4d671f4d89814f76ad696e326840c90b": {
          "model_module": "@jupyter-widgets/controls",
          "model_name": "DescriptionStyleModel",
          "model_module_version": "1.5.0",
          "state": {
            "_model_module": "@jupyter-widgets/controls",
            "_model_module_version": "1.5.0",
            "_model_name": "DescriptionStyleModel",
            "_view_count": null,
            "_view_module": "@jupyter-widgets/base",
            "_view_module_version": "1.2.0",
            "_view_name": "StyleView",
            "description_width": ""
          }
        },
        "b5da982d34de40128113b3f084551fcd": {
          "model_module": "@jupyter-widgets/controls",
          "model_name": "HBoxModel",
          "model_module_version": "1.5.0",
          "state": {
            "_dom_classes": [],
            "_model_module": "@jupyter-widgets/controls",
            "_model_module_version": "1.5.0",
            "_model_name": "HBoxModel",
            "_view_count": null,
            "_view_module": "@jupyter-widgets/controls",
            "_view_module_version": "1.5.0",
            "_view_name": "HBoxView",
            "box_style": "",
            "children": [
              "IPY_MODEL_1608865fd8404422876a79fcd7598c33",
              "IPY_MODEL_ab5b2fce63ee4eaabbd5298cac2c6fac",
              "IPY_MODEL_a75e904cee72408ab73d673c47a62251"
            ],
            "layout": "IPY_MODEL_17c1eea043844e2f9291b4975d29216c"
          }
        },
        "1608865fd8404422876a79fcd7598c33": {
          "model_module": "@jupyter-widgets/controls",
          "model_name": "HTMLModel",
          "model_module_version": "1.5.0",
          "state": {
            "_dom_classes": [],
            "_model_module": "@jupyter-widgets/controls",
            "_model_module_version": "1.5.0",
            "_model_name": "HTMLModel",
            "_view_count": null,
            "_view_module": "@jupyter-widgets/controls",
            "_view_module_version": "1.5.0",
            "_view_name": "HTMLView",
            "description": "",
            "description_tooltip": null,
            "layout": "IPY_MODEL_d4fe48d8b38843688fedd4179c1e78f1",
            "placeholder": "​",
            "style": "IPY_MODEL_8a97ac2d48b34c63bd6edd8bc0a0f53b",
            "value": "Downloading (…)lve/main/config.json: 100%"
          }
        },
        "ab5b2fce63ee4eaabbd5298cac2c6fac": {
          "model_module": "@jupyter-widgets/controls",
          "model_name": "FloatProgressModel",
          "model_module_version": "1.5.0",
          "state": {
            "_dom_classes": [],
            "_model_module": "@jupyter-widgets/controls",
            "_model_module_version": "1.5.0",
            "_model_name": "FloatProgressModel",
            "_view_count": null,
            "_view_module": "@jupyter-widgets/controls",
            "_view_module_version": "1.5.0",
            "_view_name": "ProgressView",
            "bar_style": "success",
            "description": "",
            "description_tooltip": null,
            "layout": "IPY_MODEL_2cbc19861d4c46a0b3791c8c1b1f32e5",
            "max": 570,
            "min": 0,
            "orientation": "horizontal",
            "style": "IPY_MODEL_86982e369a9c4cf8b65788b052003f90",
            "value": 570
          }
        },
        "a75e904cee72408ab73d673c47a62251": {
          "model_module": "@jupyter-widgets/controls",
          "model_name": "HTMLModel",
          "model_module_version": "1.5.0",
          "state": {
            "_dom_classes": [],
            "_model_module": "@jupyter-widgets/controls",
            "_model_module_version": "1.5.0",
            "_model_name": "HTMLModel",
            "_view_count": null,
            "_view_module": "@jupyter-widgets/controls",
            "_view_module_version": "1.5.0",
            "_view_name": "HTMLView",
            "description": "",
            "description_tooltip": null,
            "layout": "IPY_MODEL_e166b8ffeb4f4f63969d0db71ab50346",
            "placeholder": "​",
            "style": "IPY_MODEL_56a4f6841ac54c08943206e36bab5124",
            "value": " 570/570 [00:00&lt;00:00, 13.7kB/s]"
          }
        },
        "17c1eea043844e2f9291b4975d29216c": {
          "model_module": "@jupyter-widgets/base",
          "model_name": "LayoutModel",
          "model_module_version": "1.2.0",
          "state": {
            "_model_module": "@jupyter-widgets/base",
            "_model_module_version": "1.2.0",
            "_model_name": "LayoutModel",
            "_view_count": null,
            "_view_module": "@jupyter-widgets/base",
            "_view_module_version": "1.2.0",
            "_view_name": "LayoutView",
            "align_content": null,
            "align_items": null,
            "align_self": null,
            "border": null,
            "bottom": null,
            "display": null,
            "flex": null,
            "flex_flow": null,
            "grid_area": null,
            "grid_auto_columns": null,
            "grid_auto_flow": null,
            "grid_auto_rows": null,
            "grid_column": null,
            "grid_gap": null,
            "grid_row": null,
            "grid_template_areas": null,
            "grid_template_columns": null,
            "grid_template_rows": null,
            "height": null,
            "justify_content": null,
            "justify_items": null,
            "left": null,
            "margin": null,
            "max_height": null,
            "max_width": null,
            "min_height": null,
            "min_width": null,
            "object_fit": null,
            "object_position": null,
            "order": null,
            "overflow": null,
            "overflow_x": null,
            "overflow_y": null,
            "padding": null,
            "right": null,
            "top": null,
            "visibility": null,
            "width": null
          }
        },
        "d4fe48d8b38843688fedd4179c1e78f1": {
          "model_module": "@jupyter-widgets/base",
          "model_name": "LayoutModel",
          "model_module_version": "1.2.0",
          "state": {
            "_model_module": "@jupyter-widgets/base",
            "_model_module_version": "1.2.0",
            "_model_name": "LayoutModel",
            "_view_count": null,
            "_view_module": "@jupyter-widgets/base",
            "_view_module_version": "1.2.0",
            "_view_name": "LayoutView",
            "align_content": null,
            "align_items": null,
            "align_self": null,
            "border": null,
            "bottom": null,
            "display": null,
            "flex": null,
            "flex_flow": null,
            "grid_area": null,
            "grid_auto_columns": null,
            "grid_auto_flow": null,
            "grid_auto_rows": null,
            "grid_column": null,
            "grid_gap": null,
            "grid_row": null,
            "grid_template_areas": null,
            "grid_template_columns": null,
            "grid_template_rows": null,
            "height": null,
            "justify_content": null,
            "justify_items": null,
            "left": null,
            "margin": null,
            "max_height": null,
            "max_width": null,
            "min_height": null,
            "min_width": null,
            "object_fit": null,
            "object_position": null,
            "order": null,
            "overflow": null,
            "overflow_x": null,
            "overflow_y": null,
            "padding": null,
            "right": null,
            "top": null,
            "visibility": null,
            "width": null
          }
        },
        "8a97ac2d48b34c63bd6edd8bc0a0f53b": {
          "model_module": "@jupyter-widgets/controls",
          "model_name": "DescriptionStyleModel",
          "model_module_version": "1.5.0",
          "state": {
            "_model_module": "@jupyter-widgets/controls",
            "_model_module_version": "1.5.0",
            "_model_name": "DescriptionStyleModel",
            "_view_count": null,
            "_view_module": "@jupyter-widgets/base",
            "_view_module_version": "1.2.0",
            "_view_name": "StyleView",
            "description_width": ""
          }
        },
        "2cbc19861d4c46a0b3791c8c1b1f32e5": {
          "model_module": "@jupyter-widgets/base",
          "model_name": "LayoutModel",
          "model_module_version": "1.2.0",
          "state": {
            "_model_module": "@jupyter-widgets/base",
            "_model_module_version": "1.2.0",
            "_model_name": "LayoutModel",
            "_view_count": null,
            "_view_module": "@jupyter-widgets/base",
            "_view_module_version": "1.2.0",
            "_view_name": "LayoutView",
            "align_content": null,
            "align_items": null,
            "align_self": null,
            "border": null,
            "bottom": null,
            "display": null,
            "flex": null,
            "flex_flow": null,
            "grid_area": null,
            "grid_auto_columns": null,
            "grid_auto_flow": null,
            "grid_auto_rows": null,
            "grid_column": null,
            "grid_gap": null,
            "grid_row": null,
            "grid_template_areas": null,
            "grid_template_columns": null,
            "grid_template_rows": null,
            "height": null,
            "justify_content": null,
            "justify_items": null,
            "left": null,
            "margin": null,
            "max_height": null,
            "max_width": null,
            "min_height": null,
            "min_width": null,
            "object_fit": null,
            "object_position": null,
            "order": null,
            "overflow": null,
            "overflow_x": null,
            "overflow_y": null,
            "padding": null,
            "right": null,
            "top": null,
            "visibility": null,
            "width": null
          }
        },
        "86982e369a9c4cf8b65788b052003f90": {
          "model_module": "@jupyter-widgets/controls",
          "model_name": "ProgressStyleModel",
          "model_module_version": "1.5.0",
          "state": {
            "_model_module": "@jupyter-widgets/controls",
            "_model_module_version": "1.5.0",
            "_model_name": "ProgressStyleModel",
            "_view_count": null,
            "_view_module": "@jupyter-widgets/base",
            "_view_module_version": "1.2.0",
            "_view_name": "StyleView",
            "bar_color": null,
            "description_width": ""
          }
        },
        "e166b8ffeb4f4f63969d0db71ab50346": {
          "model_module": "@jupyter-widgets/base",
          "model_name": "LayoutModel",
          "model_module_version": "1.2.0",
          "state": {
            "_model_module": "@jupyter-widgets/base",
            "_model_module_version": "1.2.0",
            "_model_name": "LayoutModel",
            "_view_count": null,
            "_view_module": "@jupyter-widgets/base",
            "_view_module_version": "1.2.0",
            "_view_name": "LayoutView",
            "align_content": null,
            "align_items": null,
            "align_self": null,
            "border": null,
            "bottom": null,
            "display": null,
            "flex": null,
            "flex_flow": null,
            "grid_area": null,
            "grid_auto_columns": null,
            "grid_auto_flow": null,
            "grid_auto_rows": null,
            "grid_column": null,
            "grid_gap": null,
            "grid_row": null,
            "grid_template_areas": null,
            "grid_template_columns": null,
            "grid_template_rows": null,
            "height": null,
            "justify_content": null,
            "justify_items": null,
            "left": null,
            "margin": null,
            "max_height": null,
            "max_width": null,
            "min_height": null,
            "min_width": null,
            "object_fit": null,
            "object_position": null,
            "order": null,
            "overflow": null,
            "overflow_x": null,
            "overflow_y": null,
            "padding": null,
            "right": null,
            "top": null,
            "visibility": null,
            "width": null
          }
        },
        "56a4f6841ac54c08943206e36bab5124": {
          "model_module": "@jupyter-widgets/controls",
          "model_name": "DescriptionStyleModel",
          "model_module_version": "1.5.0",
          "state": {
            "_model_module": "@jupyter-widgets/controls",
            "_model_module_version": "1.5.0",
            "_model_name": "DescriptionStyleModel",
            "_view_count": null,
            "_view_module": "@jupyter-widgets/base",
            "_view_module_version": "1.2.0",
            "_view_name": "StyleView",
            "description_width": ""
          }
        },
        "1f48f8e33d2e4953916eec1d44272eaf": {
          "model_module": "@jupyter-widgets/controls",
          "model_name": "HBoxModel",
          "model_module_version": "1.5.0",
          "state": {
            "_dom_classes": [],
            "_model_module": "@jupyter-widgets/controls",
            "_model_module_version": "1.5.0",
            "_model_name": "HBoxModel",
            "_view_count": null,
            "_view_module": "@jupyter-widgets/controls",
            "_view_module_version": "1.5.0",
            "_view_name": "HBoxView",
            "box_style": "",
            "children": [
              "IPY_MODEL_c8426fcd99e346588ab28136014ed8a1",
              "IPY_MODEL_e38c9f3d5686499886716ae170f85762",
              "IPY_MODEL_00cf966d97dd464d8a11e3ac45175a2e"
            ],
            "layout": "IPY_MODEL_7932f36369e6431ea9e2221e68bfb623"
          }
        },
        "c8426fcd99e346588ab28136014ed8a1": {
          "model_module": "@jupyter-widgets/controls",
          "model_name": "HTMLModel",
          "model_module_version": "1.5.0",
          "state": {
            "_dom_classes": [],
            "_model_module": "@jupyter-widgets/controls",
            "_model_module_version": "1.5.0",
            "_model_name": "HTMLModel",
            "_view_count": null,
            "_view_module": "@jupyter-widgets/controls",
            "_view_module_version": "1.5.0",
            "_view_name": "HTMLView",
            "description": "",
            "description_tooltip": null,
            "layout": "IPY_MODEL_5c181f29d5ca4808a0cdb2d52dd19ded",
            "placeholder": "​",
            "style": "IPY_MODEL_78c3bd49faad4b899c2a8e66c26c7ce4",
            "value": "Downloading (…)solve/main/vocab.txt: 100%"
          }
        },
        "e38c9f3d5686499886716ae170f85762": {
          "model_module": "@jupyter-widgets/controls",
          "model_name": "FloatProgressModel",
          "model_module_version": "1.5.0",
          "state": {
            "_dom_classes": [],
            "_model_module": "@jupyter-widgets/controls",
            "_model_module_version": "1.5.0",
            "_model_name": "FloatProgressModel",
            "_view_count": null,
            "_view_module": "@jupyter-widgets/controls",
            "_view_module_version": "1.5.0",
            "_view_name": "ProgressView",
            "bar_style": "success",
            "description": "",
            "description_tooltip": null,
            "layout": "IPY_MODEL_4eff8bc55d59456abc9aef9021606261",
            "max": 231508,
            "min": 0,
            "orientation": "horizontal",
            "style": "IPY_MODEL_a5c9c1fba6404676beb4cf2ca0cd7efd",
            "value": 231508
          }
        },
        "00cf966d97dd464d8a11e3ac45175a2e": {
          "model_module": "@jupyter-widgets/controls",
          "model_name": "HTMLModel",
          "model_module_version": "1.5.0",
          "state": {
            "_dom_classes": [],
            "_model_module": "@jupyter-widgets/controls",
            "_model_module_version": "1.5.0",
            "_model_name": "HTMLModel",
            "_view_count": null,
            "_view_module": "@jupyter-widgets/controls",
            "_view_module_version": "1.5.0",
            "_view_name": "HTMLView",
            "description": "",
            "description_tooltip": null,
            "layout": "IPY_MODEL_99f8483eb8914acf93de743c79b87159",
            "placeholder": "​",
            "style": "IPY_MODEL_5fed22c89a33488985a9f41e6eb4c333",
            "value": " 232k/232k [00:00&lt;00:00, 4.73MB/s]"
          }
        },
        "7932f36369e6431ea9e2221e68bfb623": {
          "model_module": "@jupyter-widgets/base",
          "model_name": "LayoutModel",
          "model_module_version": "1.2.0",
          "state": {
            "_model_module": "@jupyter-widgets/base",
            "_model_module_version": "1.2.0",
            "_model_name": "LayoutModel",
            "_view_count": null,
            "_view_module": "@jupyter-widgets/base",
            "_view_module_version": "1.2.0",
            "_view_name": "LayoutView",
            "align_content": null,
            "align_items": null,
            "align_self": null,
            "border": null,
            "bottom": null,
            "display": null,
            "flex": null,
            "flex_flow": null,
            "grid_area": null,
            "grid_auto_columns": null,
            "grid_auto_flow": null,
            "grid_auto_rows": null,
            "grid_column": null,
            "grid_gap": null,
            "grid_row": null,
            "grid_template_areas": null,
            "grid_template_columns": null,
            "grid_template_rows": null,
            "height": null,
            "justify_content": null,
            "justify_items": null,
            "left": null,
            "margin": null,
            "max_height": null,
            "max_width": null,
            "min_height": null,
            "min_width": null,
            "object_fit": null,
            "object_position": null,
            "order": null,
            "overflow": null,
            "overflow_x": null,
            "overflow_y": null,
            "padding": null,
            "right": null,
            "top": null,
            "visibility": null,
            "width": null
          }
        },
        "5c181f29d5ca4808a0cdb2d52dd19ded": {
          "model_module": "@jupyter-widgets/base",
          "model_name": "LayoutModel",
          "model_module_version": "1.2.0",
          "state": {
            "_model_module": "@jupyter-widgets/base",
            "_model_module_version": "1.2.0",
            "_model_name": "LayoutModel",
            "_view_count": null,
            "_view_module": "@jupyter-widgets/base",
            "_view_module_version": "1.2.0",
            "_view_name": "LayoutView",
            "align_content": null,
            "align_items": null,
            "align_self": null,
            "border": null,
            "bottom": null,
            "display": null,
            "flex": null,
            "flex_flow": null,
            "grid_area": null,
            "grid_auto_columns": null,
            "grid_auto_flow": null,
            "grid_auto_rows": null,
            "grid_column": null,
            "grid_gap": null,
            "grid_row": null,
            "grid_template_areas": null,
            "grid_template_columns": null,
            "grid_template_rows": null,
            "height": null,
            "justify_content": null,
            "justify_items": null,
            "left": null,
            "margin": null,
            "max_height": null,
            "max_width": null,
            "min_height": null,
            "min_width": null,
            "object_fit": null,
            "object_position": null,
            "order": null,
            "overflow": null,
            "overflow_x": null,
            "overflow_y": null,
            "padding": null,
            "right": null,
            "top": null,
            "visibility": null,
            "width": null
          }
        },
        "78c3bd49faad4b899c2a8e66c26c7ce4": {
          "model_module": "@jupyter-widgets/controls",
          "model_name": "DescriptionStyleModel",
          "model_module_version": "1.5.0",
          "state": {
            "_model_module": "@jupyter-widgets/controls",
            "_model_module_version": "1.5.0",
            "_model_name": "DescriptionStyleModel",
            "_view_count": null,
            "_view_module": "@jupyter-widgets/base",
            "_view_module_version": "1.2.0",
            "_view_name": "StyleView",
            "description_width": ""
          }
        },
        "4eff8bc55d59456abc9aef9021606261": {
          "model_module": "@jupyter-widgets/base",
          "model_name": "LayoutModel",
          "model_module_version": "1.2.0",
          "state": {
            "_model_module": "@jupyter-widgets/base",
            "_model_module_version": "1.2.0",
            "_model_name": "LayoutModel",
            "_view_count": null,
            "_view_module": "@jupyter-widgets/base",
            "_view_module_version": "1.2.0",
            "_view_name": "LayoutView",
            "align_content": null,
            "align_items": null,
            "align_self": null,
            "border": null,
            "bottom": null,
            "display": null,
            "flex": null,
            "flex_flow": null,
            "grid_area": null,
            "grid_auto_columns": null,
            "grid_auto_flow": null,
            "grid_auto_rows": null,
            "grid_column": null,
            "grid_gap": null,
            "grid_row": null,
            "grid_template_areas": null,
            "grid_template_columns": null,
            "grid_template_rows": null,
            "height": null,
            "justify_content": null,
            "justify_items": null,
            "left": null,
            "margin": null,
            "max_height": null,
            "max_width": null,
            "min_height": null,
            "min_width": null,
            "object_fit": null,
            "object_position": null,
            "order": null,
            "overflow": null,
            "overflow_x": null,
            "overflow_y": null,
            "padding": null,
            "right": null,
            "top": null,
            "visibility": null,
            "width": null
          }
        },
        "a5c9c1fba6404676beb4cf2ca0cd7efd": {
          "model_module": "@jupyter-widgets/controls",
          "model_name": "ProgressStyleModel",
          "model_module_version": "1.5.0",
          "state": {
            "_model_module": "@jupyter-widgets/controls",
            "_model_module_version": "1.5.0",
            "_model_name": "ProgressStyleModel",
            "_view_count": null,
            "_view_module": "@jupyter-widgets/base",
            "_view_module_version": "1.2.0",
            "_view_name": "StyleView",
            "bar_color": null,
            "description_width": ""
          }
        },
        "99f8483eb8914acf93de743c79b87159": {
          "model_module": "@jupyter-widgets/base",
          "model_name": "LayoutModel",
          "model_module_version": "1.2.0",
          "state": {
            "_model_module": "@jupyter-widgets/base",
            "_model_module_version": "1.2.0",
            "_model_name": "LayoutModel",
            "_view_count": null,
            "_view_module": "@jupyter-widgets/base",
            "_view_module_version": "1.2.0",
            "_view_name": "LayoutView",
            "align_content": null,
            "align_items": null,
            "align_self": null,
            "border": null,
            "bottom": null,
            "display": null,
            "flex": null,
            "flex_flow": null,
            "grid_area": null,
            "grid_auto_columns": null,
            "grid_auto_flow": null,
            "grid_auto_rows": null,
            "grid_column": null,
            "grid_gap": null,
            "grid_row": null,
            "grid_template_areas": null,
            "grid_template_columns": null,
            "grid_template_rows": null,
            "height": null,
            "justify_content": null,
            "justify_items": null,
            "left": null,
            "margin": null,
            "max_height": null,
            "max_width": null,
            "min_height": null,
            "min_width": null,
            "object_fit": null,
            "object_position": null,
            "order": null,
            "overflow": null,
            "overflow_x": null,
            "overflow_y": null,
            "padding": null,
            "right": null,
            "top": null,
            "visibility": null,
            "width": null
          }
        },
        "5fed22c89a33488985a9f41e6eb4c333": {
          "model_module": "@jupyter-widgets/controls",
          "model_name": "DescriptionStyleModel",
          "model_module_version": "1.5.0",
          "state": {
            "_model_module": "@jupyter-widgets/controls",
            "_model_module_version": "1.5.0",
            "_model_name": "DescriptionStyleModel",
            "_view_count": null,
            "_view_module": "@jupyter-widgets/base",
            "_view_module_version": "1.2.0",
            "_view_name": "StyleView",
            "description_width": ""
          }
        },
        "21ecebaac55a4bdc90ff3f204247b121": {
          "model_module": "@jupyter-widgets/controls",
          "model_name": "HBoxModel",
          "model_module_version": "1.5.0",
          "state": {
            "_dom_classes": [],
            "_model_module": "@jupyter-widgets/controls",
            "_model_module_version": "1.5.0",
            "_model_name": "HBoxModel",
            "_view_count": null,
            "_view_module": "@jupyter-widgets/controls",
            "_view_module_version": "1.5.0",
            "_view_name": "HBoxView",
            "box_style": "",
            "children": [
              "IPY_MODEL_d3b7b89ecee54921a63ee1c72d18fc70",
              "IPY_MODEL_15fb7fd9118648fa8074b358de8fae71",
              "IPY_MODEL_45061ac6a3af416091b9b18007fcce1c"
            ],
            "layout": "IPY_MODEL_95913bd3292b43eb8a6db86a53dd315c"
          }
        },
        "d3b7b89ecee54921a63ee1c72d18fc70": {
          "model_module": "@jupyter-widgets/controls",
          "model_name": "HTMLModel",
          "model_module_version": "1.5.0",
          "state": {
            "_dom_classes": [],
            "_model_module": "@jupyter-widgets/controls",
            "_model_module_version": "1.5.0",
            "_model_name": "HTMLModel",
            "_view_count": null,
            "_view_module": "@jupyter-widgets/controls",
            "_view_module_version": "1.5.0",
            "_view_name": "HTMLView",
            "description": "",
            "description_tooltip": null,
            "layout": "IPY_MODEL_c2b544c8a8cb420693fb144643eb540a",
            "placeholder": "​",
            "style": "IPY_MODEL_2a6eecf6b584437a95b43c59fbef9766",
            "value": "Downloading (…)/main/tokenizer.json: 100%"
          }
        },
        "15fb7fd9118648fa8074b358de8fae71": {
          "model_module": "@jupyter-widgets/controls",
          "model_name": "FloatProgressModel",
          "model_module_version": "1.5.0",
          "state": {
            "_dom_classes": [],
            "_model_module": "@jupyter-widgets/controls",
            "_model_module_version": "1.5.0",
            "_model_name": "FloatProgressModel",
            "_view_count": null,
            "_view_module": "@jupyter-widgets/controls",
            "_view_module_version": "1.5.0",
            "_view_name": "ProgressView",
            "bar_style": "success",
            "description": "",
            "description_tooltip": null,
            "layout": "IPY_MODEL_977617d194174cbc93ea618318cfbfb6",
            "max": 466062,
            "min": 0,
            "orientation": "horizontal",
            "style": "IPY_MODEL_568d39157b2b49b58bdf13362a1baceb",
            "value": 466062
          }
        },
        "45061ac6a3af416091b9b18007fcce1c": {
          "model_module": "@jupyter-widgets/controls",
          "model_name": "HTMLModel",
          "model_module_version": "1.5.0",
          "state": {
            "_dom_classes": [],
            "_model_module": "@jupyter-widgets/controls",
            "_model_module_version": "1.5.0",
            "_model_name": "HTMLModel",
            "_view_count": null,
            "_view_module": "@jupyter-widgets/controls",
            "_view_module_version": "1.5.0",
            "_view_name": "HTMLView",
            "description": "",
            "description_tooltip": null,
            "layout": "IPY_MODEL_aaa88968f2e544498e23682b533aaf4d",
            "placeholder": "​",
            "style": "IPY_MODEL_e77ef6d1de6746aa8f54dae645257a0c",
            "value": " 466k/466k [00:00&lt;00:00, 6.05MB/s]"
          }
        },
        "95913bd3292b43eb8a6db86a53dd315c": {
          "model_module": "@jupyter-widgets/base",
          "model_name": "LayoutModel",
          "model_module_version": "1.2.0",
          "state": {
            "_model_module": "@jupyter-widgets/base",
            "_model_module_version": "1.2.0",
            "_model_name": "LayoutModel",
            "_view_count": null,
            "_view_module": "@jupyter-widgets/base",
            "_view_module_version": "1.2.0",
            "_view_name": "LayoutView",
            "align_content": null,
            "align_items": null,
            "align_self": null,
            "border": null,
            "bottom": null,
            "display": null,
            "flex": null,
            "flex_flow": null,
            "grid_area": null,
            "grid_auto_columns": null,
            "grid_auto_flow": null,
            "grid_auto_rows": null,
            "grid_column": null,
            "grid_gap": null,
            "grid_row": null,
            "grid_template_areas": null,
            "grid_template_columns": null,
            "grid_template_rows": null,
            "height": null,
            "justify_content": null,
            "justify_items": null,
            "left": null,
            "margin": null,
            "max_height": null,
            "max_width": null,
            "min_height": null,
            "min_width": null,
            "object_fit": null,
            "object_position": null,
            "order": null,
            "overflow": null,
            "overflow_x": null,
            "overflow_y": null,
            "padding": null,
            "right": null,
            "top": null,
            "visibility": null,
            "width": null
          }
        },
        "c2b544c8a8cb420693fb144643eb540a": {
          "model_module": "@jupyter-widgets/base",
          "model_name": "LayoutModel",
          "model_module_version": "1.2.0",
          "state": {
            "_model_module": "@jupyter-widgets/base",
            "_model_module_version": "1.2.0",
            "_model_name": "LayoutModel",
            "_view_count": null,
            "_view_module": "@jupyter-widgets/base",
            "_view_module_version": "1.2.0",
            "_view_name": "LayoutView",
            "align_content": null,
            "align_items": null,
            "align_self": null,
            "border": null,
            "bottom": null,
            "display": null,
            "flex": null,
            "flex_flow": null,
            "grid_area": null,
            "grid_auto_columns": null,
            "grid_auto_flow": null,
            "grid_auto_rows": null,
            "grid_column": null,
            "grid_gap": null,
            "grid_row": null,
            "grid_template_areas": null,
            "grid_template_columns": null,
            "grid_template_rows": null,
            "height": null,
            "justify_content": null,
            "justify_items": null,
            "left": null,
            "margin": null,
            "max_height": null,
            "max_width": null,
            "min_height": null,
            "min_width": null,
            "object_fit": null,
            "object_position": null,
            "order": null,
            "overflow": null,
            "overflow_x": null,
            "overflow_y": null,
            "padding": null,
            "right": null,
            "top": null,
            "visibility": null,
            "width": null
          }
        },
        "2a6eecf6b584437a95b43c59fbef9766": {
          "model_module": "@jupyter-widgets/controls",
          "model_name": "DescriptionStyleModel",
          "model_module_version": "1.5.0",
          "state": {
            "_model_module": "@jupyter-widgets/controls",
            "_model_module_version": "1.5.0",
            "_model_name": "DescriptionStyleModel",
            "_view_count": null,
            "_view_module": "@jupyter-widgets/base",
            "_view_module_version": "1.2.0",
            "_view_name": "StyleView",
            "description_width": ""
          }
        },
        "977617d194174cbc93ea618318cfbfb6": {
          "model_module": "@jupyter-widgets/base",
          "model_name": "LayoutModel",
          "model_module_version": "1.2.0",
          "state": {
            "_model_module": "@jupyter-widgets/base",
            "_model_module_version": "1.2.0",
            "_model_name": "LayoutModel",
            "_view_count": null,
            "_view_module": "@jupyter-widgets/base",
            "_view_module_version": "1.2.0",
            "_view_name": "LayoutView",
            "align_content": null,
            "align_items": null,
            "align_self": null,
            "border": null,
            "bottom": null,
            "display": null,
            "flex": null,
            "flex_flow": null,
            "grid_area": null,
            "grid_auto_columns": null,
            "grid_auto_flow": null,
            "grid_auto_rows": null,
            "grid_column": null,
            "grid_gap": null,
            "grid_row": null,
            "grid_template_areas": null,
            "grid_template_columns": null,
            "grid_template_rows": null,
            "height": null,
            "justify_content": null,
            "justify_items": null,
            "left": null,
            "margin": null,
            "max_height": null,
            "max_width": null,
            "min_height": null,
            "min_width": null,
            "object_fit": null,
            "object_position": null,
            "order": null,
            "overflow": null,
            "overflow_x": null,
            "overflow_y": null,
            "padding": null,
            "right": null,
            "top": null,
            "visibility": null,
            "width": null
          }
        },
        "568d39157b2b49b58bdf13362a1baceb": {
          "model_module": "@jupyter-widgets/controls",
          "model_name": "ProgressStyleModel",
          "model_module_version": "1.5.0",
          "state": {
            "_model_module": "@jupyter-widgets/controls",
            "_model_module_version": "1.5.0",
            "_model_name": "ProgressStyleModel",
            "_view_count": null,
            "_view_module": "@jupyter-widgets/base",
            "_view_module_version": "1.2.0",
            "_view_name": "StyleView",
            "bar_color": null,
            "description_width": ""
          }
        },
        "aaa88968f2e544498e23682b533aaf4d": {
          "model_module": "@jupyter-widgets/base",
          "model_name": "LayoutModel",
          "model_module_version": "1.2.0",
          "state": {
            "_model_module": "@jupyter-widgets/base",
            "_model_module_version": "1.2.0",
            "_model_name": "LayoutModel",
            "_view_count": null,
            "_view_module": "@jupyter-widgets/base",
            "_view_module_version": "1.2.0",
            "_view_name": "LayoutView",
            "align_content": null,
            "align_items": null,
            "align_self": null,
            "border": null,
            "bottom": null,
            "display": null,
            "flex": null,
            "flex_flow": null,
            "grid_area": null,
            "grid_auto_columns": null,
            "grid_auto_flow": null,
            "grid_auto_rows": null,
            "grid_column": null,
            "grid_gap": null,
            "grid_row": null,
            "grid_template_areas": null,
            "grid_template_columns": null,
            "grid_template_rows": null,
            "height": null,
            "justify_content": null,
            "justify_items": null,
            "left": null,
            "margin": null,
            "max_height": null,
            "max_width": null,
            "min_height": null,
            "min_width": null,
            "object_fit": null,
            "object_position": null,
            "order": null,
            "overflow": null,
            "overflow_x": null,
            "overflow_y": null,
            "padding": null,
            "right": null,
            "top": null,
            "visibility": null,
            "width": null
          }
        },
        "e77ef6d1de6746aa8f54dae645257a0c": {
          "model_module": "@jupyter-widgets/controls",
          "model_name": "DescriptionStyleModel",
          "model_module_version": "1.5.0",
          "state": {
            "_model_module": "@jupyter-widgets/controls",
            "_model_module_version": "1.5.0",
            "_model_name": "DescriptionStyleModel",
            "_view_count": null,
            "_view_module": "@jupyter-widgets/base",
            "_view_module_version": "1.2.0",
            "_view_name": "StyleView",
            "description_width": ""
          }
        },
        "f046b1f7e8954eb18a046d7c0c9e5b25": {
          "model_module": "@jupyter-widgets/controls",
          "model_name": "HBoxModel",
          "model_module_version": "1.5.0",
          "state": {
            "_dom_classes": [],
            "_model_module": "@jupyter-widgets/controls",
            "_model_module_version": "1.5.0",
            "_model_name": "HBoxModel",
            "_view_count": null,
            "_view_module": "@jupyter-widgets/controls",
            "_view_module_version": "1.5.0",
            "_view_name": "HBoxView",
            "box_style": "",
            "children": [
              "IPY_MODEL_3d39ca7458fa4494858897c63a79c597",
              "IPY_MODEL_3c62ab7abcfe4e85ac1c8681106f6f78",
              "IPY_MODEL_5c1940a630f24518a2f52b9336c9bb9b"
            ],
            "layout": "IPY_MODEL_8081683fd84b4392a044f7a679bb309a"
          }
        },
        "3d39ca7458fa4494858897c63a79c597": {
          "model_module": "@jupyter-widgets/controls",
          "model_name": "HTMLModel",
          "model_module_version": "1.5.0",
          "state": {
            "_dom_classes": [],
            "_model_module": "@jupyter-widgets/controls",
            "_model_module_version": "1.5.0",
            "_model_name": "HTMLModel",
            "_view_count": null,
            "_view_module": "@jupyter-widgets/controls",
            "_view_module_version": "1.5.0",
            "_view_name": "HTMLView",
            "description": "",
            "description_tooltip": null,
            "layout": "IPY_MODEL_562e17d722a6401281838f166a7cc34a",
            "placeholder": "​",
            "style": "IPY_MODEL_af36e527495c4479992a4733487826ee",
            "value": "Downloading tf_model.h5: 100%"
          }
        },
        "3c62ab7abcfe4e85ac1c8681106f6f78": {
          "model_module": "@jupyter-widgets/controls",
          "model_name": "FloatProgressModel",
          "model_module_version": "1.5.0",
          "state": {
            "_dom_classes": [],
            "_model_module": "@jupyter-widgets/controls",
            "_model_module_version": "1.5.0",
            "_model_name": "FloatProgressModel",
            "_view_count": null,
            "_view_module": "@jupyter-widgets/controls",
            "_view_module_version": "1.5.0",
            "_view_name": "ProgressView",
            "bar_style": "success",
            "description": "",
            "description_tooltip": null,
            "layout": "IPY_MODEL_90956635c5034e79b76dda90ec0e9200",
            "max": 536063208,
            "min": 0,
            "orientation": "horizontal",
            "style": "IPY_MODEL_140b4b9131794c8bacad5bcd7e581570",
            "value": 536063208
          }
        },
        "5c1940a630f24518a2f52b9336c9bb9b": {
          "model_module": "@jupyter-widgets/controls",
          "model_name": "HTMLModel",
          "model_module_version": "1.5.0",
          "state": {
            "_dom_classes": [],
            "_model_module": "@jupyter-widgets/controls",
            "_model_module_version": "1.5.0",
            "_model_name": "HTMLModel",
            "_view_count": null,
            "_view_module": "@jupyter-widgets/controls",
            "_view_module_version": "1.5.0",
            "_view_name": "HTMLView",
            "description": "",
            "description_tooltip": null,
            "layout": "IPY_MODEL_64c3bb61f5434da3993fe27215f2543c",
            "placeholder": "​",
            "style": "IPY_MODEL_082ccae8d6114e6caa900e90bd556c42",
            "value": " 536M/536M [00:04&lt;00:00, 122MB/s]"
          }
        },
        "8081683fd84b4392a044f7a679bb309a": {
          "model_module": "@jupyter-widgets/base",
          "model_name": "LayoutModel",
          "model_module_version": "1.2.0",
          "state": {
            "_model_module": "@jupyter-widgets/base",
            "_model_module_version": "1.2.0",
            "_model_name": "LayoutModel",
            "_view_count": null,
            "_view_module": "@jupyter-widgets/base",
            "_view_module_version": "1.2.0",
            "_view_name": "LayoutView",
            "align_content": null,
            "align_items": null,
            "align_self": null,
            "border": null,
            "bottom": null,
            "display": null,
            "flex": null,
            "flex_flow": null,
            "grid_area": null,
            "grid_auto_columns": null,
            "grid_auto_flow": null,
            "grid_auto_rows": null,
            "grid_column": null,
            "grid_gap": null,
            "grid_row": null,
            "grid_template_areas": null,
            "grid_template_columns": null,
            "grid_template_rows": null,
            "height": null,
            "justify_content": null,
            "justify_items": null,
            "left": null,
            "margin": null,
            "max_height": null,
            "max_width": null,
            "min_height": null,
            "min_width": null,
            "object_fit": null,
            "object_position": null,
            "order": null,
            "overflow": null,
            "overflow_x": null,
            "overflow_y": null,
            "padding": null,
            "right": null,
            "top": null,
            "visibility": null,
            "width": null
          }
        },
        "562e17d722a6401281838f166a7cc34a": {
          "model_module": "@jupyter-widgets/base",
          "model_name": "LayoutModel",
          "model_module_version": "1.2.0",
          "state": {
            "_model_module": "@jupyter-widgets/base",
            "_model_module_version": "1.2.0",
            "_model_name": "LayoutModel",
            "_view_count": null,
            "_view_module": "@jupyter-widgets/base",
            "_view_module_version": "1.2.0",
            "_view_name": "LayoutView",
            "align_content": null,
            "align_items": null,
            "align_self": null,
            "border": null,
            "bottom": null,
            "display": null,
            "flex": null,
            "flex_flow": null,
            "grid_area": null,
            "grid_auto_columns": null,
            "grid_auto_flow": null,
            "grid_auto_rows": null,
            "grid_column": null,
            "grid_gap": null,
            "grid_row": null,
            "grid_template_areas": null,
            "grid_template_columns": null,
            "grid_template_rows": null,
            "height": null,
            "justify_content": null,
            "justify_items": null,
            "left": null,
            "margin": null,
            "max_height": null,
            "max_width": null,
            "min_height": null,
            "min_width": null,
            "object_fit": null,
            "object_position": null,
            "order": null,
            "overflow": null,
            "overflow_x": null,
            "overflow_y": null,
            "padding": null,
            "right": null,
            "top": null,
            "visibility": null,
            "width": null
          }
        },
        "af36e527495c4479992a4733487826ee": {
          "model_module": "@jupyter-widgets/controls",
          "model_name": "DescriptionStyleModel",
          "model_module_version": "1.5.0",
          "state": {
            "_model_module": "@jupyter-widgets/controls",
            "_model_module_version": "1.5.0",
            "_model_name": "DescriptionStyleModel",
            "_view_count": null,
            "_view_module": "@jupyter-widgets/base",
            "_view_module_version": "1.2.0",
            "_view_name": "StyleView",
            "description_width": ""
          }
        },
        "90956635c5034e79b76dda90ec0e9200": {
          "model_module": "@jupyter-widgets/base",
          "model_name": "LayoutModel",
          "model_module_version": "1.2.0",
          "state": {
            "_model_module": "@jupyter-widgets/base",
            "_model_module_version": "1.2.0",
            "_model_name": "LayoutModel",
            "_view_count": null,
            "_view_module": "@jupyter-widgets/base",
            "_view_module_version": "1.2.0",
            "_view_name": "LayoutView",
            "align_content": null,
            "align_items": null,
            "align_self": null,
            "border": null,
            "bottom": null,
            "display": null,
            "flex": null,
            "flex_flow": null,
            "grid_area": null,
            "grid_auto_columns": null,
            "grid_auto_flow": null,
            "grid_auto_rows": null,
            "grid_column": null,
            "grid_gap": null,
            "grid_row": null,
            "grid_template_areas": null,
            "grid_template_columns": null,
            "grid_template_rows": null,
            "height": null,
            "justify_content": null,
            "justify_items": null,
            "left": null,
            "margin": null,
            "max_height": null,
            "max_width": null,
            "min_height": null,
            "min_width": null,
            "object_fit": null,
            "object_position": null,
            "order": null,
            "overflow": null,
            "overflow_x": null,
            "overflow_y": null,
            "padding": null,
            "right": null,
            "top": null,
            "visibility": null,
            "width": null
          }
        },
        "140b4b9131794c8bacad5bcd7e581570": {
          "model_module": "@jupyter-widgets/controls",
          "model_name": "ProgressStyleModel",
          "model_module_version": "1.5.0",
          "state": {
            "_model_module": "@jupyter-widgets/controls",
            "_model_module_version": "1.5.0",
            "_model_name": "ProgressStyleModel",
            "_view_count": null,
            "_view_module": "@jupyter-widgets/base",
            "_view_module_version": "1.2.0",
            "_view_name": "StyleView",
            "bar_color": null,
            "description_width": ""
          }
        },
        "64c3bb61f5434da3993fe27215f2543c": {
          "model_module": "@jupyter-widgets/base",
          "model_name": "LayoutModel",
          "model_module_version": "1.2.0",
          "state": {
            "_model_module": "@jupyter-widgets/base",
            "_model_module_version": "1.2.0",
            "_model_name": "LayoutModel",
            "_view_count": null,
            "_view_module": "@jupyter-widgets/base",
            "_view_module_version": "1.2.0",
            "_view_name": "LayoutView",
            "align_content": null,
            "align_items": null,
            "align_self": null,
            "border": null,
            "bottom": null,
            "display": null,
            "flex": null,
            "flex_flow": null,
            "grid_area": null,
            "grid_auto_columns": null,
            "grid_auto_flow": null,
            "grid_auto_rows": null,
            "grid_column": null,
            "grid_gap": null,
            "grid_row": null,
            "grid_template_areas": null,
            "grid_template_columns": null,
            "grid_template_rows": null,
            "height": null,
            "justify_content": null,
            "justify_items": null,
            "left": null,
            "margin": null,
            "max_height": null,
            "max_width": null,
            "min_height": null,
            "min_width": null,
            "object_fit": null,
            "object_position": null,
            "order": null,
            "overflow": null,
            "overflow_x": null,
            "overflow_y": null,
            "padding": null,
            "right": null,
            "top": null,
            "visibility": null,
            "width": null
          }
        },
        "082ccae8d6114e6caa900e90bd556c42": {
          "model_module": "@jupyter-widgets/controls",
          "model_name": "DescriptionStyleModel",
          "model_module_version": "1.5.0",
          "state": {
            "_model_module": "@jupyter-widgets/controls",
            "_model_module_version": "1.5.0",
            "_model_name": "DescriptionStyleModel",
            "_view_count": null,
            "_view_module": "@jupyter-widgets/base",
            "_view_module_version": "1.2.0",
            "_view_name": "StyleView",
            "description_width": ""
          }
        }
      }
    }
  },
  "cells": [
    {
      "cell_type": "code",
      "execution_count": null,
      "metadata": {
        "colab": {
          "base_uri": "https://localhost:8080/"
        },
        "id": "XrbKsdYmRB86",
        "outputId": "0720cbe7-60a0-4f82-c66e-211662d7185b"
      },
      "outputs": [
        {
          "output_type": "stream",
          "name": "stdout",
          "text": [
            "Mounted at /content/drive\n"
          ]
        }
      ],
      "source": [
        "from google.colab import drive\n",
        "drive.mount('/content/drive')"
      ]
    },
    {
      "cell_type": "code",
      "source": [
        "import tensorflow as tf\n",
        "print(tf.__version__)\n",
        "import string\n",
        "import re\n",
        "import nltk\n",
        "from os import listdir\n",
        "from collections import Counter\n",
        "from numpy import array\n",
        "import numpy as np\n",
        "import pandas as pd\n",
        "from nltk.corpus import stopwords"
      ],
      "metadata": {
        "colab": {
          "base_uri": "https://localhost:8080/"
        },
        "id": "d3FAexYTaeOs",
        "outputId": "2bb90a04-8690-4e89-b8e8-a42365738f08"
      },
      "execution_count": null,
      "outputs": [
        {
          "output_type": "stream",
          "name": "stdout",
          "text": [
            "2.12.0\n"
          ]
        }
      ]
    },
    {
      "cell_type": "code",
      "source": [
        "# device = torch.device('cuda' if torch.cuda.is_available() else 'cpu')"
      ],
      "metadata": {
        "id": "YX2iCeyxSmGY"
      },
      "execution_count": null,
      "outputs": []
    },
    {
      "cell_type": "code",
      "source": [
        "!pip install --upgrade tensorflow-gpu"
      ],
      "metadata": {
        "colab": {
          "base_uri": "https://localhost:8080/"
        },
        "id": "AnO_SNnvaXKs",
        "outputId": "f3a9629b-2c02-4744-f7b9-dc4c78fa454e"
      },
      "execution_count": null,
      "outputs": [
        {
          "output_type": "stream",
          "name": "stdout",
          "text": [
            "Looking in indexes: https://pypi.org/simple, https://us-python.pkg.dev/colab-wheels/public/simple/\n",
            "Collecting tensorflow-gpu\n",
            "  Downloading tensorflow-gpu-2.12.0.tar.gz (2.6 kB)\n",
            "  \u001b[1;31merror\u001b[0m: \u001b[1msubprocess-exited-with-error\u001b[0m\n",
            "  \n",
            "  \u001b[31m×\u001b[0m \u001b[32mpython setup.py egg_info\u001b[0m did not run successfully.\n",
            "  \u001b[31m│\u001b[0m exit code: \u001b[1;36m1\u001b[0m\n",
            "  \u001b[31m╰─>\u001b[0m See above for output.\n",
            "  \n",
            "  \u001b[1;35mnote\u001b[0m: This error originates from a subprocess, and is likely not a problem with pip.\n",
            "  Preparing metadata (setup.py) ... \u001b[?25l\u001b[?25herror\n",
            "\u001b[1;31merror\u001b[0m: \u001b[1mmetadata-generation-failed\u001b[0m\n",
            "\n",
            "\u001b[31m×\u001b[0m Encountered error while generating package metadata.\n",
            "\u001b[31m╰─>\u001b[0m See above for output.\n",
            "\n",
            "\u001b[1;35mnote\u001b[0m: This is an issue with the package mentioned above, not pip.\n",
            "\u001b[1;36mhint\u001b[0m: See above for details.\n"
          ]
        }
      ]
    },
    {
      "cell_type": "code",
      "source": [
        "nltk.download('stopwords')"
      ],
      "metadata": {
        "colab": {
          "base_uri": "https://localhost:8080/"
        },
        "id": "JE3JnewZal3V",
        "outputId": "54396b6f-60e7-4cf6-cc6d-bc669d9e7d23"
      },
      "execution_count": null,
      "outputs": [
        {
          "output_type": "stream",
          "name": "stderr",
          "text": [
            "[nltk_data] Downloading package stopwords to /root/nltk_data...\n",
            "[nltk_data]   Unzipping corpora/stopwords.zip.\n"
          ]
        },
        {
          "output_type": "execute_result",
          "data": {
            "text/plain": [
              "True"
            ]
          },
          "metadata": {},
          "execution_count": 5
        }
      ]
    },
    {
      "cell_type": "code",
      "source": [
        "# turn a doc into clean tokens\n",
        "def clean_doc(doc):\n",
        "# split into tokens by white space\n",
        "    tokens = doc.split()\n",
        "# prepare regex for char filtering\n",
        "    re_punc = re.compile( ' [%s] ' % re.escape(string.punctuation))\n",
        "# remove punctuation from each word\n",
        "    tokens = [re_punc.sub( '' , w) for w in tokens]\n",
        "# remove remaining tokens that are not alphabetic\n",
        "    tokens = [word for word in tokens if word.isalpha()]\n",
        "# filter out stop words\n",
        "    stop_words = set(stopwords.words( 'english' ))\n",
        "    tokens = [w for w in tokens if not w in stop_words]\n",
        "# filter out short tokens\n",
        "    tokens = [word for word in tokens if len(word) > 1]\n",
        "    return tokens\n"
      ],
      "metadata": {
        "id": "rVZQ-gwvau9c"
      },
      "execution_count": null,
      "outputs": []
    },
    {
      "cell_type": "code",
      "source": [
        "# Load the dataset\n",
        "train_df = pd.read_csv(\"/content/drive/MyDrive/NEEWWWWW/DATA_NEW/PC/1000/train_800.csv\")\n",
        "test_df = pd.read_csv(\"/content/drive/MyDrive/NEEWWWWW/DATA_NEW/PC/1000/test_200.csv\")\n"
      ],
      "metadata": {
        "id": "KED1Amj0SogI"
      },
      "execution_count": null,
      "outputs": []
    },
    {
      "cell_type": "code",
      "source": [
        "train_df[['text','label']].head()"
      ],
      "metadata": {
        "colab": {
          "base_uri": "https://localhost:8080/",
          "height": 206
        },
        "id": "tcApnTCZa67d",
        "outputId": "c03fffc4-74e4-4d72-a9e0-b1057b025714"
      },
      "execution_count": null,
      "outputs": [
        {
          "output_type": "execute_result",
          "data": {
            "text/plain": [
              "                                                text  label\n",
              "0               Fast, no paper jams, prints clearly       1\n",
              "1          Fast PPM, Easy Set-up, Output is dry, ...      1\n",
              "2                              Hello Hewlett Packard      1\n",
              "3                            Great quality and speed      1\n",
              "4                             Fast, sharp, reliable.      1"
            ],
            "text/html": [
              "\n",
              "  <div id=\"df-8c331ad8-072d-4a2e-ad17-66701a362bd2\">\n",
              "    <div class=\"colab-df-container\">\n",
              "      <div>\n",
              "<style scoped>\n",
              "    .dataframe tbody tr th:only-of-type {\n",
              "        vertical-align: middle;\n",
              "    }\n",
              "\n",
              "    .dataframe tbody tr th {\n",
              "        vertical-align: top;\n",
              "    }\n",
              "\n",
              "    .dataframe thead th {\n",
              "        text-align: right;\n",
              "    }\n",
              "</style>\n",
              "<table border=\"1\" class=\"dataframe\">\n",
              "  <thead>\n",
              "    <tr style=\"text-align: right;\">\n",
              "      <th></th>\n",
              "      <th>text</th>\n",
              "      <th>label</th>\n",
              "    </tr>\n",
              "  </thead>\n",
              "  <tbody>\n",
              "    <tr>\n",
              "      <th>0</th>\n",
              "      <td>Fast, no paper jams, prints clearly</td>\n",
              "      <td>1</td>\n",
              "    </tr>\n",
              "    <tr>\n",
              "      <th>1</th>\n",
              "      <td>Fast PPM, Easy Set-up, Output is dry, ...</td>\n",
              "      <td>1</td>\n",
              "    </tr>\n",
              "    <tr>\n",
              "      <th>2</th>\n",
              "      <td>Hello Hewlett Packard</td>\n",
              "      <td>1</td>\n",
              "    </tr>\n",
              "    <tr>\n",
              "      <th>3</th>\n",
              "      <td>Great quality and speed</td>\n",
              "      <td>1</td>\n",
              "    </tr>\n",
              "    <tr>\n",
              "      <th>4</th>\n",
              "      <td>Fast, sharp, reliable.</td>\n",
              "      <td>1</td>\n",
              "    </tr>\n",
              "  </tbody>\n",
              "</table>\n",
              "</div>\n",
              "      <button class=\"colab-df-convert\" onclick=\"convertToInteractive('df-8c331ad8-072d-4a2e-ad17-66701a362bd2')\"\n",
              "              title=\"Convert this dataframe to an interactive table.\"\n",
              "              style=\"display:none;\">\n",
              "        \n",
              "  <svg xmlns=\"http://www.w3.org/2000/svg\" height=\"24px\"viewBox=\"0 0 24 24\"\n",
              "       width=\"24px\">\n",
              "    <path d=\"M0 0h24v24H0V0z\" fill=\"none\"/>\n",
              "    <path d=\"M18.56 5.44l.94 2.06.94-2.06 2.06-.94-2.06-.94-.94-2.06-.94 2.06-2.06.94zm-11 1L8.5 8.5l.94-2.06 2.06-.94-2.06-.94L8.5 2.5l-.94 2.06-2.06.94zm10 10l.94 2.06.94-2.06 2.06-.94-2.06-.94-.94-2.06-.94 2.06-2.06.94z\"/><path d=\"M17.41 7.96l-1.37-1.37c-.4-.4-.92-.59-1.43-.59-.52 0-1.04.2-1.43.59L10.3 9.45l-7.72 7.72c-.78.78-.78 2.05 0 2.83L4 21.41c.39.39.9.59 1.41.59.51 0 1.02-.2 1.41-.59l7.78-7.78 2.81-2.81c.8-.78.8-2.07 0-2.86zM5.41 20L4 18.59l7.72-7.72 1.47 1.35L5.41 20z\"/>\n",
              "  </svg>\n",
              "      </button>\n",
              "      \n",
              "  <style>\n",
              "    .colab-df-container {\n",
              "      display:flex;\n",
              "      flex-wrap:wrap;\n",
              "      gap: 12px;\n",
              "    }\n",
              "\n",
              "    .colab-df-convert {\n",
              "      background-color: #E8F0FE;\n",
              "      border: none;\n",
              "      border-radius: 50%;\n",
              "      cursor: pointer;\n",
              "      display: none;\n",
              "      fill: #1967D2;\n",
              "      height: 32px;\n",
              "      padding: 0 0 0 0;\n",
              "      width: 32px;\n",
              "    }\n",
              "\n",
              "    .colab-df-convert:hover {\n",
              "      background-color: #E2EBFA;\n",
              "      box-shadow: 0px 1px 2px rgba(60, 64, 67, 0.3), 0px 1px 3px 1px rgba(60, 64, 67, 0.15);\n",
              "      fill: #174EA6;\n",
              "    }\n",
              "\n",
              "    [theme=dark] .colab-df-convert {\n",
              "      background-color: #3B4455;\n",
              "      fill: #D2E3FC;\n",
              "    }\n",
              "\n",
              "    [theme=dark] .colab-df-convert:hover {\n",
              "      background-color: #434B5C;\n",
              "      box-shadow: 0px 1px 3px 1px rgba(0, 0, 0, 0.15);\n",
              "      filter: drop-shadow(0px 1px 2px rgba(0, 0, 0, 0.3));\n",
              "      fill: #FFFFFF;\n",
              "    }\n",
              "  </style>\n",
              "\n",
              "      <script>\n",
              "        const buttonEl =\n",
              "          document.querySelector('#df-8c331ad8-072d-4a2e-ad17-66701a362bd2 button.colab-df-convert');\n",
              "        buttonEl.style.display =\n",
              "          google.colab.kernel.accessAllowed ? 'block' : 'none';\n",
              "\n",
              "        async function convertToInteractive(key) {\n",
              "          const element = document.querySelector('#df-8c331ad8-072d-4a2e-ad17-66701a362bd2');\n",
              "          const dataTable =\n",
              "            await google.colab.kernel.invokeFunction('convertToInteractive',\n",
              "                                                     [key], {});\n",
              "          if (!dataTable) return;\n",
              "\n",
              "          const docLinkHtml = 'Like what you see? Visit the ' +\n",
              "            '<a target=\"_blank\" href=https://colab.research.google.com/notebooks/data_table.ipynb>data table notebook</a>'\n",
              "            + ' to learn more about interactive tables.';\n",
              "          element.innerHTML = '';\n",
              "          dataTable['output_type'] = 'display_data';\n",
              "          await google.colab.output.renderOutput(dataTable, element);\n",
              "          const docLink = document.createElement('div');\n",
              "          docLink.innerHTML = docLinkHtml;\n",
              "          element.appendChild(docLink);\n",
              "        }\n",
              "      </script>\n",
              "    </div>\n",
              "  </div>\n",
              "  "
            ]
          },
          "metadata": {},
          "execution_count": 8
        }
      ]
    },
    {
      "cell_type": "code",
      "source": [
        "train_df['label'].value_counts()"
      ],
      "metadata": {
        "colab": {
          "base_uri": "https://localhost:8080/"
        },
        "id": "ADV0B36pbDRM",
        "outputId": "933eee59-5b95-4c51-a2c7-e82aa0f9bba7"
      },
      "execution_count": null,
      "outputs": [
        {
          "output_type": "execute_result",
          "data": {
            "text/plain": [
              "1    400\n",
              "0    400\n",
              "Name: label, dtype: int64"
            ]
          },
          "metadata": {},
          "execution_count": 9
        }
      ]
    },
    {
      "cell_type": "code",
      "source": [
        "train_pos_sentences = train_df['text'].loc[train_df.label==1]\n",
        "train_neg_sentences = train_df['text'].loc[train_df.label==0]\n",
        "train_pos_sentences = train_pos_sentences.reset_index(drop=True)\n",
        "train_neg_sentences = train_neg_sentences.reset_index(drop=True)\n",
        "\n",
        "test_pos_sentences = test_df['text'].loc[test_df.label==1]\n",
        "test_neg_sentences = test_df['text'].loc[test_df.label==0]\n",
        "test_pos_sentences = test_pos_sentences.reset_index(drop=True)\n",
        "test_neg_sentences = test_neg_sentences.reset_index(drop=True)"
      ],
      "metadata": {
        "id": "NGihMqIgbGmV"
      },
      "execution_count": null,
      "outputs": []
    },
    {
      "cell_type": "code",
      "source": [
        "print(train_pos_sentences[0:5].values)"
      ],
      "metadata": {
        "colab": {
          "base_uri": "https://localhost:8080/"
        },
        "id": "gqqnlCzLbe1k",
        "outputId": "84fc5353-18ea-4a1b-8e90-c202db0f5129"
      },
      "execution_count": null,
      "outputs": [
        {
          "output_type": "stream",
          "name": "stdout",
          "text": [
            "['  Fast, no paper jams, prints clearly '\n",
            " '        Fast PPM, Easy Set-up, Output is dry, great manual'\n",
            " '        Hello Hewlett Packard' '        Great quality and speed'\n",
            " '        Fast, sharp, reliable.']\n"
          ]
        }
      ]
    },
    {
      "cell_type": "code",
      "source": [
        "print(train_neg_sentences[0:5].values)"
      ],
      "metadata": {
        "colab": {
          "base_uri": "https://localhost:8080/"
        },
        "id": "x_d4nW_rbpYd",
        "outputId": "a48725d2-ae04-4be5-ad40-1f1326689a8b"
      },
      "execution_count": null,
      "outputs": [
        {
          "output_type": "stream",
          "name": "stdout",
          "text": [
            "['  takes a few moments to change ink cartridges'\n",
            " '        Loud, cartridges have to be cleaned for real quality color'\n",
            " \"        can't print, lousy support, bad communications, never again\"\n",
            " '        Hard to find replacement cartridges'\n",
            " '        As always, expensive inks.']\n"
          ]
        }
      ]
    },
    {
      "cell_type": "code",
      "source": [
        "text = train_pos_sentences[0]\n",
        "tokens = clean_doc(text)\n",
        "print(tokens)"
      ],
      "metadata": {
        "colab": {
          "base_uri": "https://localhost:8080/"
        },
        "id": "1VAhFCtKbrR0",
        "outputId": "14226bc5-38a2-4401-cf8c-54a0ca09c597"
      },
      "execution_count": null,
      "outputs": [
        {
          "output_type": "stream",
          "name": "stdout",
          "text": [
            "['paper', 'prints', 'clearly']\n"
          ]
        }
      ]
    },
    {
      "cell_type": "code",
      "source": [
        "# load doc and add to vocab\n",
        "def add_sent_to_vocab(text,vocab):\n",
        "# clean text\n",
        "    tokens = clean_doc(text)\n",
        "# update counts\n",
        "    vocab.update(tokens)\n",
        "\n",
        "def process_docs_to_vocab(sentList, vocab):\n",
        "    for i in range(len(sentList)):\n",
        "        text = sentList[i]\n",
        "        add_sent_to_vocab(text,vocab)\n",
        "       \n",
        "# turn a doc into clean tokens\n",
        "def clean_doc_wVocab(doc, vocab):\n",
        "\t# split into tokens by white space\n",
        "\ttokens = doc.split()\n",
        "\t# prepare regex for char filtering\n",
        "\tre_punc = re.compile('[%s]' % re.escape(string.punctuation))\n",
        "\t# remove punctuation from each word\n",
        "\ttokens = [re_punc.sub('', w) for w in tokens]\n",
        "\t# filter out tokens not in vocab\n",
        "\ttokens = [w for w in tokens if w in vocab]\n",
        "\ttokens = ' '.join(tokens)\n",
        "\treturn tokens\n",
        "\n",
        "# load all docs in a directory, into tokens\n",
        "def process_docs_to_tokens(sentList, vocab):\n",
        "\tdocuments = list()\n",
        "\t# walk through all sentences\n",
        "\tfor i in range(len(sentList)):\n",
        "\t\tdoc = sentList[i]\n",
        "\t\t# clean doc\n",
        "\t\ttokens = clean_doc_wVocab(doc, vocab)\n",
        "\t\t# add to list\n",
        "\t\tdocuments.append(tokens)\n",
        "\treturn documents\n",
        "\n",
        "# integer encode and pad documents\n",
        "def encode_docs(tokenizer, max_length, docs):\n",
        "    # integer encode\n",
        "    encoded = tokenizer.texts_to_sequences(docs)\n",
        "    # pad sequences\n",
        "    padded = tf.keras.preprocessing.sequence.pad_sequences(encoded, maxlen=max_length, padding='post')\n",
        "    return padded\n",
        "\n",
        "# fit a tokenizer\n",
        "def create_tokenizer(lines):\n",
        "\ttokenizer = tf.keras.preprocessing.text.Tokenizer()\n",
        "\ttokenizer.fit_on_texts(lines)\n",
        "\treturn tokenizer"
      ],
      "metadata": {
        "id": "iEWCtiZ3bxx9"
      },
      "execution_count": null,
      "outputs": []
    },
    {
      "cell_type": "code",
      "source": [
        "# define vocab\n",
        "vocab = Counter()\n",
        "# add all docs to vocab\n",
        "process_docs_to_vocab(train_df['text'], vocab)\n",
        "process_docs_to_vocab(test_df['text'], vocab)\n",
        "print(len(vocab))\n",
        "# print the top words in the vocab\n",
        "print(vocab.most_common(50))"
      ],
      "metadata": {
        "colab": {
          "base_uri": "https://localhost:8080/"
        },
        "id": "_1L1Am2Tb1VE",
        "outputId": "61d9e051-96cb-43dd-dc83-71d9d5f28e69"
      },
      "execution_count": null,
      "outputs": [
        {
          "output_type": "stream",
          "name": "stdout",
          "text": [
            "1278\n",
            "[('easy', 81), ('quality', 59), ('good', 47), ('print', 43), ('great', 42), ('ink', 34), ('use', 31), ('Great', 29), ('fast', 29), ('small', 29), ('paper', 27), ('Easy', 27), ('Good', 27), ('printing', 26), ('price', 25), ('Low', 24), ('Very', 22), ('Not', 22), ('printer', 21), ('No', 20), ('high', 19), ('little', 19), ('cartridges', 19), ('color', 18), ('child', 18), ('expensive', 18), ('hard', 18), ('low', 16), ('seat', 16), ('None', 16), ('slow', 16), ('prints', 15), ('The', 15), ('none', 15), ('well', 14), ('one', 14), ('Fast', 13), ('Excellent', 13), ('older', 13), ('inexpensive', 13), ('stroller', 13), ('Quality', 12), ('cheap', 12), ('It', 12), ('set', 12), ('cartridge', 12), ('Price', 11), ('large', 11), ('takes', 11), ('get', 11)]\n"
          ]
        }
      ]
    },
    {
      "cell_type": "code",
      "source": [
        "# load and clean a dataset\n",
        "def load_clean_dataset(vocab):\n",
        "\t# load documents\n",
        "\tneg = process_docs_to_tokens(train_neg_sentences, vocab)\n",
        "\tpos = process_docs_to_tokens(train_pos_sentences, vocab)\n",
        "\tdocs = neg + pos\n",
        "\t# prepare labels\n",
        "\tlabels = array([0 for _ in range(len(neg))] + [1 for _ in range(len(pos))])\n",
        "\treturn docs, labels\n",
        "\n",
        "# load and clean a dataset\n",
        "def load_clean_dataset_test(vocab):\n",
        "\t# load documents\n",
        "\tneg = process_docs_to_tokens(test_neg_sentences, vocab)\n",
        "\tpos = process_docs_to_tokens(test_pos_sentences, vocab)\n",
        "\tdocs = neg + pos\n",
        "\t# prepare labels\n",
        "\tlabels = array([0 for _ in range(len(neg))] + [1 for _ in range(len(pos))])\n",
        "\treturn docs, labels"
      ],
      "metadata": {
        "id": "MyGSm_Dsb5oF"
      },
      "execution_count": null,
      "outputs": []
    },
    {
      "cell_type": "code",
      "source": [
        "# load training data\n",
        "train_docs, ytrain = load_clean_dataset(vocab)\n",
        "# create the tokenizer\n",
        "tokenizer = create_tokenizer(train_docs)\n",
        "# define vocabulary size\n",
        "vocab_size = len(tokenizer.word_index) + 1\n",
        "print('Vocabulary size: %d' % vocab_size)\n",
        "# calculate the maximum sequence length\n",
        "max_length = max([len(s.split()) for s in train_docs])\n",
        "print('Maximum length: %d' % max_length)"
      ],
      "metadata": {
        "colab": {
          "base_uri": "https://localhost:8080/"
        },
        "id": "APszFmKbb8-8",
        "outputId": "ae6e8ec6-ae91-40a3-86a8-d68bd650db44"
      },
      "execution_count": null,
      "outputs": [
        {
          "output_type": "stream",
          "name": "stdout",
          "text": [
            "Vocabulary size: 963\n",
            "Maximum length: 16\n"
          ]
        }
      ]
    },
    {
      "cell_type": "code",
      "source": [
        "print(train_df['text'][0])"
      ],
      "metadata": {
        "colab": {
          "base_uri": "https://localhost:8080/"
        },
        "id": "HOdgrNHhcETs",
        "outputId": "f9eaf454-4e1e-4ff3-c1d3-cafdd481a6ac"
      },
      "execution_count": null,
      "outputs": [
        {
          "output_type": "stream",
          "name": "stdout",
          "text": [
            "  Fast, no paper jams, prints clearly \n"
          ]
        }
      ]
    },
    {
      "cell_type": "code",
      "source": [
        "train_docs[0]"
      ],
      "metadata": {
        "colab": {
          "base_uri": "https://localhost:8080/",
          "height": 36
        },
        "id": "8Hzai_4UcI9U",
        "outputId": "da7406f3-0afc-44c5-a826-d7a3b68fd4bd"
      },
      "execution_count": null,
      "outputs": [
        {
          "output_type": "execute_result",
          "data": {
            "text/plain": [
              "'takes moments change ink cartridges'"
            ],
            "application/vnd.google.colaboratory.intrinsic+json": {
              "type": "string"
            }
          },
          "metadata": {},
          "execution_count": 19
        }
      ]
    },
    {
      "cell_type": "code",
      "source": [
        "Xtrain = encode_docs(tokenizer, max_length, train_docs)"
      ],
      "metadata": {
        "id": "8bYr8INHcLJt"
      },
      "execution_count": null,
      "outputs": []
    },
    {
      "cell_type": "code",
      "source": [
        "print(Xtrain.shape)\n",
        "print(Xtrain[0])"
      ],
      "metadata": {
        "colab": {
          "base_uri": "https://localhost:8080/"
        },
        "id": "mHhXY3LicVri",
        "outputId": "e9e07e73-31dd-42e2-8a2c-5d6f4ecf0feb"
      },
      "execution_count": null,
      "outputs": [
        {
          "output_type": "stream",
          "name": "stdout",
          "text": [
            "(800, 16)\n",
            "[ 53 458 459  15  60   0   0   0   0   0   0   0   0   0   0   0]\n"
          ]
        }
      ]
    },
    {
      "cell_type": "code",
      "source": [
        "t = tokenizer\n",
        "print(t.word_counts)\n",
        "#print(t.document_count)\n",
        "#print(t.word_index)\n",
        "#print(t.word_docs)"
      ],
      "metadata": {
        "colab": {
          "base_uri": "https://localhost:8080/"
        },
        "id": "i6i0wKc5cXwR",
        "outputId": "8968d071-0eb4-4f3f-902c-40d8ef719945"
      },
      "execution_count": null,
      "outputs": [
        {
          "output_type": "stream",
          "name": "stdout",
          "text": [
            "OrderedDict([('takes', 12), ('moments', 1), ('change', 1), ('ink', 24), ('cartridges', 11), ('loud', 8), ('cleaned', 1), ('real', 2), ('quality', 86), ('color', 17), ('print', 40), ('lousy', 1), ('support', 11), ('bad', 6), ('never', 1), ('hard', 27), ('find', 4), ('replacement', 4), ('as', 4), ('always', 2), ('expensive', 24), ('inks', 2), ('running', 5), ('costs', 5), ('noisy', 5), ('large', 14), ('problems', 10), ('consumables', 2), ('somewhat', 8), ('no', 20), ('cons', 1), ('come', 1), ('mind', 1), ('still', 4), ('around', 3), ('price', 47), ('constant', 1), ('maintenance', 4), ('pricey', 8), ('cartridge', 6), ('monitor', 1), ('system', 5), ('leaves', 1), ('something', 1), ('not', 21), ('one', 18), ('slow', 13), ('photos', 10), ('medium', 1), ('regular', 2), ('paper', 29), ('hog', 1), ('epson', 1), ('lines', 1), ('output', 15), ('found', 4), ('minor', 4), ('nozzle', 1), ('clogging', 1), ('issue', 2), ('situations', 1), ('blurred', 1), ('picture', 7), ('none', 29), ('use', 54), ('less', 8), ('printer', 20), ('misfeed', 1), ('macintosh', 1), ('localtalk', 1), ('needs', 10), ('optional', 1), ('interface', 2), ('some', 2), ('information', 1), ('electronic', 1), ('version', 1), ('manual', 6), ('unacceptable', 1), ('black', 8), ('text', 7), ('bit', 3), ('shakes', 1), ('printing', 20), ('may', 9), ('shake', 1), ('desktop', 2), ('rendition', 2), ('poor', 19), ('see', 6), ('opinion', 1), ('pretty', 1), ('very', 20), ('design', 12), ('bigger', 2), ('long', 10), ('time', 13), ('warm', 4), ('page', 6), ('high', 22), ('priced', 6), ('great', 67), ('allow', 2), ('stiff', 1), ('copy', 2), ('lack', 3), ('lcd', 4), ('little', 17), ('warmup', 3), ('longer', 1), ('light', 13), ('indicates', 1), ('that', 2), ('tray', 9), ('size', 11), ('nod', 1), ('screen', 2), ('drivers', 7), ('flash', 10), ('focusing', 1), ('ability', 3), ('pictures', 9), ('best', 11), ('your', 3), ('horrible', 2), ('outdoor', 1), ('you', 11), ('get', 14), ('pay', 3), ('low', 25), ('pic', 2), ('hold', 4), ('many', 8), ('pics', 3), ('resoultion', 1), ('resolution', 7), ('xp', 7), ('work', 7), ('eats', 2), ('batteries', 1), ('fast', 70), ('must', 2), ('removed', 1), ('where', 1), ('removable', 2), ('memory', 15), ('ya', 1), ('paid', 1), ('vague', 1), ('instructions', 2), ('arent', 1), ('much', 5), ('even', 2), ('cheap', 32), ('enough', 8), ('better', 7), ('stuff', 1), ('cracker', 1), ('jack', 1), ('boxes', 1), ('understand', 1), ('construction', 2), ('good', 55), ('makes', 5), ('lighting', 1), ('necessary', 2), ('mine', 2), ('vivitar', 1), ('brand', 1), ('name', 3), ('camera', 6), ('puny', 1), ('internal', 3), ('usb', 12), ('powering', 1), ('operate', 2), ('properly', 1), ('worth', 4), ('money', 5), ('built', 4), ('short', 3), ('range', 3), ('battery', 1), ('cf', 1), ('doors', 2), ('grainy', 1), ('broken', 1), ('defective', 2), ('difficult', 8), ('fold', 11), ('new', 2), ('push', 15), ('lying', 1), ('tip', 1), ('travel', 4), ('the', 15), ('bulky', 14), ('malls', 1), ('baby', 12), ('pushing', 3), ('cause', 2), ('topple', 1), ('backwards', 1), ('yet', 7), ('does', 5), ('easily', 12), ('almost', 1), ('big', 7), ('everyday', 1), ('its', 5), ('manipulate', 1), ('take', 5), ('crowds', 1), ('unless', 1), ('disassemble', 1), ('extremely', 8), ('only', 2), ('seat', 19), ('position', 6), ('know', 2), ('folded', 2), ('lock', 1), ('lacking', 1), ('cutesy', 1), ('gadgets', 1), ('others', 1), ('sometimes', 3), ('control', 2), ('cost', 19), ('adjustment', 2), ('getting', 6), ('used', 7), ('jogging', 4), ('stroller', 15), ('turn', 5), ('rear', 4), ('wheel', 2), ('alignment', 1), ('drift', 1), ('too', 9), ('cheaply', 1), ('made', 2), ('head', 8), ('brake', 3), ('set', 8), ('store', 1), ('comfortable', 10), ('toddlers', 1), ('people', 1), ('excuses', 1), ('fit', 4), ('small', 34), ('car', 9), ('rough', 3), ('terrain', 4), ('balance', 2), ('issues', 2), ('wheels', 9), ('kind', 1), ('like', 8), ('tires', 3), ('go', 4), ('flat', 3), ('recline', 4), ('access', 4), ('basket', 17), ('brakes', 3), ('engage', 1), ('first', 4), ('try', 1), ('lacks', 1), ('parking', 2), ('sun', 1), ('shield', 1), ('awkward', 5), ('bottom', 3), ('transport', 2), ('adjustable', 1), ('shopping', 1), ('higher', 1), ('stationary', 1), ('perfect', 5), ('sports', 1), ('hang', 1), ('putting', 1), ('together', 4), ('problem', 4), ('put', 4), ('away', 1), ('can', 6), ('be', 1), ('drawback', 1), ('reclining', 3), ('joggers', 1), ('sitting', 2), ('folding', 3), ('baskets', 1), ('alittle', 1), ('infants', 1), ('wide', 2), ('breaks', 2), ('wear', 2), ('heavy', 14), ('took', 1), ('awhile', 1), ('eight', 1), ('break', 3), ('well', 22), ('every', 3), ('penny', 1), ('need', 5), ('truck', 1), ('it', 12), ('tipped', 1), ('straps', 1), ('caused', 1), ('otherwise', 2), ('turning', 2), ('easy', 90), ('strap', 1), ('legs', 1), ('retracted', 1), ('canopy', 3), ('brushes', 1), ('older', 14), ('childs', 1), ('mesh', 2), ('review', 2), ('product', 5), ('comparisons', 2), ('replace', 2), ('steep', 1), ('attachment', 3), ('bar', 2), ('vehicles', 1), ('unfolding', 1), ('akward', 1), ('cup', 3), ('holder', 2), ('mention', 2), ('double', 4), ('strollers', 6), ('squeaks', 1), ('quite', 6), ('flimsy', 3), ('months', 6), ('lot', 5), ('room', 8), ('back', 7), ('reclined', 4), ('reliability', 2), ('leg', 1), ('missing', 1), ('storage', 9), ('collapse', 3), ('lift', 1), ('accessible', 3), ('engineering', 1), ('front', 6), ('rider', 1), ('gets', 3), ('kicked', 1), ('seats', 7), ('sit', 6), ('straight', 2), ('inaccessible', 2), ('fully', 2), ('squeaky', 1), ('run', 3), ('reach', 3), ('attached', 3), ('trend', 1), ('phone', 2), ('handle', 3), ('height', 1), ('explorer', 1), ('keep', 2), ('my', 3), ('toddler', 8), ('standing', 3), ('when', 1), ('using', 3), ('infant', 10), ('carrier', 2), ('child', 20), ('cannot', 3), ('manuvering', 1), ('stores', 2), ('fairly', 3), ('taller', 1), ('weight', 8), ('manuver', 1), ('distance', 1), ('catapulting', 1), ('occupant', 1), ('due', 1), ('outgrow', 1), ('maneuver', 6), ('hassle', 2), ('feels', 1), ('strong', 2), ('reliable', 11), ('cumbersome', 1), ('flimsiness', 1), ('pops', 1), ('location', 1), ('designed', 3), ('young', 1), ('children', 13), ('lots', 3), ('repair', 1), ('steer', 5), ('harder', 1), ('positions', 2), ('part', 1), ('padding', 1), ('stand', 4), ('normal', 2), ('harness', 1), ('think', 3), ('maneuverability', 4), ('suitable', 1), ('pretoddlers', 1), ('unfold', 2), ('safety', 2), ('concerns', 1), ('restrained', 1), ('probably', 1), ('choice', 1), ('wanderers', 1), ('closed', 1), ('pushed', 1), ('worst', 1), ('ever', 2), ('grow', 1), ('fall', 1), ('bag', 1), ('software', 16), ('compatible', 2), ('scanner', 12), ('scan', 1), ('par', 1), ('scanning', 1), ('linux', 1), ('far', 5), ('customer', 7), ('service', 8), ('inkjet', 2), ('document', 2), ('bed', 3), ('edges', 1), ('copies', 6), ('bend', 1), ('drum', 6), ('unit', 5), ('gave', 1), ('home', 6), ('driver', 4), ('could', 5), ('errors', 1), ('network', 3), ('port', 3), ('cable', 3), ('box', 2), ('documentation', 3), ('cd', 1), ('life', 4), ('obtrusive', 1), ('power', 3), ('consumption', 2), ('setup', 17), ('cardstock', 1), ('crappy', 1), ('postscript', 2), ('upgrade', 1), ('able', 2), ('limited', 2), ('expansion', 1), ('possibilities', 1), ('on', 3), ('board', 1), ('slightly', 2), ('to', 2), ('in', 1), ('web', 1), ('installation', 1), ('seamless', 1), ('automatic', 3), ('envelope', 2), ('feeder', 3), ('fits', 3), ('letter', 2), ('legal', 2), ('stick', 1), ('beyond', 1), ('body', 1), ('machine', 8), ('nonexpandable', 1), ('feeding', 3), ('touch', 1), ('tricky', 3), ('beige', 1), ('crisp', 5), ('inability', 1), ('increase', 1), ('ram', 2), ('hp', 4), ('buggy', 2), ('mac', 4), ('available', 2), ('sticks', 1), ('toner', 11), ('environments', 1), ('envelopes', 3), ('graphics', 6), ('fuzzy', 1), ('square', 1), ('image', 2), ('supplied', 1), ('excellent', 19), ('susceptible', 1), ('jamming', 1), ('glitches', 1), ('everything', 6), ('this', 3), ('shade', 1), ('annoying', 2), ('quick', 5), ('dialog', 1), ('win', 1), ('handling', 1), ('just', 2), ('prints', 15), ('toners', 1), ('costly', 1), ('stock', 1), ('incorrect', 1), ('test', 1), ('clearing', 1), ('jams', 9), ('requires', 1), ('significant', 1), ('component', 1), ('density', 1), ('load', 1), ('piece', 2), ('loader', 1), ('unreliable', 3), ('assembly', 2), ('possible', 1), ('hurt', 1), ('slide', 1), ('tis', 1), ('operating', 3), ('windows', 7), ('users', 1), ('download', 2), ('additional', 2), ('kit', 1), ('burns', 1), ('glossy', 1), ('means', 1), ('restrictions', 1), ('approx', 1), ('pct', 1), ('address', 2), ('graphic', 1), ('jobs', 2), ('nothing', 2), ('really', 6), ('trouble', 1), ('gray', 1), ('background', 1), ('pages', 3), ('smell', 1), ('inconsistent', 1), ('feed', 4), ('continually', 1), ('dimmed', 1), ('lights', 1), ('parallel', 4), ('clear', 5), ('streaking', 2), ('sucky', 1), ('computer', 1), ('figure', 1), ('handset', 1), ('multiple', 3), ('sending', 1), ('zero', 1), ('writer', 1), ('heads', 3), ('book', 1), ('telephone', 2), ('function', 1), ('produces', 1), ('useless', 1), ('fax', 10), ('if', 3), ('have', 2), ('would', 1), ('suggest', 1), ('separate', 3), ('units', 1), ('for', 4), ('flexibility', 1), ('images', 2), ('will', 1), ('items', 1), ('has', 1), ('difficulty', 1), ('occasional', 1), ('cancelling', 1), ('larger', 1), ('offices', 1), ('item', 2), ('arrived', 1), ('damaged', 1), ('having', 1), ('button', 1), ('but', 1), ('got', 1), ('audible', 1), ('answering', 1), ('space', 5), ('thought', 1), ('complicated', 1), ('last', 4), ('half', 1), ('retail', 1), ('simple', 6), ('terrible', 2), ('false', 1), ('printhead', 2), ('fails', 1), ('nonexistent', 1), ('dries', 1), ('marginal', 1), ('deteriorates', 1), ('disgrace', 1), ('capability', 2), ('goes', 3), ('largest', 1), ('video', 1), ('capture', 2), ('lie', 1), ('replaced', 2), ('twice', 1), ('warranty', 6), ('improvement', 1), ('certain', 1), ('fee', 1), ('frequently', 1), ('fail', 1), ('covered', 1), ('photo', 11), ('is', 3), ('compatable', 1), ('obselescence', 1), ('attempt', 1), ('refill', 1), ('oustside', 1), ('reduction', 1), ('drinks', 1), ('repairs', 1), ('now', 1), ('replacing', 1), ('printouts', 2), ('stripes', 1), ('single', 3), ('sheet', 2), ('complete', 1), ('job', 1), ('sized', 1), ('parts', 1), ('performance', 5), ('deficiencies', 1), ('after', 1), ('thousand', 1), ('flatbed', 4), ('off', 1), ('switch', 1), ('brother', 2), ('reputation', 1), ('uses', 1), ('feeds', 1), ('poorly', 1), ('printout', 3), ('clearly', 1), ('ppm', 2), ('hello', 1), ('hewlett', 1), ('packard', 1), ('speed', 14), ('sharp', 4), ('rich', 1), ('super', 4), ('outstanding', 1), ('superior', 1), ('nice', 7), ('overall', 1), ('unbeatable', 1), ('list', 2), ('economy', 1), ('mode', 5), ('pc', 1), ('results', 1), ('customizable', 1), ('settings', 1), ('tone', 1), ('beautiful', 1), ('economical', 2), ('company', 2), ('trust', 1), ('works', 11), ('digital', 4), ('compact', 7), ('east', 1), ('business', 2), ('terrific', 2), ('faster', 1), ('hook', 1), ('install', 5), ('durability', 4), ('ethernet', 1), ('quet', 1), ('ease', 11), ('footprint', 3), ('included', 1), ('electronically', 2), ('there', 1), ('package', 2), ('editing', 2), ('starter', 1), ('inexpensive', 17), ('comes', 2), ('worked', 1), ('affordable', 7), ('wanted', 1), ('kids', 3), ('fun', 3), ('videos', 1), ('sale', 1), ('holds', 3), ('lowest', 2), ('end', 1), ('offer', 1), ('refuse', 1), ('reasonable', 3), ('kid', 1), ('friendly', 1), ('direct', 1), ('tv', 1), ('free', 1), ('average', 1), ('cheeeeeep', 1), ('turns', 2), ('handles', 1), ('lightweight', 22), ('durable', 11), ('want', 1), ('active', 2), ('lifestyle', 1), ('sturdy', 6), ('clean', 1), ('variety', 3), ('walk', 1), ('daughter', 1), ('loves', 1), ('smooth', 10), ('assemble', 3), ('smoooooth', 1), ('ride', 11), ('restraint', 1), ('sunny', 1), ('tripod', 1), ('types', 1), ('rolls', 1), ('virtually', 1), ('looks', 3), ('solidly', 1), ('folds', 4), ('nicely', 1), ('person', 1), ('ideal', 1), ('rides', 1), ('smoothly', 3), ('style', 1), ('comfy', 3), ('awesome', 1), ('taking', 2), ('manuever', 3), ('pull', 1), ('runs', 3), ('stride', 1), ('strolls', 1), ('different', 1), ('choices', 1), ('comfort', 2), ('literally', 1), ('glides', 1), ('convient', 1), ('roller', 1), ('hand', 1), ('tailored', 1), ('shape', 1), ('useful', 3), ('three', 1), ('lifetime', 1), ('lets', 1), ('son', 1), ('look', 1), ('point', 1), ('way', 2), ('differences', 1), ('throw', 1), ('versatile', 1), ('suv', 1), ('absolutely', 1), ('wonderful', 1), ('accommodating', 1), ('twins', 1), ('special', 1), ('maneuvers', 1), ('ration', 1), ('and', 2), ('roomy', 1), ('abuse', 1), ('remains', 1), ('plenty', 1), ('carries', 1), ('two', 2), ('functional', 1), ('ok', 1), ('carseat', 1), ('feature', 4), ('cars', 1), ('converts', 1), ('materials', 1), ('plushy', 1), ('drives', 1), ('clever', 1), ('idea', 6), ('smaller', 2), ('tandem', 1), ('family', 1), ('open', 1), ('newborn', 1), ('constricting', 1), ('offers', 1), ('convenience', 2), ('accommodates', 1), ('meets', 1), ('unique', 2), ('families', 1), ('walks', 1), ('thinks', 1), ('concept', 1), ('versatility', 2), ('preschoolers', 1), ('allows', 3), ('another', 1), ('lifting', 1), ('sits', 1), ('entertainment', 1), ('place', 1), ('seatbelts', 1), ('security', 1), ('freedom', 2), ('seating', 1), ('preschooler', 2), ('attaches', 1), ('drive', 1), ('being', 1), ('chance', 1), ('features', 5), ('resale', 1), ('value', 1), ('hauling', 1), ('aisles', 1), ('options', 1), ('pushes', 1), ('birth', 1), ('copier', 4), ('lasts', 2), ('laser', 7), ('beat', 2), ('sec', 1), ('lasting', 2), ('decent', 3), ('technical', 1), ('attractive', 1), ('day', 1), ('incredible', 1), ('per', 3), ('quiet', 4), ('sleep', 1), ('remarkably', 1), ('incredibly', 1), ('type', 1), ('proper', 1), ('nearly', 2), ('user', 2), ('office', 3), ('upgradrable', 1), ('reasonably', 2), ('expandable', 1), ('tech', 2), ('beats', 1), ('speeds', 1), ('server', 1), ('os', 1), ('relative', 1), ('standby', 1), ('rarely', 1), ('moderate', 1), ('hibernation', 2), ('white', 1), ('hl', 1), ('banding', 1), ('energy', 1), ('saver', 1), ('solution', 1), ('foot', 1), ('right', 1), ('cheaper', 2), ('needed', 1), ('multifunction', 4), ('efficient', 2), ('pcfax', 1), ('of', 1), ('functions', 5), ('switches', 1), ('all', 3), ('faxing', 2), ('companies', 1), ('buttons', 1), ('placed', 1), ('sort', 1), ('copying', 1), ('usage', 1), ('initial', 1), ('send', 1), ('receive', 1), ('muted', 1), ('convenient', 1), ('simplicity', 1), ('scans', 1), ('switching', 1), ('four', 2), ('capacity', 2), ('keeps', 1), ('aftermarket', 1), ('initially', 1), ('mfc', 2), ('moderately', 1), ('multifunctionality', 1), ('functionality', 1), ('key', 1), ('fair', 1), ('usually', 1), ('case', 1)])\n"
          ]
        }
      ]
    },
    {
      "cell_type": "code",
      "source": [
        "!pip install transformers"
      ],
      "metadata": {
        "colab": {
          "base_uri": "https://localhost:8080/"
        },
        "id": "H0c6UrZteh89",
        "outputId": "b5cb0960-9fd2-4056-ed7d-e3649e87929e"
      },
      "execution_count": null,
      "outputs": [
        {
          "output_type": "stream",
          "name": "stdout",
          "text": [
            "Looking in indexes: https://pypi.org/simple, https://us-python.pkg.dev/colab-wheels/public/simple/\n",
            "Collecting transformers\n",
            "  Downloading transformers-4.28.1-py3-none-any.whl (7.0 MB)\n",
            "\u001b[2K     \u001b[90m━━━━━━━━━━━━━━━━━━━━━━━━━━━━━━━━━━━━━━━━\u001b[0m \u001b[32m7.0/7.0 MB\u001b[0m \u001b[31m63.0 MB/s\u001b[0m eta \u001b[36m0:00:00\u001b[0m\n",
            "\u001b[?25hRequirement already satisfied: numpy>=1.17 in /usr/local/lib/python3.9/dist-packages (from transformers) (1.22.4)\n",
            "Requirement already satisfied: regex!=2019.12.17 in /usr/local/lib/python3.9/dist-packages (from transformers) (2022.10.31)\n",
            "Collecting tokenizers!=0.11.3,<0.14,>=0.11.1\n",
            "  Downloading tokenizers-0.13.3-cp39-cp39-manylinux_2_17_x86_64.manylinux2014_x86_64.whl (7.8 MB)\n",
            "\u001b[2K     \u001b[90m━━━━━━━━━━━━━━━━━━━━━━━━━━━━━━━━━━━━━━━━\u001b[0m \u001b[32m7.8/7.8 MB\u001b[0m \u001b[31m53.5 MB/s\u001b[0m eta \u001b[36m0:00:00\u001b[0m\n",
            "\u001b[?25hRequirement already satisfied: tqdm>=4.27 in /usr/local/lib/python3.9/dist-packages (from transformers) (4.65.0)\n",
            "Requirement already satisfied: filelock in /usr/local/lib/python3.9/dist-packages (from transformers) (3.11.0)\n",
            "Requirement already satisfied: packaging>=20.0 in /usr/local/lib/python3.9/dist-packages (from transformers) (23.0)\n",
            "Requirement already satisfied: pyyaml>=5.1 in /usr/local/lib/python3.9/dist-packages (from transformers) (6.0)\n",
            "Collecting huggingface-hub<1.0,>=0.11.0\n",
            "  Downloading huggingface_hub-0.13.4-py3-none-any.whl (200 kB)\n",
            "\u001b[2K     \u001b[90m━━━━━━━━━━━━━━━━━━━━━━━━━━━━━━━━━━━━━━\u001b[0m \u001b[32m200.1/200.1 kB\u001b[0m \u001b[31m22.4 MB/s\u001b[0m eta \u001b[36m0:00:00\u001b[0m\n",
            "\u001b[?25hRequirement already satisfied: requests in /usr/local/lib/python3.9/dist-packages (from transformers) (2.27.1)\n",
            "Requirement already satisfied: typing-extensions>=3.7.4.3 in /usr/local/lib/python3.9/dist-packages (from huggingface-hub<1.0,>=0.11.0->transformers) (4.5.0)\n",
            "Requirement already satisfied: urllib3<1.27,>=1.21.1 in /usr/local/lib/python3.9/dist-packages (from requests->transformers) (1.26.15)\n",
            "Requirement already satisfied: charset-normalizer~=2.0.0 in /usr/local/lib/python3.9/dist-packages (from requests->transformers) (2.0.12)\n",
            "Requirement already satisfied: idna<4,>=2.5 in /usr/local/lib/python3.9/dist-packages (from requests->transformers) (3.4)\n",
            "Requirement already satisfied: certifi>=2017.4.17 in /usr/local/lib/python3.9/dist-packages (from requests->transformers) (2022.12.7)\n",
            "Installing collected packages: tokenizers, huggingface-hub, transformers\n",
            "Successfully installed huggingface-hub-0.13.4 tokenizers-0.13.3 transformers-4.28.1\n"
          ]
        }
      ]
    },
    {
      "cell_type": "code",
      "source": [
        "# import tensorflow as tf\n",
        "# from transformers import TFAutoModel, AutoTokenizer\n",
        "\n",
        "# def define_model(length, vocab_size):\n",
        "#     # channel 1\n",
        "#     inputs1 = tf.keras.layers.Input(shape=(length,))\n",
        "#     embedding1 = tf.keras.layers.Embedding(vocab_size, 100)(inputs1)\n",
        "#     conv1 = tf.keras.layers.Conv1D(filters=32, kernel_size=4, activation='relu')(embedding1)\n",
        "#     drop1 = tf.keras.layers.Dropout(0.5)(conv1)\n",
        "#     pool1 = tf.keras.layers.MaxPooling1D(pool_size=2)(drop1)\n",
        "#     flat1 = tf.keras.layers.Flatten()(pool1)\n",
        "#     # channel 2\n",
        "#     inputs2 = tf.keras.layers.Input(shape=(length,))\n",
        "#     tokenizer = AutoTokenizer.from_pretrained('bert-base-uncased')\n",
        "#     bert_model = TFAutoModel.from_pretrained('bert-base-uncased')\n",
        "#     input_ids = tf.keras.layers.Input(shape=(length,), dtype=tf.int32, name=\"input_ids\")\n",
        "#     bert_embedding = bert_model(input_ids)[0]\n",
        "#     pooled_output = bert_embedding[:, 0, :]\n",
        "#     dense2 = tf.keras.layers.Dense(100, activation='relu')(pooled_output)\n",
        "#     # channel 3\n",
        "#     inputs3 = tf.keras.layers.Input(shape=(length,))\n",
        "#     embedding3 = tf.keras.layers.Embedding(vocab_size, 100)(inputs3)\n",
        "#     lstm3 = tf.keras.layers.LSTM(64)(embedding3)\n",
        "#     dense3 = tf.keras.layers.Dense(100, activation='relu')(lstm3)\n",
        "#     # merge\n",
        "#     merged = tf.keras.layers.concatenate([flat1, dense2, dense3])\n",
        "#     # interpretation\n",
        "#     dense4 = tf.keras.layers.Dense(10, activation='relu')(merged)\n",
        "#     outputs = tf.keras.layers.Dense(1, activation='sigmoid')(dense4)\n",
        "#     model = tf.keras.models.Model(inputs=[inputs1, input_ids, inputs3], outputs=outputs)\n",
        "#     # compile\n",
        "#     model.compile(loss='binary_crossentropy', optimizer='adam', metrics=['accuracy'])\n",
        "#     # summarize\n",
        "#     print(model.summary())\n",
        "#     return model"
      ],
      "metadata": {
        "id": "cDGoy95cefZ9"
      },
      "execution_count": null,
      "outputs": []
    },
    {
      "cell_type": "code",
      "source": [
        "import tensorflow as tf\n",
        "from transformers import TFAutoModel, AutoTokenizer\n",
        "from gensim.models import KeyedVectors\n",
        "\n",
        "def define_model(length, vocab_size, word2vec_model_path):\n",
        "    # channel 1\n",
        "    inputs1 = tf.keras.layers.Input(shape=(length,), dtype=tf.int32)\n",
        "    tokenizer = AutoTokenizer.from_pretrained('bert-base-uncased')\n",
        "    input_ids = tf.keras.layers.Input(shape=(length,), dtype=tf.int32)\n",
        "    bert_model = TFAutoModel.from_pretrained('bert-base-uncased')\n",
        "    bert_output = bert_model(input_ids)[0] # use only the first tensor returned by the BERT model\n",
        "    pooled_output = bert_output[:, 0, :]\n",
        "    dense1 = tf.keras.layers.Dense(100, activation='relu')(pooled_output)\n",
        "\n",
        "    # channel 2\n",
        "    inputs2 = tf.keras.layers.Input(shape=(length,))\n",
        "    word2vec_model = KeyedVectors.load_word2vec_format(word2vec_model_path, binary=True)\n",
        "    vocab_size = min(vocab_size, len(word2vec_model.key_to_index)) # adjust vocab_size based on actual vocabulary size\n",
        "    embedding_matrix = np.zeros((vocab_size, word2vec_model.vector_size))\n",
        "    for word, index in word2vec_model.key_to_index.items():\n",
        "        if index >= vocab_size:\n",
        "            continue\n",
        "        embedding_matrix[index] = word2vec_model[word]\n",
        "    embedding2 = tf.keras.layers.Embedding(vocab_size, word2vec_model.vector_size, weights=[embedding_matrix], trainable=False)(inputs2)\n",
        "    conv2 = tf.keras.layers.Conv1D(filters=32, kernel_size=4, activation='relu')(embedding2)\n",
        "    drop2 = tf.keras.layers.Dropout(0.5)(conv2)\n",
        "    pool2 = tf.keras.layers.MaxPooling1D(pool_size=2)(drop2)\n",
        "    flat2 = tf.keras.layers.Flatten()(pool2)\n",
        "\n",
        "    # channel 3\n",
        "    inputs3 = tf.keras.layers.Input(shape=(length,))\n",
        "    embedding3 = tf.keras.layers.Embedding(vocab_size, 100)(inputs3)\n",
        "    lstm3 = tf.keras.layers.Bidirectional(tf.keras.layers.LSTM(64))(embedding3)\n",
        "    dense3 = tf.keras.layers.Dense(100, activation='relu')(lstm3)\n",
        "\n",
        "    # merge\n",
        "    merged = tf.keras.layers.concatenate([dense1, flat2, dense3])\n",
        "\n",
        "    # interpretation\n",
        "    dense4 = tf.keras.layers.Dense(10, activation='relu')(merged)\n",
        "    outputs = tf.keras.layers.Dense(1, activation='sigmoid')(dense4)\n",
        "\n",
        "    model = tf.keras.models.Model(inputs=[input_ids, inputs2, inputs3], outputs=outputs)\n",
        "\n",
        "    # compile\n",
        "    model.compile(loss='binary_crossentropy', optimizer='adam', metrics=['accuracy'])\n",
        "\n",
        "    # summarize\n",
        "    print(model.summary())\n",
        "\n",
        "    return model\n",
        "\n",
        "WORD2VEC_MODEL = '/content/drive/MyDrive/NEEWWWWW/GoogleNews-vectors-negative300.bin'\n",
        "model = define_model(length=100, vocab_size=10000, word2vec_model_path=WORD2VEC_MODEL)"
      ],
      "metadata": {
        "colab": {
          "base_uri": "https://localhost:8080/",
          "height": 1000,
          "referenced_widgets": [
            "27519f2166094c699f28e67f0557b01e",
            "cc9c683014b4460ba580faa77236ef0e",
            "47d5b46312894e3c8f3d52a979a8b227",
            "107e87803a534c51922ac471af4c2c40",
            "3ea0ba6b3e3042f6ab9bbc9628631f9e",
            "76d46a7d49a84de0b26b40b7c6d6c200",
            "ac24719a3f7d4598af1966b865010de4",
            "e2656398f56d429986dac18d837e408a",
            "5a87300464f2488587e3e4f2c3a7b1c7",
            "c29e7d54eb2c4e68856c01b2a0f73889",
            "4d671f4d89814f76ad696e326840c90b",
            "b5da982d34de40128113b3f084551fcd",
            "1608865fd8404422876a79fcd7598c33",
            "ab5b2fce63ee4eaabbd5298cac2c6fac",
            "a75e904cee72408ab73d673c47a62251",
            "17c1eea043844e2f9291b4975d29216c",
            "d4fe48d8b38843688fedd4179c1e78f1",
            "8a97ac2d48b34c63bd6edd8bc0a0f53b",
            "2cbc19861d4c46a0b3791c8c1b1f32e5",
            "86982e369a9c4cf8b65788b052003f90",
            "e166b8ffeb4f4f63969d0db71ab50346",
            "56a4f6841ac54c08943206e36bab5124",
            "1f48f8e33d2e4953916eec1d44272eaf",
            "c8426fcd99e346588ab28136014ed8a1",
            "e38c9f3d5686499886716ae170f85762",
            "00cf966d97dd464d8a11e3ac45175a2e",
            "7932f36369e6431ea9e2221e68bfb623",
            "5c181f29d5ca4808a0cdb2d52dd19ded",
            "78c3bd49faad4b899c2a8e66c26c7ce4",
            "4eff8bc55d59456abc9aef9021606261",
            "a5c9c1fba6404676beb4cf2ca0cd7efd",
            "99f8483eb8914acf93de743c79b87159",
            "5fed22c89a33488985a9f41e6eb4c333",
            "21ecebaac55a4bdc90ff3f204247b121",
            "d3b7b89ecee54921a63ee1c72d18fc70",
            "15fb7fd9118648fa8074b358de8fae71",
            "45061ac6a3af416091b9b18007fcce1c",
            "95913bd3292b43eb8a6db86a53dd315c",
            "c2b544c8a8cb420693fb144643eb540a",
            "2a6eecf6b584437a95b43c59fbef9766",
            "977617d194174cbc93ea618318cfbfb6",
            "568d39157b2b49b58bdf13362a1baceb",
            "aaa88968f2e544498e23682b533aaf4d",
            "e77ef6d1de6746aa8f54dae645257a0c",
            "f046b1f7e8954eb18a046d7c0c9e5b25",
            "3d39ca7458fa4494858897c63a79c597",
            "3c62ab7abcfe4e85ac1c8681106f6f78",
            "5c1940a630f24518a2f52b9336c9bb9b",
            "8081683fd84b4392a044f7a679bb309a",
            "562e17d722a6401281838f166a7cc34a",
            "af36e527495c4479992a4733487826ee",
            "90956635c5034e79b76dda90ec0e9200",
            "140b4b9131794c8bacad5bcd7e581570",
            "64c3bb61f5434da3993fe27215f2543c",
            "082ccae8d6114e6caa900e90bd556c42"
          ]
        },
        "id": "1DqA7Ykq4wgj",
        "outputId": "08d9e7af-0058-42ea-93f9-f6593c3256c1"
      },
      "execution_count": null,
      "outputs": [
        {
          "output_type": "display_data",
          "data": {
            "text/plain": [
              "Downloading (…)okenizer_config.json:   0%|          | 0.00/28.0 [00:00<?, ?B/s]"
            ],
            "application/vnd.jupyter.widget-view+json": {
              "version_major": 2,
              "version_minor": 0,
              "model_id": "27519f2166094c699f28e67f0557b01e"
            }
          },
          "metadata": {}
        },
        {
          "output_type": "display_data",
          "data": {
            "text/plain": [
              "Downloading (…)lve/main/config.json:   0%|          | 0.00/570 [00:00<?, ?B/s]"
            ],
            "application/vnd.jupyter.widget-view+json": {
              "version_major": 2,
              "version_minor": 0,
              "model_id": "b5da982d34de40128113b3f084551fcd"
            }
          },
          "metadata": {}
        },
        {
          "output_type": "display_data",
          "data": {
            "text/plain": [
              "Downloading (…)solve/main/vocab.txt:   0%|          | 0.00/232k [00:00<?, ?B/s]"
            ],
            "application/vnd.jupyter.widget-view+json": {
              "version_major": 2,
              "version_minor": 0,
              "model_id": "1f48f8e33d2e4953916eec1d44272eaf"
            }
          },
          "metadata": {}
        },
        {
          "output_type": "display_data",
          "data": {
            "text/plain": [
              "Downloading (…)/main/tokenizer.json:   0%|          | 0.00/466k [00:00<?, ?B/s]"
            ],
            "application/vnd.jupyter.widget-view+json": {
              "version_major": 2,
              "version_minor": 0,
              "model_id": "21ecebaac55a4bdc90ff3f204247b121"
            }
          },
          "metadata": {}
        },
        {
          "output_type": "display_data",
          "data": {
            "text/plain": [
              "Downloading tf_model.h5:   0%|          | 0.00/536M [00:00<?, ?B/s]"
            ],
            "application/vnd.jupyter.widget-view+json": {
              "version_major": 2,
              "version_minor": 0,
              "model_id": "f046b1f7e8954eb18a046d7c0c9e5b25"
            }
          },
          "metadata": {}
        },
        {
          "output_type": "stream",
          "name": "stderr",
          "text": [
            "Some layers from the model checkpoint at bert-base-uncased were not used when initializing TFBertModel: ['nsp___cls', 'mlm___cls']\n",
            "- This IS expected if you are initializing TFBertModel from the checkpoint of a model trained on another task or with another architecture (e.g. initializing a BertForSequenceClassification model from a BertForPreTraining model).\n",
            "- This IS NOT expected if you are initializing TFBertModel from the checkpoint of a model that you expect to be exactly identical (initializing a BertForSequenceClassification model from a BertForSequenceClassification model).\n",
            "All the layers of TFBertModel were initialized from the model checkpoint at bert-base-uncased.\n",
            "If your task is similar to the task the model of the checkpoint was trained on, you can already use TFBertModel for predictions without further training.\n"
          ]
        },
        {
          "output_type": "stream",
          "name": "stdout",
          "text": [
            "Model: \"model\"\n",
            "__________________________________________________________________________________________________\n",
            " Layer (type)                   Output Shape         Param #     Connected to                     \n",
            "==================================================================================================\n",
            " input_3 (InputLayer)           [(None, 100)]        0           []                               \n",
            "                                                                                                  \n",
            " embedding (Embedding)          (None, 100, 300)     3000000     ['input_3[0][0]']                \n",
            "                                                                                                  \n",
            " input_2 (InputLayer)           [(None, 100)]        0           []                               \n",
            "                                                                                                  \n",
            " conv1d (Conv1D)                (None, 97, 32)       38432       ['embedding[0][0]']              \n",
            "                                                                                                  \n",
            " input_4 (InputLayer)           [(None, 100)]        0           []                               \n",
            "                                                                                                  \n",
            " tf_bert_model (TFBertModel)    TFBaseModelOutputWi  109482240   ['input_2[0][0]']                \n",
            "                                thPoolingAndCrossAt                                               \n",
            "                                tentions(last_hidde                                               \n",
            "                                n_state=(None, 100,                                               \n",
            "                                 768),                                                            \n",
            "                                 pooler_output=(Non                                               \n",
            "                                e, 768),                                                          \n",
            "                                 past_key_values=No                                               \n",
            "                                ne, hidden_states=N                                               \n",
            "                                one, attentions=Non                                               \n",
            "                                e, cross_attentions                                               \n",
            "                                =None)                                                            \n",
            "                                                                                                  \n",
            " dropout_37 (Dropout)           (None, 97, 32)       0           ['conv1d[0][0]']                 \n",
            "                                                                                                  \n",
            " embedding_1 (Embedding)        (None, 100, 100)     1000000     ['input_4[0][0]']                \n",
            "                                                                                                  \n",
            " tf.__operators__.getitem (Slic  (None, 768)         0           ['tf_bert_model[0][0]']          \n",
            " ingOpLambda)                                                                                     \n",
            "                                                                                                  \n",
            " max_pooling1d (MaxPooling1D)   (None, 48, 32)       0           ['dropout_37[0][0]']             \n",
            "                                                                                                  \n",
            " bidirectional (Bidirectional)  (None, 128)          84480       ['embedding_1[0][0]']            \n",
            "                                                                                                  \n",
            " dense (Dense)                  (None, 100)          76900       ['tf.__operators__.getitem[0][0]'\n",
            "                                                                 ]                                \n",
            "                                                                                                  \n",
            " flatten (Flatten)              (None, 1536)         0           ['max_pooling1d[0][0]']          \n",
            "                                                                                                  \n",
            " dense_1 (Dense)                (None, 100)          12900       ['bidirectional[0][0]']          \n",
            "                                                                                                  \n",
            " concatenate (Concatenate)      (None, 1736)         0           ['dense[0][0]',                  \n",
            "                                                                  'flatten[0][0]',                \n",
            "                                                                  'dense_1[0][0]']                \n",
            "                                                                                                  \n",
            " dense_2 (Dense)                (None, 10)           17370       ['concatenate[0][0]']            \n",
            "                                                                                                  \n",
            " dense_3 (Dense)                (None, 1)            11          ['dense_2[0][0]']                \n",
            "                                                                                                  \n",
            "==================================================================================================\n",
            "Total params: 113,712,333\n",
            "Trainable params: 110,712,333\n",
            "Non-trainable params: 3,000,000\n",
            "__________________________________________________________________________________________________\n",
            "None\n"
          ]
        }
      ]
    },
    {
      "cell_type": "code",
      "source": [
        "word2vec_model_path = '/content/drive/MyDrive/NEEWWWWW/GoogleNews-vectors-negative300.bin'\n",
        "print(vocab_size)\n",
        "print(max_length)\n",
        "# define model\n",
        "model = define_model(max_length, vocab_size, word2vec_model_path)"
      ],
      "metadata": {
        "colab": {
          "base_uri": "https://localhost:8080/"
        },
        "id": "X2GK1RnqcomF",
        "outputId": "b2a6c1cf-3dc3-4285-acde-ef297e67bbb4"
      },
      "execution_count": null,
      "outputs": [
        {
          "output_type": "stream",
          "name": "stdout",
          "text": [
            "963\n",
            "16\n"
          ]
        },
        {
          "output_type": "stream",
          "name": "stderr",
          "text": [
            "Some layers from the model checkpoint at bert-base-uncased were not used when initializing TFBertModel: ['nsp___cls', 'mlm___cls']\n",
            "- This IS expected if you are initializing TFBertModel from the checkpoint of a model trained on another task or with another architecture (e.g. initializing a BertForSequenceClassification model from a BertForPreTraining model).\n",
            "- This IS NOT expected if you are initializing TFBertModel from the checkpoint of a model that you expect to be exactly identical (initializing a BertForSequenceClassification model from a BertForSequenceClassification model).\n",
            "All the layers of TFBertModel were initialized from the model checkpoint at bert-base-uncased.\n",
            "If your task is similar to the task the model of the checkpoint was trained on, you can already use TFBertModel for predictions without further training.\n"
          ]
        },
        {
          "output_type": "stream",
          "name": "stdout",
          "text": [
            "Model: \"model_1\"\n",
            "__________________________________________________________________________________________________\n",
            " Layer (type)                   Output Shape         Param #     Connected to                     \n",
            "==================================================================================================\n",
            " input_7 (InputLayer)           [(None, 16)]         0           []                               \n",
            "                                                                                                  \n",
            " embedding_2 (Embedding)        (None, 16, 300)      288900      ['input_7[0][0]']                \n",
            "                                                                                                  \n",
            " input_6 (InputLayer)           [(None, 16)]         0           []                               \n",
            "                                                                                                  \n",
            " conv1d_1 (Conv1D)              (None, 13, 32)       38432       ['embedding_2[0][0]']            \n",
            "                                                                                                  \n",
            " input_8 (InputLayer)           [(None, 16)]         0           []                               \n",
            "                                                                                                  \n",
            " tf_bert_model_1 (TFBertModel)  TFBaseModelOutputWi  109482240   ['input_6[0][0]']                \n",
            "                                thPoolingAndCrossAt                                               \n",
            "                                tentions(last_hidde                                               \n",
            "                                n_state=(None, 16,                                                \n",
            "                                768),                                                             \n",
            "                                 pooler_output=(Non                                               \n",
            "                                e, 768),                                                          \n",
            "                                 past_key_values=No                                               \n",
            "                                ne, hidden_states=N                                               \n",
            "                                one, attentions=Non                                               \n",
            "                                e, cross_attentions                                               \n",
            "                                =None)                                                            \n",
            "                                                                                                  \n",
            " dropout_75 (Dropout)           (None, 13, 32)       0           ['conv1d_1[0][0]']               \n",
            "                                                                                                  \n",
            " embedding_3 (Embedding)        (None, 16, 100)      96300       ['input_8[0][0]']                \n",
            "                                                                                                  \n",
            " tf.__operators__.getitem_1 (Sl  (None, 768)         0           ['tf_bert_model_1[0][0]']        \n",
            " icingOpLambda)                                                                                   \n",
            "                                                                                                  \n",
            " max_pooling1d_1 (MaxPooling1D)  (None, 6, 32)       0           ['dropout_75[0][0]']             \n",
            "                                                                                                  \n",
            " bidirectional_1 (Bidirectional  (None, 128)         84480       ['embedding_3[0][0]']            \n",
            " )                                                                                                \n",
            "                                                                                                  \n",
            " dense_4 (Dense)                (None, 100)          76900       ['tf.__operators__.getitem_1[0][0\n",
            "                                                                 ]']                              \n",
            "                                                                                                  \n",
            " flatten_1 (Flatten)            (None, 192)          0           ['max_pooling1d_1[0][0]']        \n",
            "                                                                                                  \n",
            " dense_5 (Dense)                (None, 100)          12900       ['bidirectional_1[0][0]']        \n",
            "                                                                                                  \n",
            " concatenate_1 (Concatenate)    (None, 392)          0           ['dense_4[0][0]',                \n",
            "                                                                  'flatten_1[0][0]',              \n",
            "                                                                  'dense_5[0][0]']                \n",
            "                                                                                                  \n",
            " dense_6 (Dense)                (None, 10)           3930        ['concatenate_1[0][0]']          \n",
            "                                                                                                  \n",
            " dense_7 (Dense)                (None, 1)            11          ['dense_6[0][0]']                \n",
            "                                                                                                  \n",
            "==================================================================================================\n",
            "Total params: 110,084,093\n",
            "Trainable params: 109,795,193\n",
            "Non-trainable params: 288,900\n",
            "__________________________________________________________________________________________________\n",
            "None\n"
          ]
        }
      ]
    },
    {
      "cell_type": "code",
      "source": [
        "# fit model\n",
        "model.fit([Xtrain,Xtrain,Xtrain], ytrain, [Xtest,Xtest,Xtest], ytest, epochs=10)"
      ],
      "metadata": {
        "colab": {
          "base_uri": "https://localhost:8080/"
        },
        "id": "Q90lr9yxcvJ8",
        "outputId": "ee2d74b8-31cf-4dc2-9ea4-0e7ec1b2aa2b"
      },
      "execution_count": null,
      "outputs": [
        {
          "output_type": "stream",
          "name": "stdout",
          "text": [
            "Epoch 1/10\n"
          ]
        },
        {
          "output_type": "stream",
          "name": "stderr",
          "text": [
            "WARNING:tensorflow:Gradients do not exist for variables ['tf_bert_model_1/bert/pooler/dense/kernel:0', 'tf_bert_model_1/bert/pooler/dense/bias:0'] when minimizing the loss. If you're using `model.compile()`, did you forget to provide a `loss` argument?\n",
            "WARNING:tensorflow:Gradients do not exist for variables ['tf_bert_model_1/bert/pooler/dense/kernel:0', 'tf_bert_model_1/bert/pooler/dense/bias:0'] when minimizing the loss. If you're using `model.compile()`, did you forget to provide a `loss` argument?\n",
            "WARNING:tensorflow:Gradients do not exist for variables ['tf_bert_model_1/bert/pooler/dense/kernel:0', 'tf_bert_model_1/bert/pooler/dense/bias:0'] when minimizing the loss. If you're using `model.compile()`, did you forget to provide a `loss` argument?\n",
            "WARNING:tensorflow:Gradients do not exist for variables ['tf_bert_model_1/bert/pooler/dense/kernel:0', 'tf_bert_model_1/bert/pooler/dense/bias:0'] when minimizing the loss. If you're using `model.compile()`, did you forget to provide a `loss` argument?\n"
          ]
        },
        {
          "output_type": "stream",
          "name": "stdout",
          "text": [
            "25/25 [==============================] - 227s 8s/step - loss: 0.7695 - accuracy: 0.5150\n",
            "Epoch 2/10\n",
            "25/25 [==============================] - 167s 7s/step - loss: 0.6696 - accuracy: 0.6162\n",
            "Epoch 3/10\n",
            "25/25 [==============================] - 166s 7s/step - loss: 0.4643 - accuracy: 0.8550\n",
            "Epoch 4/10\n",
            "25/25 [==============================] - 177s 7s/step - loss: 0.1864 - accuracy: 0.9400\n",
            "Epoch 5/10\n",
            "25/25 [==============================] - 166s 7s/step - loss: 0.0990 - accuracy: 0.9700\n",
            "Epoch 6/10\n",
            "25/25 [==============================] - 169s 7s/step - loss: 0.0877 - accuracy: 0.9750\n",
            "Epoch 7/10\n",
            "25/25 [==============================] - 166s 7s/step - loss: 0.0572 - accuracy: 0.9800\n",
            "Epoch 8/10\n",
            "25/25 [==============================] - 169s 7s/step - loss: 0.0511 - accuracy: 0.9825\n",
            "Epoch 9/10\n",
            "25/25 [==============================] - 167s 7s/step - loss: 0.0342 - accuracy: 0.9887\n",
            "Epoch 10/10\n",
            "25/25 [==============================] - 168s 7s/step - loss: 0.0377 - accuracy: 0.9875\n"
          ]
        },
        {
          "output_type": "execute_result",
          "data": {
            "text/plain": [
              "<keras.callbacks.History at 0x7f4d0851ee20>"
            ]
          },
          "metadata": {},
          "execution_count": 27
        }
      ]
    },
    {
      "cell_type": "code",
      "source": [
        "test_docs, ytest = load_clean_dataset_test(vocab)"
      ],
      "metadata": {
        "id": "sVZAWgocdBkN"
      },
      "execution_count": null,
      "outputs": []
    },
    {
      "cell_type": "code",
      "source": [
        "Xtest = encode_docs(tokenizer, max_length, test_docs)"
      ],
      "metadata": {
        "id": "PONDZiTbdE3e"
      },
      "execution_count": null,
      "outputs": []
    },
    {
      "cell_type": "code",
      "source": [
        "# evaluate model on training dataset\n",
        "_, acc = model.evaluate([Xtrain,Xtrain,Xtrain], ytrain, verbose=0)\n",
        "print(' Train Accuracy: %f' % (acc*100))"
      ],
      "metadata": {
        "colab": {
          "base_uri": "https://localhost:8080/"
        },
        "id": "Nob_FVDadHld",
        "outputId": "9ba3752f-eca4-467a-da4e-3e377fa621b3"
      },
      "execution_count": null,
      "outputs": [
        {
          "output_type": "stream",
          "name": "stdout",
          "text": [
            " Train Accuracy: 99.000001\n"
          ]
        }
      ]
    },
    {
      "cell_type": "code",
      "source": [
        "# evaluate model on test dataset\n",
        "_, acc = model.evaluate([Xtest,Xtest,Xtest], ytest, verbose=0)\n",
        "print( ' Test Accuracy: %f ' % (acc*100))\n",
        "     "
      ],
      "metadata": {
        "colab": {
          "base_uri": "https://localhost:8080/"
        },
        "id": "JhPsb9FBdMQ2",
        "outputId": "bed21504-c12c-4c06-a132-5b7089808fe0"
      },
      "execution_count": null,
      "outputs": [
        {
          "output_type": "stream",
          "name": "stdout",
          "text": [
            " Test Accuracy: 87.500000 \n"
          ]
        }
      ]
    },
    {
      "cell_type": "code",
      "source": [
        "model.save('/content/gdrive/My Drive/sent_model_multi_input.h5')"
      ],
      "metadata": {
        "id": "hLYq22qzgwpt"
      },
      "execution_count": null,
      "outputs": []
    }
  ]
}