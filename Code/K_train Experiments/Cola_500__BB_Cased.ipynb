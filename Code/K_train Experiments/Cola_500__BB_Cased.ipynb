{
  "nbformat": 4,
  "nbformat_minor": 0,
  "metadata": {
    "colab": {
      "provenance": []
    },
    "kernelspec": {
      "name": "python3",
      "display_name": "Python 3"
    },
    "language_info": {
      "name": "python"
    },
    "accelerator": "GPU",
    "gpuClass": "standard"
  },
  "cells": [
    {
      "cell_type": "code",
      "execution_count": 381,
      "metadata": {
        "id": "aZ2IV_Mw_q7E",
        "colab": {
          "base_uri": "https://localhost:8080/"
        },
        "outputId": "585fb8e8-b7ed-4262-c8bb-b719e65a29a5"
      },
      "outputs": [
        {
          "output_type": "stream",
          "name": "stdout",
          "text": [
            "Drive already mounted at /content/drive; to attempt to forcibly remount, call drive.mount(\"/content/drive\", force_remount=True).\n"
          ]
        }
      ],
      "source": [
        "from google.colab import drive\n",
        "drive.mount('/content/drive')"
      ]
    },
    {
      "cell_type": "code",
      "source": [
        "!pip install ktrain"
      ],
      "metadata": {
        "id": "Los9lKwWAPl2",
        "colab": {
          "base_uri": "https://localhost:8080/"
        },
        "outputId": "bd4d2d22-003d-4777-aa9f-b4574c409697"
      },
      "execution_count": 382,
      "outputs": [
        {
          "output_type": "stream",
          "name": "stdout",
          "text": [
            "Looking in indexes: https://pypi.org/simple, https://us-python.pkg.dev/colab-wheels/public/simple/\n",
            "Requirement already satisfied: ktrain in /usr/local/lib/python3.8/dist-packages (0.33.0)\n",
            "Requirement already satisfied: chardet in /usr/local/lib/python3.8/dist-packages (from ktrain) (4.0.0)\n",
            "Requirement already satisfied: matplotlib>=3.0.0 in /usr/local/lib/python3.8/dist-packages (from ktrain) (3.2.2)\n",
            "Requirement already satisfied: syntok>1.3.3 in /usr/local/lib/python3.8/dist-packages (from ktrain) (1.4.4)\n",
            "Requirement already satisfied: jieba in /usr/local/lib/python3.8/dist-packages (from ktrain) (0.42.1)\n",
            "Requirement already satisfied: sentencepiece in /usr/local/lib/python3.8/dist-packages (from ktrain) (0.1.97)\n",
            "Requirement already satisfied: fastprogress>=0.1.21 in /usr/local/lib/python3.8/dist-packages (from ktrain) (1.0.3)\n",
            "Requirement already satisfied: keras-bert>=0.86.0 in /usr/local/lib/python3.8/dist-packages (from ktrain) (0.89.0)\n",
            "Requirement already satisfied: joblib in /usr/local/lib/python3.8/dist-packages (from ktrain) (1.2.0)\n",
            "Requirement already satisfied: whoosh in /usr/local/lib/python3.8/dist-packages (from ktrain) (2.7.4)\n",
            "Requirement already satisfied: scikit-learn in /usr/local/lib/python3.8/dist-packages (from ktrain) (1.0.2)\n",
            "Requirement already satisfied: packaging in /usr/local/lib/python3.8/dist-packages (from ktrain) (21.3)\n",
            "Requirement already satisfied: pandas>=1.0.1 in /usr/local/lib/python3.8/dist-packages (from ktrain) (1.3.5)\n",
            "Requirement already satisfied: langdetect in /usr/local/lib/python3.8/dist-packages (from ktrain) (1.0.9)\n",
            "Requirement already satisfied: transformers>=4.17.0 in /usr/local/lib/python3.8/dist-packages (from ktrain) (4.26.0)\n",
            "Requirement already satisfied: requests in /usr/local/lib/python3.8/dist-packages (from ktrain) (2.25.1)\n",
            "Requirement already satisfied: cchardet in /usr/local/lib/python3.8/dist-packages (from ktrain) (2.1.7)\n",
            "Requirement already satisfied: keras-transformer==0.40.0 in /usr/local/lib/python3.8/dist-packages (from keras-bert>=0.86.0->ktrain) (0.40.0)\n",
            "Requirement already satisfied: numpy in /usr/local/lib/python3.8/dist-packages (from keras-bert>=0.86.0->ktrain) (1.21.6)\n",
            "Requirement already satisfied: keras-embed-sim==0.10.0 in /usr/local/lib/python3.8/dist-packages (from keras-transformer==0.40.0->keras-bert>=0.86.0->ktrain) (0.10.0)\n",
            "Requirement already satisfied: keras-pos-embd==0.13.0 in /usr/local/lib/python3.8/dist-packages (from keras-transformer==0.40.0->keras-bert>=0.86.0->ktrain) (0.13.0)\n",
            "Requirement already satisfied: keras-position-wise-feed-forward==0.8.0 in /usr/local/lib/python3.8/dist-packages (from keras-transformer==0.40.0->keras-bert>=0.86.0->ktrain) (0.8.0)\n",
            "Requirement already satisfied: keras-multi-head==0.29.0 in /usr/local/lib/python3.8/dist-packages (from keras-transformer==0.40.0->keras-bert>=0.86.0->ktrain) (0.29.0)\n",
            "Requirement already satisfied: keras-layer-normalization==0.16.0 in /usr/local/lib/python3.8/dist-packages (from keras-transformer==0.40.0->keras-bert>=0.86.0->ktrain) (0.16.0)\n",
            "Requirement already satisfied: keras-self-attention==0.51.0 in /usr/local/lib/python3.8/dist-packages (from keras-multi-head==0.29.0->keras-transformer==0.40.0->keras-bert>=0.86.0->ktrain) (0.51.0)\n",
            "Requirement already satisfied: cycler>=0.10 in /usr/local/lib/python3.8/dist-packages (from matplotlib>=3.0.0->ktrain) (0.11.0)\n",
            "Requirement already satisfied: kiwisolver>=1.0.1 in /usr/local/lib/python3.8/dist-packages (from matplotlib>=3.0.0->ktrain) (1.4.4)\n",
            "Requirement already satisfied: pyparsing!=2.0.4,!=2.1.2,!=2.1.6,>=2.0.1 in /usr/local/lib/python3.8/dist-packages (from matplotlib>=3.0.0->ktrain) (3.0.9)\n",
            "Requirement already satisfied: python-dateutil>=2.1 in /usr/local/lib/python3.8/dist-packages (from matplotlib>=3.0.0->ktrain) (2.8.2)\n",
            "Requirement already satisfied: pytz>=2017.3 in /usr/local/lib/python3.8/dist-packages (from pandas>=1.0.1->ktrain) (2022.7)\n",
            "Requirement already satisfied: regex>2016 in /usr/local/lib/python3.8/dist-packages (from syntok>1.3.3->ktrain) (2022.6.2)\n",
            "Requirement already satisfied: huggingface-hub<1.0,>=0.11.0 in /usr/local/lib/python3.8/dist-packages (from transformers>=4.17.0->ktrain) (0.12.0)\n",
            "Requirement already satisfied: tokenizers!=0.11.3,<0.14,>=0.11.1 in /usr/local/lib/python3.8/dist-packages (from transformers>=4.17.0->ktrain) (0.13.2)\n",
            "Requirement already satisfied: pyyaml>=5.1 in /usr/local/lib/python3.8/dist-packages (from transformers>=4.17.0->ktrain) (6.0)\n",
            "Requirement already satisfied: filelock in /usr/local/lib/python3.8/dist-packages (from transformers>=4.17.0->ktrain) (3.9.0)\n",
            "Requirement already satisfied: tqdm>=4.27 in /usr/local/lib/python3.8/dist-packages (from transformers>=4.17.0->ktrain) (4.64.1)\n",
            "Requirement already satisfied: six in /usr/local/lib/python3.8/dist-packages (from langdetect->ktrain) (1.15.0)\n",
            "Requirement already satisfied: idna<3,>=2.5 in /usr/local/lib/python3.8/dist-packages (from requests->ktrain) (2.10)\n",
            "Requirement already satisfied: certifi>=2017.4.17 in /usr/local/lib/python3.8/dist-packages (from requests->ktrain) (2022.12.7)\n",
            "Requirement already satisfied: urllib3<1.27,>=1.21.1 in /usr/local/lib/python3.8/dist-packages (from requests->ktrain) (1.24.3)\n",
            "Requirement already satisfied: scipy>=1.1.0 in /usr/local/lib/python3.8/dist-packages (from scikit-learn->ktrain) (1.7.3)\n",
            "Requirement already satisfied: threadpoolctl>=2.0.0 in /usr/local/lib/python3.8/dist-packages (from scikit-learn->ktrain) (3.1.0)\n",
            "Requirement already satisfied: typing-extensions>=3.7.4.3 in /usr/local/lib/python3.8/dist-packages (from huggingface-hub<1.0,>=0.11.0->transformers>=4.17.0->ktrain) (4.4.0)\n"
          ]
        }
      ]
    },
    {
      "cell_type": "code",
      "source": [
        "import pandas as pd\n",
        "import numpy as np"
      ],
      "metadata": {
        "id": "qbj-uV0PAWs1"
      },
      "execution_count": 383,
      "outputs": []
    },
    {
      "cell_type": "code",
      "source": [
        "df1 = pd.read_csv('/content/drive/MyDrive/499A_Project/Cola/cola_train_400.csv',index_col=False, encoding='iso-8859-1', \n",
        "                                warn_bad_lines=True, error_bad_lines=False)\n",
        "\n",
        "df2 = pd.read_csv('/content/drive/MyDrive/499A_Project/Cola/cola_test_100.csv',index_col=False, encoding='iso-8859-1', \n",
        "                                warn_bad_lines=True, error_bad_lines=False)"
      ],
      "metadata": {
        "id": "ckqjdLSmAXT1"
      },
      "execution_count": 384,
      "outputs": []
    },
    {
      "cell_type": "code",
      "source": [
        "print(df1.head())"
      ],
      "metadata": {
        "id": "wMyA6wkKAcX1",
        "colab": {
          "base_uri": "https://localhost:8080/"
        },
        "outputId": "14f25a27-8b8d-446b-b4ec-ab4d17509233"
      },
      "execution_count": 385,
      "outputs": [
        {
          "output_type": "stream",
          "name": "stdout",
          "text": [
            "                                        text  label\n",
            "0                            I, I like beer.      0\n",
            "1                          John wrote books.      0\n",
            "2                      Better you not drink.      0\n",
            "3                            The string cut.      0\n",
            "4  Constant reading Shakespeare satisfied me      0\n"
          ]
        }
      ]
    },
    {
      "cell_type": "code",
      "source": [
        "print(df2.head())"
      ],
      "metadata": {
        "id": "3mXmH5t6AfrI",
        "colab": {
          "base_uri": "https://localhost:8080/"
        },
        "outputId": "66c50813-a719-4127-fd3e-95f8877495f1"
      },
      "execution_count": 386,
      "outputs": [
        {
          "output_type": "stream",
          "name": "stdout",
          "text": [
            "                                                text  label\n",
            "0                     John has taken to the library.      0\n",
            "1  Bill left when that no one else was awake is c...      0\n",
            "2                         We offered her with a job.      0\n",
            "3                            John coughed the money.      0\n",
            "4                            The book sent to Peter.      0\n"
          ]
        }
      ]
    },
    {
      "cell_type": "code",
      "source": [
        "df1.label[df1.label == 1]=\"TRUE\"\n",
        "df1.label[df1.label == 0]=\"FALSE\"\n",
        "\n",
        "df2.label[df2.label == 1]=\"TRUE\"\n",
        "df2.label[df2.label == 0]=\"FALSE\""
      ],
      "metadata": {
        "id": "mOd0_JgrAhe1",
        "colab": {
          "base_uri": "https://localhost:8080/"
        },
        "outputId": "33a6dff0-84cc-4ea0-bfa0-bed1121b3d97"
      },
      "execution_count": 387,
      "outputs": [
        {
          "output_type": "stream",
          "name": "stderr",
          "text": [
            "<ipython-input-387-af82ade73374>:1: SettingWithCopyWarning: \n",
            "A value is trying to be set on a copy of a slice from a DataFrame\n",
            "\n",
            "See the caveats in the documentation: https://pandas.pydata.org/pandas-docs/stable/user_guide/indexing.html#returning-a-view-versus-a-copy\n",
            "  df1.label[df1.label == 1]=\"TRUE\"\n",
            "<ipython-input-387-af82ade73374>:4: SettingWithCopyWarning: \n",
            "A value is trying to be set on a copy of a slice from a DataFrame\n",
            "\n",
            "See the caveats in the documentation: https://pandas.pydata.org/pandas-docs/stable/user_guide/indexing.html#returning-a-view-versus-a-copy\n",
            "  df2.label[df2.label == 1]=\"TRUE\"\n"
          ]
        }
      ]
    },
    {
      "cell_type": "code",
      "source": [
        "# taking acceptable and deleting unacceptable\n",
        "df3 = df1[~df1.label.str.contains('TRUE')]\n",
        "df3 = df3.sample(n=200, replace=True)\n",
        "df3[\"label\"].value_counts()"
      ],
      "metadata": {
        "id": "joITgvR2AjMs",
        "colab": {
          "base_uri": "https://localhost:8080/"
        },
        "outputId": "637cd1bc-7980-4f2c-e8d8-bf23324a13e7"
      },
      "execution_count": 388,
      "outputs": [
        {
          "output_type": "execute_result",
          "data": {
            "text/plain": [
              "FALSE    200\n",
              "Name: label, dtype: int64"
            ]
          },
          "metadata": {},
          "execution_count": 388
        }
      ]
    },
    {
      "cell_type": "code",
      "source": [
        "# taking acceptable and deleting unacceptable\n",
        "df4 = df1[~df1.label.str.contains('FALSE')]\n",
        "df4 = df4.sample(n=200, replace=True)\n",
        "df4[\"label\"].value_counts()"
      ],
      "metadata": {
        "id": "zw4UXBdPAk13",
        "colab": {
          "base_uri": "https://localhost:8080/"
        },
        "outputId": "3fbdd59a-2032-4d1f-bc09-7e6ced8758b1"
      },
      "execution_count": 389,
      "outputs": [
        {
          "output_type": "execute_result",
          "data": {
            "text/plain": [
              "TRUE    200\n",
              "Name: label, dtype: int64"
            ]
          },
          "metadata": {},
          "execution_count": 389
        }
      ]
    },
    {
      "cell_type": "code",
      "source": [
        "frames = [df3, df4]\n",
        "\n",
        "temp = pd.concat(frames)"
      ],
      "metadata": {
        "id": "S17xmdvjAlhN"
      },
      "execution_count": 390,
      "outputs": []
    },
    {
      "cell_type": "code",
      "source": [
        "temp[\"label\"].value_counts()"
      ],
      "metadata": {
        "id": "yK9T8QYAAnRt",
        "colab": {
          "base_uri": "https://localhost:8080/"
        },
        "outputId": "b672a02f-989e-4414-ed0c-c66309e688f4"
      },
      "execution_count": 391,
      "outputs": [
        {
          "output_type": "execute_result",
          "data": {
            "text/plain": [
              "FALSE    200\n",
              "TRUE     200\n",
              "Name: label, dtype: int64"
            ]
          },
          "metadata": {},
          "execution_count": 391
        }
      ]
    },
    {
      "cell_type": "code",
      "source": [
        "# taking acceptable and deleting unacceptable\n",
        "df5 = df2[~df2.label.str.contains('TRUE')]\n",
        "df5 = df5.sample(n=50, replace=True)\n",
        "df5[\"label\"].value_counts()"
      ],
      "metadata": {
        "id": "HiNvsVULArQA",
        "colab": {
          "base_uri": "https://localhost:8080/"
        },
        "outputId": "34fe3b0e-2b42-405f-ca4b-3e4dd25df1e2"
      },
      "execution_count": 392,
      "outputs": [
        {
          "output_type": "execute_result",
          "data": {
            "text/plain": [
              "FALSE    50\n",
              "Name: label, dtype: int64"
            ]
          },
          "metadata": {},
          "execution_count": 392
        }
      ]
    },
    {
      "cell_type": "code",
      "source": [
        "# taking acceptable and deleting unacceptable\n",
        "df6 = df2[~df2.label.str.contains('FALSE')]\n",
        "df6 = df6.sample(n=50, replace=True)\n",
        "df6[\"label\"].value_counts()"
      ],
      "metadata": {
        "id": "KmRhUkisAtf0",
        "colab": {
          "base_uri": "https://localhost:8080/"
        },
        "outputId": "222ab05d-f6ef-4aec-bdfd-a613a73151d3"
      },
      "execution_count": 393,
      "outputs": [
        {
          "output_type": "execute_result",
          "data": {
            "text/plain": [
              "TRUE    50\n",
              "Name: label, dtype: int64"
            ]
          },
          "metadata": {},
          "execution_count": 393
        }
      ]
    },
    {
      "cell_type": "code",
      "source": [
        "frames2 = [df5, df6]\n",
        "\n",
        "temp2 = pd.concat(frames2)"
      ],
      "metadata": {
        "id": "zQaqGcT0AvOF"
      },
      "execution_count": 394,
      "outputs": []
    },
    {
      "cell_type": "code",
      "source": [
        "temp2[\"label\"].value_counts()"
      ],
      "metadata": {
        "id": "z6zgAbi9A1tU",
        "colab": {
          "base_uri": "https://localhost:8080/"
        },
        "outputId": "2b26c137-015b-48cf-a89f-7b80a2824341"
      },
      "execution_count": 395,
      "outputs": [
        {
          "output_type": "execute_result",
          "data": {
            "text/plain": [
              "FALSE    50\n",
              "TRUE     50\n",
              "Name: label, dtype: int64"
            ]
          },
          "metadata": {},
          "execution_count": 395
        }
      ]
    },
    {
      "cell_type": "code",
      "source": [
        "frames3 = [df3, df4, df5, df6]\n",
        "\n",
        "temp3 = pd.concat(frames3)"
      ],
      "metadata": {
        "id": "VI5SpYulA5hd"
      },
      "execution_count": 396,
      "outputs": []
    },
    {
      "cell_type": "code",
      "source": [
        "temp3[\"label\"].value_counts()"
      ],
      "metadata": {
        "id": "1QgRxatnA8AF",
        "colab": {
          "base_uri": "https://localhost:8080/"
        },
        "outputId": "2a1cc8e9-0e57-4b42-a820-6bb8cc386e49"
      },
      "execution_count": 397,
      "outputs": [
        {
          "output_type": "execute_result",
          "data": {
            "text/plain": [
              "FALSE    250\n",
              "TRUE     250\n",
              "Name: label, dtype: int64"
            ]
          },
          "metadata": {},
          "execution_count": 397
        }
      ]
    },
    {
      "cell_type": "code",
      "source": [
        "text1 = temp3['text']+temp3['text']\n",
        "emotion= temp3['label'].tolist()\n",
        "text=text1.values.tolist()"
      ],
      "metadata": {
        "id": "vZz7kjCrBV-E"
      },
      "execution_count": 398,
      "outputs": []
    },
    {
      "cell_type": "code",
      "source": [
        "from sklearn.model_selection import train_test_split\n",
        "X_train, X_test, y_train, y_test = train_test_split(text , emotion, test_size=.2, random_state=42)"
      ],
      "metadata": {
        "id": "QwrZ7D0wBCVt"
      },
      "execution_count": 399,
      "outputs": []
    },
    {
      "cell_type": "code",
      "source": [
        "print(len(X_train))\n",
        "print(len(y_train))\n",
        "print(len(X_test))\n",
        "print(len(y_test))"
      ],
      "metadata": {
        "id": "yla6gbMpFrfb",
        "colab": {
          "base_uri": "https://localhost:8080/"
        },
        "outputId": "aeabcf0c-6dbb-4ed9-f09b-89a918ef80fb"
      },
      "execution_count": 400,
      "outputs": [
        {
          "output_type": "stream",
          "name": "stdout",
          "text": [
            "400\n",
            "400\n",
            "100\n",
            "100\n"
          ]
        }
      ]
    },
    {
      "cell_type": "code",
      "source": [
        "!pip install transformers"
      ],
      "metadata": {
        "id": "BXHV0fRuGztI",
        "colab": {
          "base_uri": "https://localhost:8080/"
        },
        "outputId": "676a1f96-7d3c-4e9c-8876-ba7925186ea1"
      },
      "execution_count": 401,
      "outputs": [
        {
          "output_type": "stream",
          "name": "stdout",
          "text": [
            "Looking in indexes: https://pypi.org/simple, https://us-python.pkg.dev/colab-wheels/public/simple/\n",
            "Requirement already satisfied: transformers in /usr/local/lib/python3.8/dist-packages (4.26.0)\n",
            "Requirement already satisfied: regex!=2019.12.17 in /usr/local/lib/python3.8/dist-packages (from transformers) (2022.6.2)\n",
            "Requirement already satisfied: numpy>=1.17 in /usr/local/lib/python3.8/dist-packages (from transformers) (1.21.6)\n",
            "Requirement already satisfied: pyyaml>=5.1 in /usr/local/lib/python3.8/dist-packages (from transformers) (6.0)\n",
            "Requirement already satisfied: requests in /usr/local/lib/python3.8/dist-packages (from transformers) (2.25.1)\n",
            "Requirement already satisfied: huggingface-hub<1.0,>=0.11.0 in /usr/local/lib/python3.8/dist-packages (from transformers) (0.12.0)\n",
            "Requirement already satisfied: packaging>=20.0 in /usr/local/lib/python3.8/dist-packages (from transformers) (21.3)\n",
            "Requirement already satisfied: filelock in /usr/local/lib/python3.8/dist-packages (from transformers) (3.9.0)\n",
            "Requirement already satisfied: tokenizers!=0.11.3,<0.14,>=0.11.1 in /usr/local/lib/python3.8/dist-packages (from transformers) (0.13.2)\n",
            "Requirement already satisfied: tqdm>=4.27 in /usr/local/lib/python3.8/dist-packages (from transformers) (4.64.1)\n",
            "Requirement already satisfied: typing-extensions>=3.7.4.3 in /usr/local/lib/python3.8/dist-packages (from huggingface-hub<1.0,>=0.11.0->transformers) (4.4.0)\n",
            "Requirement already satisfied: pyparsing!=3.0.5,>=2.0.2 in /usr/local/lib/python3.8/dist-packages (from packaging>=20.0->transformers) (3.0.9)\n",
            "Requirement already satisfied: urllib3<1.27,>=1.21.1 in /usr/local/lib/python3.8/dist-packages (from requests->transformers) (1.24.3)\n",
            "Requirement already satisfied: idna<3,>=2.5 in /usr/local/lib/python3.8/dist-packages (from requests->transformers) (2.10)\n",
            "Requirement already satisfied: chardet<5,>=3.0.2 in /usr/local/lib/python3.8/dist-packages (from requests->transformers) (4.0.0)\n",
            "Requirement already satisfied: certifi>=2017.4.17 in /usr/local/lib/python3.8/dist-packages (from requests->transformers) (2022.12.7)\n"
          ]
        }
      ]
    },
    {
      "cell_type": "code",
      "source": [
        "import ktrain\n",
        "from ktrain import text\n",
        "MODEL_NAME = 'bert-base-cased'\n",
        "t = text.Transformer(MODEL_NAME, maxlen=500)"
      ],
      "metadata": {
        "id": "nvDuWIvEQHGQ"
      },
      "execution_count": 402,
      "outputs": []
    },
    {
      "cell_type": "code",
      "source": [
        "trn = t.preprocess_train(X_train, y_train)\n",
        "val = t.preprocess_test(X_test, y_test)"
      ],
      "metadata": {
        "id": "pmaWnkr7Bl2Q",
        "colab": {
          "base_uri": "https://localhost:8080/",
          "height": 243
        },
        "outputId": "79c2c8c0-767a-489d-c81c-528b0c7bfcdb"
      },
      "execution_count": 403,
      "outputs": [
        {
          "output_type": "stream",
          "name": "stdout",
          "text": [
            "preprocessing train...\n",
            "language: en\n",
            "train sequence lengths:\n",
            "\tmean : 15\n",
            "\t95percentile : 31\n",
            "\t99percentile : 41\n"
          ]
        },
        {
          "output_type": "display_data",
          "data": {
            "text/plain": [
              "<IPython.core.display.HTML object>"
            ],
            "text/html": [
              "\n",
              "<style>\n",
              "    /* Turns off some styling */\n",
              "    progress {\n",
              "        /* gets rid of default border in Firefox and Opera. */\n",
              "        border: none;\n",
              "        /* Needs to be in here for Safari polyfill so background images work as expected. */\n",
              "        background-size: auto;\n",
              "    }\n",
              "    progress:not([value]), progress:not([value])::-webkit-progress-bar {\n",
              "        background: repeating-linear-gradient(45deg, #7e7e7e, #7e7e7e 10px, #5c5c5c 10px, #5c5c5c 20px);\n",
              "    }\n",
              "    .progress-bar-interrupted, .progress-bar-interrupted::-webkit-progress-bar {\n",
              "        background: #F44336;\n",
              "    }\n",
              "</style>\n"
            ]
          },
          "metadata": {}
        },
        {
          "output_type": "display_data",
          "data": {
            "text/plain": [
              "<IPython.core.display.HTML object>"
            ],
            "text/html": []
          },
          "metadata": {}
        },
        {
          "output_type": "stream",
          "name": "stdout",
          "text": [
            "Is Multi-Label? False\n",
            "preprocessing test...\n",
            "language: en\n",
            "test sequence lengths:\n",
            "\tmean : 14\n",
            "\t95percentile : 25\n",
            "\t99percentile : 31\n"
          ]
        },
        {
          "output_type": "display_data",
          "data": {
            "text/plain": [
              "<IPython.core.display.HTML object>"
            ],
            "text/html": [
              "\n",
              "<style>\n",
              "    /* Turns off some styling */\n",
              "    progress {\n",
              "        /* gets rid of default border in Firefox and Opera. */\n",
              "        border: none;\n",
              "        /* Needs to be in here for Safari polyfill so background images work as expected. */\n",
              "        background-size: auto;\n",
              "    }\n",
              "    progress:not([value]), progress:not([value])::-webkit-progress-bar {\n",
              "        background: repeating-linear-gradient(45deg, #7e7e7e, #7e7e7e 10px, #5c5c5c 10px, #5c5c5c 20px);\n",
              "    }\n",
              "    .progress-bar-interrupted, .progress-bar-interrupted::-webkit-progress-bar {\n",
              "        background: #F44336;\n",
              "    }\n",
              "</style>\n"
            ]
          },
          "metadata": {}
        },
        {
          "output_type": "display_data",
          "data": {
            "text/plain": [
              "<IPython.core.display.HTML object>"
            ],
            "text/html": []
          },
          "metadata": {}
        }
      ]
    },
    {
      "cell_type": "code",
      "source": [
        "model = t.get_classifier()"
      ],
      "metadata": {
        "id": "JD1oGOX7Bqcs"
      },
      "execution_count": 404,
      "outputs": []
    },
    {
      "cell_type": "code",
      "source": [
        "learner = ktrain.get_learner(model, train_data=trn, val_data=val, batch_size=6)"
      ],
      "metadata": {
        "id": "Oj7L7nV3BtSc"
      },
      "execution_count": 405,
      "outputs": []
    },
    {
      "cell_type": "code",
      "source": [
        "# from transformers import BertTokenizer, BertModel\n",
        "\n",
        "# model_name = 'bert-base-uncased'\n",
        "# tokenizer = BertTokenizer.from_pretrained(model_name)\n",
        "# model = BertModel.from_pretrained(model_name)\n",
        "\n",
        "# num_layers = model.config.num_hidden_layers\n",
        "# print(f'The number of layers in the model is: {num_layers}')"
      ],
      "metadata": {
        "id": "xgmhIVbwDN7Q"
      },
      "execution_count": 406,
      "outputs": []
    },
    {
      "cell_type": "code",
      "source": [
        "# model = t.get_classifier()\n",
        "# for i in range(1):\n",
        "#      layer = model.bert.encoder.layer[i]\n",
        "#      layer.trainable = False\n",
        "\n",
        "# print(f'Layer {i} is trainable: {layer.trainable}')\n"
      ],
      "metadata": {
        "id": "ar9qeCg1xeGi"
      },
      "execution_count": 407,
      "outputs": []
    },
    {
      "cell_type": "code",
      "source": [
        "# for j in range(2):\n",
        "#      layer = model.bert.encoder.layer[j]\n",
        "#      layer.trainable = False\n",
        "# print(f'Layer {j} is trainable: {layer.trainable}')"
      ],
      "metadata": {
        "id": "4QG2hGFbz1Jb"
      },
      "execution_count": 408,
      "outputs": []
    },
    {
      "cell_type": "code",
      "source": [
        "# list = list(range(1,8))\n",
        "# print(list)\n",
        "# for k in range(3):\n",
        "#      model.bert.encoder.layer[k].trainable = False\n",
        "# # for p in range(12):\n",
        "# #      model.bert.encoder.layer[p].trainable = False\n",
        "\n",
        "# if list == k:\n",
        "#  print(f'Layer {list} is trainable: {layer.trainable}')\n",
        "# else:\n",
        "#   print(f'Layer {i} is trainable: {not layer.trainable}')\n",
        "\n",
        "   "
      ],
      "metadata": {
        "id": "1jag0ImS0IUD"
      },
      "execution_count": 409,
      "outputs": []
    },
    {
      "cell_type": "code",
      "source": [
        "# print(f'Layer {i} is trainable: {layer.trainable}')\n",
        "# print(f'Layer {j} is trainable: {layer.trainable}')\n",
        "# print(f'Layer {k} is trainable: {layer.trainable}')"
      ],
      "metadata": {
        "id": "TR3CfAqm0MyR"
      },
      "execution_count": 410,
      "outputs": []
    },
    {
      "cell_type": "code",
      "source": [
        "# print(f'Layer is {0,1,2} trainable: {layer.trainable}')\n",
        "# print(f'Layer is {312} trainable: {layer.trainable}')"
      ],
      "metadata": {
        "id": "8ej-pGpG2abi"
      },
      "execution_count": 411,
      "outputs": []
    },
    {
      "cell_type": "code",
      "source": [
        "# model = t.get_classifier()\n",
        "# for i in range(10,11,13):\n",
        "#      layer = model.bert.encoder.layer[i]\n",
        "#      layer.trainable = False\n",
        "# print(f'Layer {i,i + 1, i + 3}  is trainable: {layer.trainable}')\n",
        "\n",
        "# for j in range (j != (i,i + 1, i + 3)):\n",
        "#      layer = model.bert.encoder.layer[i]\n",
        "#      layer.trainable = True\n",
        "     \n",
        "# print(f'Layer {j+10}  is trainable: {layer.trainable}')\n",
        "# for j in range(2):\n",
        "#      layer = model.bert.encoder.layer[j]\n",
        "#      layer.trainable = False\n",
        "# print(f'Layer {j + 1} is trainable: {layer.trainable}')\n",
        "# for k in range(3):\n",
        "#      layer = model.bert.encoder.layer[k]\n",
        "#      layer.trainable = False\n",
        "# print(f'Layer {k + 1} is trainable: {layer.trainable}')\n",
        "# layer = model.bert.encoder.layer[4]\n",
        "# print(f'Layer is {1,2,3} trainable: {layer.trainable}')"
      ],
      "metadata": {
        "id": "_6thjcT39Fdi"
      },
      "execution_count": 412,
      "outputs": []
    },
    {
      "cell_type": "code",
      "source": [
        "# model = t.get_classifier()\n",
        "# for i in range(10):\n",
        "#      layer = model.bert.encoder.layer[i]\n",
        "#      layer.trainable = False\n",
        "# print(f'Layer {i} is trainable: {layer.trainable}')\n",
        "# for j in range(11):\n",
        "#      layer = model.bert.encoder.layer[j]\n",
        "#      layer.trainable = False\n",
        "# print(f'Layer {j} is trainable: {layer.trainable}')\n",
        "# for k in range(12):\n",
        "#      layer = model.bert.encoder.layer[k]\n",
        "#      layer.trainable = False\n",
        "# print(f'Layer {k} is trainable: {layer.trainable}')\n"
      ],
      "metadata": {
        "id": "O237h9wA7py6"
      },
      "execution_count": 413,
      "outputs": []
    },
    {
      "cell_type": "code",
      "source": [
        "# print(f'Layer {i} is trainable: {layer.trainable}')\n",
        "# print(f'Layer {j} is trainable: {layer.trainable}')\n",
        "# print(f'Layer {k} is trainable: {layer.trainable}')"
      ],
      "metadata": {
        "id": "kIH-OUry8mV7"
      },
      "execution_count": 414,
      "outputs": []
    },
    {
      "cell_type": "code",
      "source": [
        "model = t.get_classifier()\n",
        "trainable_layers = []\n",
        "non_trainable_layers = []\n",
        "\n",
        "for i in range(12):\n",
        "     layer = model.bert.encoder.layer[i]\n",
        "     layer.trainable = True\n",
        "     trainable_layers.append(i)\n",
        "\n",
        "print(f'The number of trainable layers in the model is: {len(trainable_layers)}')\n",
        "print(f'The trainable layers before freezing are: {trainable_layers}')\n",
        "print(f'The number of non-trainable layers after freezing in the model is: {len(non_trainable_layers)}')\n",
        "print(f'The non-trainable layers are: {non_trainable_layers}')\n"
      ],
      "metadata": {
        "colab": {
          "base_uri": "https://localhost:8080/"
        },
        "id": "ZTPn59nEUejj",
        "outputId": "0e11e93e-e5a6-46d7-88b3-ca6d1ec6593b"
      },
      "execution_count": 415,
      "outputs": [
        {
          "output_type": "stream",
          "name": "stdout",
          "text": [
            "The number of trainable layers in the model is: 12\n",
            "The trainable layers before freezing are: [0, 1, 2, 3, 4, 5, 6, 7, 8, 9, 10, 11]\n",
            "The number of non-trainable layers after freezing in the model is: 0\n",
            "The non-trainable layers are: []\n"
          ]
        }
      ]
    },
    {
      "cell_type": "code",
      "source": [
        "# model = t.get_classifier()\n",
        "# trainable_layers = []\n",
        "# non_trainable_layers = []\n",
        "# for i in range(10):\n",
        "#      layer = model.bert.encoder.layer[i]\n",
        "#      layer.trainable = False\n",
        "#      trainable_layers.append(i)\n",
        "# for i in range(9,12):\n",
        "#      layer = model.bert.encoder.layer[i]\n",
        "#      layer.trainable = True\n",
        "#      non_trainable_layers.append(i)\n",
        "     \n",
        "# for i in range(9):\n",
        "#      layer = model.bert.encoder.layer[i]\n",
        "#      layer.trainable = False\n",
        "#      trainable_layers.append(i)\n",
        "\n",
        "# num_trainable_layers = len(trainable_layers)\n",
        "# num_not_trainable_layers = len(non_trainable_layers)\n",
        "\n",
        "# print(f'The number of trainable layers in the model is: {num_trainable_layers}')\n",
        "# print(f'The trainable layers before freezing are: {trainable_layers}')\n",
        "# print(f'The number of non-trainable layers after freezing in the model is: {num_not_trainable_layers}')\n",
        "# print(f'The non-trainable layers are: {non_trainable_layers}')"
      ],
      "metadata": {
        "id": "GJ5HGlQHKIeJ"
      },
      "execution_count": 416,
      "outputs": []
    },
    {
      "cell_type": "code",
      "source": [
        "# trainable_layers = []\n",
        "# non_trainable_layers = []\n",
        "# for i, layer in enumerate(model.bert.encoder.layer):\n",
        "#     if layer.trainable:\n",
        "#         trainable_layers.append(i)\n",
        "#     else:\n",
        "#         non_trainable_layers.append(i)\n",
        "\n",
        "# num_trainable_layers = len(trainable_layers)\n",
        "# num_not_trainable_layers = len(non_trainable_layers)\n",
        "\n",
        "# print(f'The number of trainable layers in the model is: {num_trainable_layers}')\n",
        "# print(f'The trainable layers before freezing are: {trainable_layers}')\n",
        "# print(f'The number of non-trainable layers after freezing in the model is: {num_not_trainable_layers}')\n",
        "# print(f'The non-trainable layers are: {non_trainable_layers}')"
      ],
      "metadata": {
        "id": "c03cv71PIO2y"
      },
      "execution_count": 417,
      "outputs": []
    },
    {
      "cell_type": "code",
      "source": [
        "# trainable_layers = []\n",
        "# non_trainable_layers = []\n",
        "\n",
        "# for i, layer in enumerate(model.bert.encoder.layer):\n",
        "#     if layer.trainable:\n",
        "#         trainable_layers.append(i)\n",
        "#     else:\n",
        "#         non_trainable_layers.append(i)\n",
        "       \n",
        "# num_trainable_layers = len(trainable_layers)\n",
        "# num_not_trainable_layers = len(non_trainable_layers)\n",
        "\n",
        "# print(f'The number of trainable layers in the model is: {num_trainable_layers}')\n",
        "# print(f'The trainable layers before freezing are: {trainable_layers}')\n",
        "# print(f'The number of non-trainable layers after freezing in the model is: {num_not_trainable_layers}')\n",
        "# print(f'The non-trainable layers are: {non_trainable_layers}')"
      ],
      "metadata": {
        "id": "xW5kTb7WCim-"
      },
      "execution_count": 418,
      "outputs": []
    },
    {
      "cell_type": "code",
      "source": [
        "# print(f'The number of layers in the model is: {num_layers}')"
      ],
      "metadata": {
        "id": "cAGWmHU_5YQa"
      },
      "execution_count": 419,
      "outputs": []
    },
    {
      "cell_type": "code",
      "source": [
        "# model = t.get_classifier()\n",
        "\n",
        "# for layer in model.layers[:6]:\n",
        "#     layer.trainable = False\n",
        "\n",
        "# print(f'Layer {i} is trainable: {layer.trainable}')"
      ],
      "metadata": {
        "id": "70w_WBa0C5RI"
      },
      "execution_count": 420,
      "outputs": []
    },
    {
      "cell_type": "code",
      "source": [
        "# for layer in model.layers[:4]:\n",
        "#     layer.trainable = False"
      ],
      "metadata": {
        "id": "4MDI4cFfAMyX"
      },
      "execution_count": 421,
      "outputs": []
    },
    {
      "cell_type": "code",
      "source": [
        "# for i, layer in enumerate(model.layers[:4]):\n",
        "#   print(f'Layer {i} is trainable: {layer.trainable}')"
      ],
      "metadata": {
        "id": "D_WEtPiKAizX"
      },
      "execution_count": 422,
      "outputs": []
    },
    {
      "cell_type": "code",
      "source": [
        "learner.lr_find(show_plot=True, max_epochs=1)"
      ],
      "metadata": {
        "id": "scw1PDU2xB_e",
        "colab": {
          "base_uri": "https://localhost:8080/",
          "height": 442
        },
        "outputId": "53a22912-b63d-4161-916f-72822209177e"
      },
      "execution_count": 423,
      "outputs": [
        {
          "output_type": "stream",
          "name": "stdout",
          "text": [
            "simulating training for different learning rates... this may take a few moments...\n",
            "66/66 [==============================] - 69s 669ms/step - loss: 24.0855 - accuracy: 0.5106\n"
          ]
        },
        {
          "output_type": "stream",
          "name": "stderr",
          "text": [
            "/usr/local/lib/python3.8/dist-packages/ktrain/lroptimize/lrfinder.py:267: UserWarning: Shape of array too small to calculate a numerical gradient, at least (edge_order + 1) elements are required.\n",
            "  warnings.warn(str(e))\n"
          ]
        },
        {
          "output_type": "stream",
          "name": "stdout",
          "text": [
            "\n",
            "\n",
            "done.\n",
            "Visually inspect loss plot and select learning rate associated with falling loss\n"
          ]
        },
        {
          "output_type": "display_data",
          "data": {
            "text/plain": [
              "<Figure size 432x288 with 1 Axes>"
            ],
            "image/png": "[encoded data removed]"
          },
          "metadata": {
            "needs_background": "light"
          }
        }
      ]
    },
    {
      "cell_type": "code",
      "source": [
        "history = learner.fit_onecycle(2e-5, 10)"
      ],
      "metadata": {
        "id": "GoeOsKn-Bw60",
        "colab": {
          "base_uri": "https://localhost:8080/"
        },
        "outputId": "a3b3cc7f-a2a0-4aff-d4da-100254c25d21"
      },
      "execution_count": 424,
      "outputs": [
        {
          "output_type": "stream",
          "name": "stdout",
          "text": [
            "\n",
            "\n",
            "begin training using onecycle policy with max lr of 2e-05...\n",
            "Epoch 1/10\n",
            "67/67 [==============================] - 66s 764ms/step - loss: 0.6850 - accuracy: 0.5700 - val_loss: 0.6774 - val_accuracy: 0.6500\n",
            "Epoch 2/10\n",
            "67/67 [==============================] - 48s 711ms/step - loss: 0.6485 - accuracy: 0.6400 - val_loss: 0.5973 - val_accuracy: 0.6900\n",
            "Epoch 3/10\n",
            "67/67 [==============================] - 48s 715ms/step - loss: 0.4508 - accuracy: 0.8125 - val_loss: 0.4779 - val_accuracy: 0.8000\n",
            "Epoch 4/10\n",
            "67/67 [==============================] - 48s 712ms/step - loss: 0.2456 - accuracy: 0.9150 - val_loss: 0.4162 - val_accuracy: 0.8600\n",
            "Epoch 5/10\n",
            "67/67 [==============================] - 48s 713ms/step - loss: 0.1151 - accuracy: 0.9675 - val_loss: 0.5901 - val_accuracy: 0.8100\n",
            "Epoch 6/10\n",
            "67/67 [==============================] - 48s 714ms/step - loss: 0.1036 - accuracy: 0.9725 - val_loss: 0.4535 - val_accuracy: 0.8300\n",
            "Epoch 7/10\n",
            "67/67 [==============================] - 48s 711ms/step - loss: 0.0561 - accuracy: 0.9875 - val_loss: 0.5409 - val_accuracy: 0.8500\n",
            "Epoch 8/10\n",
            "67/67 [==============================] - 48s 714ms/step - loss: 0.0555 - accuracy: 0.9875 - val_loss: 0.4586 - val_accuracy: 0.8900\n",
            "Epoch 9/10\n",
            "67/67 [==============================] - 48s 713ms/step - loss: 0.0300 - accuracy: 0.9925 - val_loss: 0.4386 - val_accuracy: 0.8800\n",
            "Epoch 10/10\n",
            "67/67 [==============================] - 48s 713ms/step - loss: 0.0232 - accuracy: 0.9950 - val_loss: 0.4460 - val_accuracy: 0.8800\n"
          ]
        }
      ]
    },
    {
      "cell_type": "code",
      "source": [
        "class_names=[\"acpt\",\"unac\"]"
      ],
      "metadata": {
        "id": "9-BaaWcVCK5s"
      },
      "execution_count": 425,
      "outputs": []
    },
    {
      "cell_type": "code",
      "source": [
        "learner.validate(val_data=(val), class_names=class_names)"
      ],
      "metadata": {
        "id": "lqw_fL-OCMkk",
        "colab": {
          "base_uri": "https://localhost:8080/"
        },
        "outputId": "48168e48-c91d-4e16-8ac4-df0994b19c01"
      },
      "execution_count": 426,
      "outputs": [
        {
          "output_type": "stream",
          "name": "stdout",
          "text": [
            "4/4 [==============================] - 3s 114ms/step\n",
            "              precision    recall  f1-score   support\n",
            "\n",
            "        acpt       0.98      0.78      0.87        51\n",
            "        unac       0.81      0.98      0.89        49\n",
            "\n",
            "    accuracy                           0.88       100\n",
            "   macro avg       0.89      0.88      0.88       100\n",
            "weighted avg       0.90      0.88      0.88       100\n",
            "\n"
          ]
        },
        {
          "output_type": "execute_result",
          "data": {
            "text/plain": [
              "array([[40, 11],\n",
              "       [ 1, 48]])"
            ]
          },
          "metadata": {},
          "execution_count": 426
        }
      ]
    },
    {
      "cell_type": "code",
      "source": [
        "learner.lr_find(show_plot=True, max_epochs=1)"
      ],
      "metadata": {
        "id": "mneLeIYa1Ypd",
        "colab": {
          "base_uri": "https://localhost:8080/",
          "height": 442
        },
        "outputId": "950a1fec-c393-4118-dc73-2bd84fd0e047"
      },
      "execution_count": 427,
      "outputs": [
        {
          "output_type": "stream",
          "name": "stdout",
          "text": [
            "simulating training for different learning rates... this may take a few moments...\n",
            "66/66 [==============================] - 28s 416ms/step - loss: 0.2306 - accuracy: 0.9145\n"
          ]
        },
        {
          "output_type": "stream",
          "name": "stderr",
          "text": [
            "/usr/local/lib/python3.8/dist-packages/ktrain/lroptimize/lrfinder.py:267: UserWarning: Shape of array too small to calculate a numerical gradient, at least (edge_order + 1) elements are required.\n",
            "  warnings.warn(str(e))\n"
          ]
        },
        {
          "output_type": "stream",
          "name": "stdout",
          "text": [
            "\n",
            "\n",
            "done.\n",
            "Visually inspect loss plot and select learning rate associated with falling loss\n"
          ]
        },
        {
          "output_type": "display_data",
          "data": {
            "text/plain": [
              "<Figure size 432x288 with 1 Axes>"
            ],
            "image/png": "[encoded data removed]"
          },
          "metadata": {
            "needs_background": "light"
          }
        }
      ]
    },
    {
      "cell_type": "code",
      "source": [
        "import matplotlib.pyplot as plt"
      ],
      "metadata": {
        "id": "JR38-Du0y112"
      },
      "execution_count": 428,
      "outputs": []
    },
    {
      "cell_type": "code",
      "source": [
        "\n",
        "def PlotGraph(history):\n",
        "    acc = history.history['accuracy']\n",
        "    val_acc = history.history['val_accuracy']\n",
        "    loss = history.history['loss']\n",
        "    val_loss = history.history['val_loss']\n",
        "    x = range(1, len(acc) + 1)\n",
        "\n",
        "    plt.figure(figsize=(12, 5))\n",
        "    plt.subplot(1, 2, 1)\n",
        "    plt.plot(x, acc, 'g', label='Training acc')\n",
        "    plt.plot(x, val_acc, 'b', label='Validation acc')\n",
        "    plt.title('Training and validation accuracy')\n",
        "    plt.legend()\n",
        "    plt.subplot(1, 2, 2)\n",
        "    plt.plot(x, loss, 'g', label='Training loss')\n",
        "    plt.plot(x, val_loss, 'b', label='Validation loss')\n",
        "    plt.title('Training and validation loss')\n",
        "    plt.legend() "
      ],
      "metadata": {
        "id": "jiYNbvxpsqXx"
      },
      "execution_count": 429,
      "outputs": []
    },
    {
      "cell_type": "code",
      "source": [
        "PlotGraph(history)"
      ],
      "metadata": {
        "id": "M-wuSg_NxWWf",
        "colab": {
          "base_uri": "https://localhost:8080/",
          "height": 336
        },
        "outputId": "289e2ce1-59f4-45a4-ade5-4bd1c3d44d61"
      },
      "execution_count": 430,
      "outputs": [
        {
          "output_type": "display_data",
          "data": {
            "text/plain": [
              "<Figure size 864x360 with 2 Axes>"
            ],
            "image/png": "[encoded data removed]"
          },
          "metadata": {
            "needs_background": "light"
          }
        }
      ]
    },
    {
      "cell_type": "code",
      "source": [
        "learner.plot('loss')"
      ],
      "metadata": {
        "id": "JNhat4B_xase",
        "colab": {
          "base_uri": "https://localhost:8080/",
          "height": 295
        },
        "outputId": "886d3ad0-984b-483a-e3e3-8895c2c68d70"
      },
      "execution_count": 431,
      "outputs": [
        {
          "output_type": "display_data",
          "data": {
            "text/plain": [
              "<Figure size 432x288 with 1 Axes>"
            ],
            "image/png": "[encoded data removed]"
          },
          "metadata": {
            "needs_background": "light"
          }
        }
      ]
    }
  ]
}