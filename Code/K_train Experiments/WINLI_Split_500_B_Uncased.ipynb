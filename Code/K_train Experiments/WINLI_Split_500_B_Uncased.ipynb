{
  "nbformat": 4,
  "nbformat_minor": 0,
  "metadata": {
    "colab": {
      "provenance": []
    },
    "kernelspec": {
      "name": "python3",
      "display_name": "Python 3"
    },
    "language_info": {
      "name": "python"
    },
    "accelerator": "GPU",
    "gpuClass": "standard"
  },
  "cells": [
    {
      "cell_type": "code",
      "execution_count": null,
      "metadata": {
        "id": "ewSNbJYBCAAC",
        "colab": {
          "base_uri": "https://localhost:8080/"
        },
        "outputId": "f21cc987-d3e3-4510-e2a8-f35598eeb529"
      },
      "outputs": [
        {
          "output_type": "stream",
          "name": "stdout",
          "text": [
            "Drive already mounted at /content/drive; to attempt to forcibly remount, call drive.mount(\"/content/drive\", force_remount=True).\n"
          ]
        }
      ],
      "source": [
        "from google.colab import drive\n",
        "drive.mount('/content/drive')"
      ]
    },
    {
      "cell_type": "code",
      "source": [
        "!pip install ktrain"
      ],
      "metadata": {
        "id": "lymMuhfUCMUf",
        "colab": {
          "base_uri": "https://localhost:8080/"
        },
        "outputId": "e6a33f3f-a301-4ec9-c9da-307a80937bc1"
      },
      "execution_count": null,
      "outputs": [
        {
          "output_type": "stream",
          "name": "stdout",
          "text": [
            "Looking in indexes: https://pypi.org/simple, https://us-python.pkg.dev/colab-wheels/public/simple/\n",
            "Requirement already satisfied: ktrain in /usr/local/lib/python3.8/dist-packages (0.33.0)\n",
            "Requirement already satisfied: syntok>1.3.3 in /usr/local/lib/python3.8/dist-packages (from ktrain) (1.4.4)\n",
            "Requirement already satisfied: packaging in /usr/local/lib/python3.8/dist-packages (from ktrain) (21.3)\n",
            "Requirement already satisfied: keras-bert>=0.86.0 in /usr/local/lib/python3.8/dist-packages (from ktrain) (0.89.0)\n",
            "Requirement already satisfied: jieba in /usr/local/lib/python3.8/dist-packages (from ktrain) (0.42.1)\n",
            "Requirement already satisfied: scikit-learn in /usr/local/lib/python3.8/dist-packages (from ktrain) (1.0.2)\n",
            "Requirement already satisfied: fastprogress>=0.1.21 in /usr/local/lib/python3.8/dist-packages (from ktrain) (1.0.3)\n",
            "Requirement already satisfied: matplotlib>=3.0.0 in /usr/local/lib/python3.8/dist-packages (from ktrain) (3.2.2)\n",
            "Requirement already satisfied: joblib in /usr/local/lib/python3.8/dist-packages (from ktrain) (1.2.0)\n",
            "Requirement already satisfied: whoosh in /usr/local/lib/python3.8/dist-packages (from ktrain) (2.7.4)\n",
            "Requirement already satisfied: requests in /usr/local/lib/python3.8/dist-packages (from ktrain) (2.25.1)\n",
            "Requirement already satisfied: chardet in /usr/local/lib/python3.8/dist-packages (from ktrain) (4.0.0)\n",
            "Requirement already satisfied: transformers>=4.17.0 in /usr/local/lib/python3.8/dist-packages (from ktrain) (4.25.1)\n",
            "Requirement already satisfied: langdetect in /usr/local/lib/python3.8/dist-packages (from ktrain) (1.0.9)\n",
            "Requirement already satisfied: cchardet in /usr/local/lib/python3.8/dist-packages (from ktrain) (2.1.7)\n",
            "Requirement already satisfied: pandas>=1.0.1 in /usr/local/lib/python3.8/dist-packages (from ktrain) (1.3.5)\n",
            "Requirement already satisfied: sentencepiece in /usr/local/lib/python3.8/dist-packages (from ktrain) (0.1.97)\n",
            "Requirement already satisfied: keras-transformer==0.40.0 in /usr/local/lib/python3.8/dist-packages (from keras-bert>=0.86.0->ktrain) (0.40.0)\n",
            "Requirement already satisfied: numpy in /usr/local/lib/python3.8/dist-packages (from keras-bert>=0.86.0->ktrain) (1.21.6)\n",
            "Requirement already satisfied: keras-embed-sim==0.10.0 in /usr/local/lib/python3.8/dist-packages (from keras-transformer==0.40.0->keras-bert>=0.86.0->ktrain) (0.10.0)\n",
            "Requirement already satisfied: keras-pos-embd==0.13.0 in /usr/local/lib/python3.8/dist-packages (from keras-transformer==0.40.0->keras-bert>=0.86.0->ktrain) (0.13.0)\n",
            "Requirement already satisfied: keras-multi-head==0.29.0 in /usr/local/lib/python3.8/dist-packages (from keras-transformer==0.40.0->keras-bert>=0.86.0->ktrain) (0.29.0)\n",
            "Requirement already satisfied: keras-position-wise-feed-forward==0.8.0 in /usr/local/lib/python3.8/dist-packages (from keras-transformer==0.40.0->keras-bert>=0.86.0->ktrain) (0.8.0)\n",
            "Requirement already satisfied: keras-layer-normalization==0.16.0 in /usr/local/lib/python3.8/dist-packages (from keras-transformer==0.40.0->keras-bert>=0.86.0->ktrain) (0.16.0)\n",
            "Requirement already satisfied: keras-self-attention==0.51.0 in /usr/local/lib/python3.8/dist-packages (from keras-multi-head==0.29.0->keras-transformer==0.40.0->keras-bert>=0.86.0->ktrain) (0.51.0)\n",
            "Requirement already satisfied: cycler>=0.10 in /usr/local/lib/python3.8/dist-packages (from matplotlib>=3.0.0->ktrain) (0.11.0)\n",
            "Requirement already satisfied: python-dateutil>=2.1 in /usr/local/lib/python3.8/dist-packages (from matplotlib>=3.0.0->ktrain) (2.8.2)\n",
            "Requirement already satisfied: kiwisolver>=1.0.1 in /usr/local/lib/python3.8/dist-packages (from matplotlib>=3.0.0->ktrain) (1.4.4)\n",
            "Requirement already satisfied: pyparsing!=2.0.4,!=2.1.2,!=2.1.6,>=2.0.1 in /usr/local/lib/python3.8/dist-packages (from matplotlib>=3.0.0->ktrain) (3.0.9)\n",
            "Requirement already satisfied: pytz>=2017.3 in /usr/local/lib/python3.8/dist-packages (from pandas>=1.0.1->ktrain) (2022.7)\n",
            "Requirement already satisfied: regex>2016 in /usr/local/lib/python3.8/dist-packages (from syntok>1.3.3->ktrain) (2022.6.2)\n",
            "Requirement already satisfied: tqdm>=4.27 in /usr/local/lib/python3.8/dist-packages (from transformers>=4.17.0->ktrain) (4.64.1)\n",
            "Requirement already satisfied: tokenizers!=0.11.3,<0.14,>=0.11.1 in /usr/local/lib/python3.8/dist-packages (from transformers>=4.17.0->ktrain) (0.13.2)\n",
            "Requirement already satisfied: pyyaml>=5.1 in /usr/local/lib/python3.8/dist-packages (from transformers>=4.17.0->ktrain) (6.0)\n",
            "Requirement already satisfied: filelock in /usr/local/lib/python3.8/dist-packages (from transformers>=4.17.0->ktrain) (3.9.0)\n",
            "Requirement already satisfied: huggingface-hub<1.0,>=0.10.0 in /usr/local/lib/python3.8/dist-packages (from transformers>=4.17.0->ktrain) (0.11.1)\n",
            "Requirement already satisfied: six in /usr/local/lib/python3.8/dist-packages (from langdetect->ktrain) (1.15.0)\n",
            "Requirement already satisfied: urllib3<1.27,>=1.21.1 in /usr/local/lib/python3.8/dist-packages (from requests->ktrain) (1.24.3)\n",
            "Requirement already satisfied: certifi>=2017.4.17 in /usr/local/lib/python3.8/dist-packages (from requests->ktrain) (2022.12.7)\n",
            "Requirement already satisfied: idna<3,>=2.5 in /usr/local/lib/python3.8/dist-packages (from requests->ktrain) (2.10)\n",
            "Requirement already satisfied: scipy>=1.1.0 in /usr/local/lib/python3.8/dist-packages (from scikit-learn->ktrain) (1.7.3)\n",
            "Requirement already satisfied: threadpoolctl>=2.0.0 in /usr/local/lib/python3.8/dist-packages (from scikit-learn->ktrain) (3.1.0)\n",
            "Requirement already satisfied: typing-extensions>=3.7.4.3 in /usr/local/lib/python3.8/dist-packages (from huggingface-hub<1.0,>=0.10.0->transformers>=4.17.0->ktrain) (4.4.0)\n"
          ]
        }
      ]
    },
    {
      "cell_type": "code",
      "source": [
        "import pandas as pd\n",
        "import numpy as np"
      ],
      "metadata": {
        "id": "0VHPVqyqEIkJ"
      },
      "execution_count": null,
      "outputs": []
    },
    {
      "cell_type": "code",
      "source": [
        "df1 = pd.read_csv('/content/drive/MyDrive/499A_Project/WINLI/train_400.csv',index_col=False, encoding='iso-8859-1', \n",
        "                                warn_bad_lines=True, error_bad_lines=False)\n",
        "\n",
        "df2 = pd.read_csv('/content/drive/MyDrive/499A_Project/WINLI/test_200.csv',index_col=False, encoding='iso-8859-1', \n",
        "                                warn_bad_lines=True, error_bad_lines=False)"
      ],
      "metadata": {
        "id": "SDTPa7DyELEW"
      },
      "execution_count": null,
      "outputs": []
    },
    {
      "cell_type": "code",
      "source": [
        "print(df1.head())"
      ],
      "metadata": {
        "id": "C1iSOagpESfn",
        "colab": {
          "base_uri": "https://localhost:8080/"
        },
        "outputId": "bc8ca1fd-c72d-4590-a9e3-d26462e23920"
      },
      "execution_count": null,
      "outputs": [
        {
          "output_type": "stream",
          "name": "stdout",
          "text": [
            "                                                text  \\\n",
            "0  I stuck a pin through a carrot. When I pulled ...   \n",
            "1  John couldn't see the stage with Billy in fron...   \n",
            "2  The police arrested all of the gang members. T...   \n",
            "3  I couldn't put the pot on the shelf because it...   \n",
            "4  We had hoped to place copies of our newsletter...   \n",
            "\n",
            "                                              text.1  label  \n",
            "0                             The carrot had a hole.      1  \n",
            "1                                  John is so short.      1  \n",
            "2  The police were trying to stop the drug trade ...      1  \n",
            "3                              The pot was too tall.      1  \n",
            "4  There were simply not enough copies of the new...      1  \n"
          ]
        }
      ]
    },
    {
      "cell_type": "code",
      "source": [
        "print(df2.head())"
      ],
      "metadata": {
        "id": "ZNQfrEsSEpSn",
        "colab": {
          "base_uri": "https://localhost:8080/"
        },
        "outputId": "b012d5a8-182c-4f41-9294-a5a0ba6fc3ab"
      },
      "execution_count": null,
      "outputs": [
        {
          "output_type": "stream",
          "name": "stdout",
          "text": [
            "                                                text  \\\n",
            "0  I saw Jim yelling at some guy in a military un...   \n",
            "1  George got free tickets to the play, but he ga...   \n",
            "2  The trophy doesn't fit into the brown suitcase...   \n",
            "3  Mark became absorbed in Blaze, the white horse...   \n",
            "4  Tom threw his schoolbag down to Ray after he r...   \n",
            "\n",
            "                                              text.1  label  \n",
            "0  I don't know who the guy in uniform was, but h...      1  \n",
            "1       George was not particularly eager to see it.      1  \n",
            "2                         The suitcase is too small.      1  \n",
            "3  Mark took upon himself the feeding and care of...      1  \n",
            "4              Ray reached the bottom of the stairs.      1  \n"
          ]
        }
      ]
    },
    {
      "cell_type": "code",
      "source": [
        "df1.label[df1.label == 1]=\"acpt\"\n",
        "df1.label[df1.label == 0]=\"unac\"\n",
        "\n",
        "df2.label[df2.label == 1]=\"acpt\"\n",
        "df2.label[df2.label == 0]=\"unac\""
      ],
      "metadata": {
        "id": "0K47zsmXE5F_",
        "colab": {
          "base_uri": "https://localhost:8080/"
        },
        "outputId": "c2363e25-9ca8-444b-ba66-f7e9b29b7a66"
      },
      "execution_count": null,
      "outputs": [
        {
          "output_type": "stream",
          "name": "stderr",
          "text": [
            "<ipython-input-239-af200db6912b>:1: SettingWithCopyWarning: \n",
            "A value is trying to be set on a copy of a slice from a DataFrame\n",
            "\n",
            "See the caveats in the documentation: https://pandas.pydata.org/pandas-docs/stable/user_guide/indexing.html#returning-a-view-versus-a-copy\n",
            "  df1.label[df1.label == 1]=\"acpt\"\n",
            "<ipython-input-239-af200db6912b>:4: SettingWithCopyWarning: \n",
            "A value is trying to be set on a copy of a slice from a DataFrame\n",
            "\n",
            "See the caveats in the documentation: https://pandas.pydata.org/pandas-docs/stable/user_guide/indexing.html#returning-a-view-versus-a-copy\n",
            "  df2.label[df2.label == 1]=\"acpt\"\n"
          ]
        }
      ]
    },
    {
      "cell_type": "code",
      "source": [
        "# taking acceptable and deleting unacceptable\n",
        "df3 = df1[~df1.label.str.contains('acpt')]\n",
        "df3 = df3.sample(n=200, replace=True)\n",
        "df3[\"label\"].value_counts()"
      ],
      "metadata": {
        "id": "ufxJv3rXE6pW",
        "colab": {
          "base_uri": "https://localhost:8080/"
        },
        "outputId": "b5211acc-6654-4238-ecd2-d1d80753ef31"
      },
      "execution_count": null,
      "outputs": [
        {
          "output_type": "execute_result",
          "data": {
            "text/plain": [
              "unac    200\n",
              "Name: label, dtype: int64"
            ]
          },
          "metadata": {},
          "execution_count": 240
        }
      ]
    },
    {
      "cell_type": "code",
      "source": [
        "# taking acceptable and deleting unacceptable\n",
        "df4 = df1[~df1.label.str.contains('unac')]\n",
        "df4 = df4.sample(n=200, replace=True)\n",
        "df4[\"label\"].value_counts()\n",
        "\n"
      ],
      "metadata": {
        "colab": {
          "base_uri": "https://localhost:8080/"
        },
        "id": "yKt6hbigcsSR",
        "outputId": "7fdcbe2d-14fb-443c-9e0b-2d4b96f5d812"
      },
      "execution_count": null,
      "outputs": [
        {
          "output_type": "execute_result",
          "data": {
            "text/plain": [
              "acpt    200\n",
              "Name: label, dtype: int64"
            ]
          },
          "metadata": {},
          "execution_count": 241
        }
      ]
    },
    {
      "cell_type": "code",
      "source": [
        "frames = [df3, df4]\n",
        "\n",
        "temp = pd.concat(frames)"
      ],
      "metadata": {
        "id": "GZiBJivLcyX5"
      },
      "execution_count": null,
      "outputs": []
    },
    {
      "cell_type": "code",
      "source": [
        "temp[\"label\"].value_counts()"
      ],
      "metadata": {
        "colab": {
          "base_uri": "https://localhost:8080/"
        },
        "id": "WeZmVzkBdNXo",
        "outputId": "6ad0ba49-4d29-4d0a-ca17-2a5650a30dac"
      },
      "execution_count": null,
      "outputs": [
        {
          "output_type": "execute_result",
          "data": {
            "text/plain": [
              "unac    200\n",
              "acpt    200\n",
              "Name: label, dtype: int64"
            ]
          },
          "metadata": {},
          "execution_count": 243
        }
      ]
    },
    {
      "cell_type": "code",
      "source": [
        "temp[\"label\"].value_counts()"
      ],
      "metadata": {
        "id": "iyzu4NkDHJef",
        "colab": {
          "base_uri": "https://localhost:8080/"
        },
        "outputId": "48b1f7be-ca43-491c-db00-303c7bda34ee"
      },
      "execution_count": null,
      "outputs": [
        {
          "output_type": "execute_result",
          "data": {
            "text/plain": [
              "unac    200\n",
              "acpt    200\n",
              "Name: label, dtype: int64"
            ]
          },
          "metadata": {},
          "execution_count": 244
        }
      ]
    },
    {
      "cell_type": "code",
      "source": [
        "# taking acceptable and deleting unacceptable\n",
        "df5 = df2[~df2.label.str.contains('acpt')]\n",
        "df5 = df5.sample(n=50, replace=True)\n",
        "df5[\"label\"].value_counts()"
      ],
      "metadata": {
        "colab": {
          "base_uri": "https://localhost:8080/"
        },
        "id": "_Mg-Gu7TfELf",
        "outputId": "6b1fb40d-68e9-46b1-92d7-3db3783c4eda"
      },
      "execution_count": null,
      "outputs": [
        {
          "output_type": "execute_result",
          "data": {
            "text/plain": [
              "unac    50\n",
              "Name: label, dtype: int64"
            ]
          },
          "metadata": {},
          "execution_count": 245
        }
      ]
    },
    {
      "cell_type": "code",
      "source": [
        "# taking acceptable and deleting unacceptable\n",
        "df6 = df2[~df2.label.str.contains('unac')]\n",
        "df6 = df6.sample(n=50, replace=True)\n",
        "df6[\"label\"].value_counts()"
      ],
      "metadata": {
        "colab": {
          "base_uri": "https://localhost:8080/"
        },
        "id": "rAPRzVo-fOiQ",
        "outputId": "fb33e3ad-c8e0-43b4-aafa-5680c95b667b"
      },
      "execution_count": null,
      "outputs": [
        {
          "output_type": "execute_result",
          "data": {
            "text/plain": [
              "acpt    50\n",
              "Name: label, dtype: int64"
            ]
          },
          "metadata": {},
          "execution_count": 246
        }
      ]
    },
    {
      "cell_type": "code",
      "source": [
        "frames2 = [df5, df6]\n",
        "\n",
        "temp2 = pd.concat(frames2)"
      ],
      "metadata": {
        "id": "9PplgRVLfnM4"
      },
      "execution_count": null,
      "outputs": []
    },
    {
      "cell_type": "code",
      "source": [
        "temp2[\"label\"].value_counts()"
      ],
      "metadata": {
        "colab": {
          "base_uri": "https://localhost:8080/"
        },
        "id": "W3oOeVmQfq8O",
        "outputId": "64ee5245-64bd-4c6b-d706-2ee125f9fd6e"
      },
      "execution_count": null,
      "outputs": [
        {
          "output_type": "execute_result",
          "data": {
            "text/plain": [
              "unac    50\n",
              "acpt    50\n",
              "Name: label, dtype: int64"
            ]
          },
          "metadata": {},
          "execution_count": 248
        }
      ]
    },
    {
      "cell_type": "code",
      "source": [
        "frames3 = [df3, df4, df5, df6]\n",
        "\n",
        "temp3 = pd.concat(frames3)"
      ],
      "metadata": {
        "id": "cT9-_JztgCI2"
      },
      "execution_count": null,
      "outputs": []
    },
    {
      "cell_type": "code",
      "source": [
        "temp3[\"label\"].value_counts()"
      ],
      "metadata": {
        "colab": {
          "base_uri": "https://localhost:8080/"
        },
        "id": "fUUHZVvhgJQW",
        "outputId": "a02599d4-d5c8-4eca-ec08-639ca219054a"
      },
      "execution_count": null,
      "outputs": [
        {
          "output_type": "execute_result",
          "data": {
            "text/plain": [
              "unac    250\n",
              "acpt    250\n",
              "Name: label, dtype: int64"
            ]
          },
          "metadata": {},
          "execution_count": 250
        }
      ]
    },
    {
      "cell_type": "code",
      "source": [
        "temp3[\"text\"].value_counts()"
      ],
      "metadata": {
        "colab": {
          "base_uri": "https://localhost:8080/"
        },
        "id": "owTnGyUYxQ9A",
        "outputId": "8cf0d595-2270-46dd-fc85-ecc12522df8c"
      },
      "execution_count": null,
      "outputs": [
        {
          "output_type": "execute_result",
          "data": {
            "text/plain": [
              "Jane knocked on the door, and Susan answered it. She invited her to come out.                                                                                                                                                                                8\n",
              "I sallied out for a bit of food, more to pass the time than because I wanted it.                                                                                                                                                                             7\n",
              "The fish ate the worm. It was tasty.                                                                                                                                                                                                                         6\n",
              "Bernard, who had not told the government official that he was less than 21 when he filed for a homestead claim, did not consider that he had done anything dishonest. Still, anyone who knew that he was 19 years old could take his claim away from him.    6\n",
              "Thomson visited Cooper's grave in 1765. At that date he had been dead for five years.                                                                                                                                                                        6\n",
              "                                                                                                                                                                                                                                                            ..\n",
              "Sam broke both his ankles and he's walking with crutches. But a month or so from now they should be unnecessary.                                                                                                                                             1\n",
              "Sam pulled up a chair to the piano, but it was broken, so he had to sing instead.                                                                                                                                                                            1\n",
              "Mark told Pete many lies about himself, which Pete included in his book. He should have been more skeptical.                                                                                                                                                 1\n",
              "The sculpture rolled off the shelf because it wasn't anchored.                                                                                                                                                                                               1\n",
              "The table won't fit through the doorway because it is too wide.                                                                                                                                                                                              1\n",
              "Name: text, Length: 233, dtype: int64"
            ]
          },
          "metadata": {},
          "execution_count": 251
        }
      ]
    },
    {
      "cell_type": "code",
      "source": [
        "temp.head()"
      ],
      "metadata": {
        "id": "kzZJbJUHHWHu",
        "colab": {
          "base_uri": "https://localhost:8080/",
          "height": 206
        },
        "outputId": "d97df7b0-e755-4394-f694-0a95fd3817f2"
      },
      "execution_count": null,
      "outputs": [
        {
          "output_type": "execute_result",
          "data": {
            "text/plain": [
              "                                                  text  \\\n",
              "397  I sallied out for a bit of food, more to pass ...   \n",
              "285  Grace was happy to trade me her sweater for my...   \n",
              "252  Emma did not pass the ball to Janie although s...   \n",
              "369  Mr. Taylor was a man of uncertain temper and h...   \n",
              "355  Sam Goodman's biography of the Spartan general...   \n",
              "\n",
              "                                                text.1 label  \n",
              "397  I sallied out for a bit of food, more to pass ...  unac  \n",
              "285                     The jacket looks dowdy on her.  unac  \n",
              "252                       Janie saw that she was open.  unac  \n",
              "369  Any direction on his own account was just anot...  unac  \n",
              "355  Sam Goodman's biography of the Spartan general...  unac  "
            ],
            "text/html": [
              "\n",
              "  <div id=\"df-14130598-8c2c-41e8-aa74-72c083c5756a\">\n",
              "    <div class=\"colab-df-container\">\n",
              "      <div>\n",
              "<style scoped>\n",
              "    .dataframe tbody tr th:only-of-type {\n",
              "        vertical-align: middle;\n",
              "    }\n",
              "\n",
              "    .dataframe tbody tr th {\n",
              "        vertical-align: top;\n",
              "    }\n",
              "\n",
              "    .dataframe thead th {\n",
              "        text-align: right;\n",
              "    }\n",
              "</style>\n",
              "<table border=\"1\" class=\"dataframe\">\n",
              "  <thead>\n",
              "    <tr style=\"text-align: right;\">\n",
              "      <th></th>\n",
              "      <th>text</th>\n",
              "      <th>text.1</th>\n",
              "      <th>label</th>\n",
              "    </tr>\n",
              "  </thead>\n",
              "  <tbody>\n",
              "    <tr>\n",
              "      <th>397</th>\n",
              "      <td>I sallied out for a bit of food, more to pass ...</td>\n",
              "      <td>I sallied out for a bit of food, more to pass ...</td>\n",
              "      <td>unac</td>\n",
              "    </tr>\n",
              "    <tr>\n",
              "      <th>285</th>\n",
              "      <td>Grace was happy to trade me her sweater for my...</td>\n",
              "      <td>The jacket looks dowdy on her.</td>\n",
              "      <td>unac</td>\n",
              "    </tr>\n",
              "    <tr>\n",
              "      <th>252</th>\n",
              "      <td>Emma did not pass the ball to Janie although s...</td>\n",
              "      <td>Janie saw that she was open.</td>\n",
              "      <td>unac</td>\n",
              "    </tr>\n",
              "    <tr>\n",
              "      <th>369</th>\n",
              "      <td>Mr. Taylor was a man of uncertain temper and h...</td>\n",
              "      <td>Any direction on his own account was just anot...</td>\n",
              "      <td>unac</td>\n",
              "    </tr>\n",
              "    <tr>\n",
              "      <th>355</th>\n",
              "      <td>Sam Goodman's biography of the Spartan general...</td>\n",
              "      <td>Sam Goodman's biography of the Spartan general...</td>\n",
              "      <td>unac</td>\n",
              "    </tr>\n",
              "  </tbody>\n",
              "</table>\n",
              "</div>\n",
              "      <button class=\"colab-df-convert\" onclick=\"convertToInteractive('df-14130598-8c2c-41e8-aa74-72c083c5756a')\"\n",
              "              title=\"Convert this dataframe to an interactive table.\"\n",
              "              style=\"display:none;\">\n",
              "        \n",
              "  <svg xmlns=\"http://www.w3.org/2000/svg\" height=\"24px\"viewBox=\"0 0 24 24\"\n",
              "       width=\"24px\">\n",
              "    <path d=\"M0 0h24v24H0V0z\" fill=\"none\"/>\n",
              "    <path d=\"M18.56 5.44l.94 2.06.94-2.06 2.06-.94-2.06-.94-.94-2.06-.94 2.06-2.06.94zm-11 1L8.5 8.5l.94-2.06 2.06-.94-2.06-.94L8.5 2.5l-.94 2.06-2.06.94zm10 10l.94 2.06.94-2.06 2.06-.94-2.06-.94-.94-2.06-.94 2.06-2.06.94z\"/><path d=\"M17.41 7.96l-1.37-1.37c-.4-.4-.92-.59-1.43-.59-.52 0-1.04.2-1.43.59L10.3 9.45l-7.72 7.72c-.78.78-.78 2.05 0 2.83L4 21.41c.39.39.9.59 1.41.59.51 0 1.02-.2 1.41-.59l7.78-7.78 2.81-2.81c.8-.78.8-2.07 0-2.86zM5.41 20L4 18.59l7.72-7.72 1.47 1.35L5.41 20z\"/>\n",
              "  </svg>\n",
              "      </button>\n",
              "      \n",
              "  <style>\n",
              "    .colab-df-container {\n",
              "      display:flex;\n",
              "      flex-wrap:wrap;\n",
              "      gap: 12px;\n",
              "    }\n",
              "\n",
              "    .colab-df-convert {\n",
              "      background-color: #E8F0FE;\n",
              "      border: none;\n",
              "      border-radius: 50%;\n",
              "      cursor: pointer;\n",
              "      display: none;\n",
              "      fill: #1967D2;\n",
              "      height: 32px;\n",
              "      padding: 0 0 0 0;\n",
              "      width: 32px;\n",
              "    }\n",
              "\n",
              "    .colab-df-convert:hover {\n",
              "      background-color: #E2EBFA;\n",
              "      box-shadow: 0px 1px 2px rgba(60, 64, 67, 0.3), 0px 1px 3px 1px rgba(60, 64, 67, 0.15);\n",
              "      fill: #174EA6;\n",
              "    }\n",
              "\n",
              "    [theme=dark] .colab-df-convert {\n",
              "      background-color: #3B4455;\n",
              "      fill: #D2E3FC;\n",
              "    }\n",
              "\n",
              "    [theme=dark] .colab-df-convert:hover {\n",
              "      background-color: #434B5C;\n",
              "      box-shadow: 0px 1px 3px 1px rgba(0, 0, 0, 0.15);\n",
              "      filter: drop-shadow(0px 1px 2px rgba(0, 0, 0, 0.3));\n",
              "      fill: #FFFFFF;\n",
              "    }\n",
              "  </style>\n",
              "\n",
              "      <script>\n",
              "        const buttonEl =\n",
              "          document.querySelector('#df-14130598-8c2c-41e8-aa74-72c083c5756a button.colab-df-convert');\n",
              "        buttonEl.style.display =\n",
              "          google.colab.kernel.accessAllowed ? 'block' : 'none';\n",
              "\n",
              "        async function convertToInteractive(key) {\n",
              "          const element = document.querySelector('#df-14130598-8c2c-41e8-aa74-72c083c5756a');\n",
              "          const dataTable =\n",
              "            await google.colab.kernel.invokeFunction('convertToInteractive',\n",
              "                                                     [key], {});\n",
              "          if (!dataTable) return;\n",
              "\n",
              "          const docLinkHtml = 'Like what you see? Visit the ' +\n",
              "            '<a target=\"_blank\" href=https://colab.research.google.com/notebooks/data_table.ipynb>data table notebook</a>'\n",
              "            + ' to learn more about interactive tables.';\n",
              "          element.innerHTML = '';\n",
              "          dataTable['output_type'] = 'display_data';\n",
              "          await google.colab.output.renderOutput(dataTable, element);\n",
              "          const docLink = document.createElement('div');\n",
              "          docLink.innerHTML = docLinkHtml;\n",
              "          element.appendChild(docLink);\n",
              "        }\n",
              "      </script>\n",
              "    </div>\n",
              "  </div>\n",
              "  "
            ]
          },
          "metadata": {},
          "execution_count": 252
        }
      ]
    },
    {
      "cell_type": "code",
      "source": [
        "temp.tail()"
      ],
      "metadata": {
        "id": "S5yInlJkHeZG",
        "colab": {
          "base_uri": "https://localhost:8080/",
          "height": 206
        },
        "outputId": "d49298f8-96bc-4ce7-c93f-c6d904e3df86"
      },
      "execution_count": null,
      "outputs": [
        {
          "output_type": "execute_result",
          "data": {
            "text/plain": [
              "                                                  text  \\\n",
              "123  Lionel is holding captive a scientist, Dr. Var...   \n",
              "63   Thomson visited Cooper's grave in 1765. At tha...   \n",
              "64   Paul tried to call George on the phone, but he...   \n",
              "181  Dan took the rear seat while Bill claimed the ...   \n",
              "83   I was trying to open the lock with the key, bu...   \n",
              "\n",
              "                                                text.1 label  \n",
              "123  Lionel plans to use it on Geoffrey and send Ge...  acpt  \n",
              "63                Cooper had been dead for five years.  acpt  \n",
              "64                            George wasn't available.  acpt  \n",
              "181  Dan took the rear seat while Bill claimed the ...  acpt  \n",
              "83                          I couldn't get the key in.  acpt  "
            ],
            "text/html": [
              "\n",
              "  <div id=\"df-5875ac0a-83a8-4b46-963c-6460f32b5f81\">\n",
              "    <div class=\"colab-df-container\">\n",
              "      <div>\n",
              "<style scoped>\n",
              "    .dataframe tbody tr th:only-of-type {\n",
              "        vertical-align: middle;\n",
              "    }\n",
              "\n",
              "    .dataframe tbody tr th {\n",
              "        vertical-align: top;\n",
              "    }\n",
              "\n",
              "    .dataframe thead th {\n",
              "        text-align: right;\n",
              "    }\n",
              "</style>\n",
              "<table border=\"1\" class=\"dataframe\">\n",
              "  <thead>\n",
              "    <tr style=\"text-align: right;\">\n",
              "      <th></th>\n",
              "      <th>text</th>\n",
              "      <th>text.1</th>\n",
              "      <th>label</th>\n",
              "    </tr>\n",
              "  </thead>\n",
              "  <tbody>\n",
              "    <tr>\n",
              "      <th>123</th>\n",
              "      <td>Lionel is holding captive a scientist, Dr. Var...</td>\n",
              "      <td>Lionel plans to use it on Geoffrey and send Ge...</td>\n",
              "      <td>acpt</td>\n",
              "    </tr>\n",
              "    <tr>\n",
              "      <th>63</th>\n",
              "      <td>Thomson visited Cooper's grave in 1765. At tha...</td>\n",
              "      <td>Cooper had been dead for five years.</td>\n",
              "      <td>acpt</td>\n",
              "    </tr>\n",
              "    <tr>\n",
              "      <th>64</th>\n",
              "      <td>Paul tried to call George on the phone, but he...</td>\n",
              "      <td>George wasn't available.</td>\n",
              "      <td>acpt</td>\n",
              "    </tr>\n",
              "    <tr>\n",
              "      <th>181</th>\n",
              "      <td>Dan took the rear seat while Bill claimed the ...</td>\n",
              "      <td>Dan took the rear seat while Bill claimed the ...</td>\n",
              "      <td>acpt</td>\n",
              "    </tr>\n",
              "    <tr>\n",
              "      <th>83</th>\n",
              "      <td>I was trying to open the lock with the key, bu...</td>\n",
              "      <td>I couldn't get the key in.</td>\n",
              "      <td>acpt</td>\n",
              "    </tr>\n",
              "  </tbody>\n",
              "</table>\n",
              "</div>\n",
              "      <button class=\"colab-df-convert\" onclick=\"convertToInteractive('df-5875ac0a-83a8-4b46-963c-6460f32b5f81')\"\n",
              "              title=\"Convert this dataframe to an interactive table.\"\n",
              "              style=\"display:none;\">\n",
              "        \n",
              "  <svg xmlns=\"http://www.w3.org/2000/svg\" height=\"24px\"viewBox=\"0 0 24 24\"\n",
              "       width=\"24px\">\n",
              "    <path d=\"M0 0h24v24H0V0z\" fill=\"none\"/>\n",
              "    <path d=\"M18.56 5.44l.94 2.06.94-2.06 2.06-.94-2.06-.94-.94-2.06-.94 2.06-2.06.94zm-11 1L8.5 8.5l.94-2.06 2.06-.94-2.06-.94L8.5 2.5l-.94 2.06-2.06.94zm10 10l.94 2.06.94-2.06 2.06-.94-2.06-.94-.94-2.06-.94 2.06-2.06.94z\"/><path d=\"M17.41 7.96l-1.37-1.37c-.4-.4-.92-.59-1.43-.59-.52 0-1.04.2-1.43.59L10.3 9.45l-7.72 7.72c-.78.78-.78 2.05 0 2.83L4 21.41c.39.39.9.59 1.41.59.51 0 1.02-.2 1.41-.59l7.78-7.78 2.81-2.81c.8-.78.8-2.07 0-2.86zM5.41 20L4 18.59l7.72-7.72 1.47 1.35L5.41 20z\"/>\n",
              "  </svg>\n",
              "      </button>\n",
              "      \n",
              "  <style>\n",
              "    .colab-df-container {\n",
              "      display:flex;\n",
              "      flex-wrap:wrap;\n",
              "      gap: 12px;\n",
              "    }\n",
              "\n",
              "    .colab-df-convert {\n",
              "      background-color: #E8F0FE;\n",
              "      border: none;\n",
              "      border-radius: 50%;\n",
              "      cursor: pointer;\n",
              "      display: none;\n",
              "      fill: #1967D2;\n",
              "      height: 32px;\n",
              "      padding: 0 0 0 0;\n",
              "      width: 32px;\n",
              "    }\n",
              "\n",
              "    .colab-df-convert:hover {\n",
              "      background-color: #E2EBFA;\n",
              "      box-shadow: 0px 1px 2px rgba(60, 64, 67, 0.3), 0px 1px 3px 1px rgba(60, 64, 67, 0.15);\n",
              "      fill: #174EA6;\n",
              "    }\n",
              "\n",
              "    [theme=dark] .colab-df-convert {\n",
              "      background-color: #3B4455;\n",
              "      fill: #D2E3FC;\n",
              "    }\n",
              "\n",
              "    [theme=dark] .colab-df-convert:hover {\n",
              "      background-color: #434B5C;\n",
              "      box-shadow: 0px 1px 3px 1px rgba(0, 0, 0, 0.15);\n",
              "      filter: drop-shadow(0px 1px 2px rgba(0, 0, 0, 0.3));\n",
              "      fill: #FFFFFF;\n",
              "    }\n",
              "  </style>\n",
              "\n",
              "      <script>\n",
              "        const buttonEl =\n",
              "          document.querySelector('#df-5875ac0a-83a8-4b46-963c-6460f32b5f81 button.colab-df-convert');\n",
              "        buttonEl.style.display =\n",
              "          google.colab.kernel.accessAllowed ? 'block' : 'none';\n",
              "\n",
              "        async function convertToInteractive(key) {\n",
              "          const element = document.querySelector('#df-5875ac0a-83a8-4b46-963c-6460f32b5f81');\n",
              "          const dataTable =\n",
              "            await google.colab.kernel.invokeFunction('convertToInteractive',\n",
              "                                                     [key], {});\n",
              "          if (!dataTable) return;\n",
              "\n",
              "          const docLinkHtml = 'Like what you see? Visit the ' +\n",
              "            '<a target=\"_blank\" href=https://colab.research.google.com/notebooks/data_table.ipynb>data table notebook</a>'\n",
              "            + ' to learn more about interactive tables.';\n",
              "          element.innerHTML = '';\n",
              "          dataTable['output_type'] = 'display_data';\n",
              "          await google.colab.output.renderOutput(dataTable, element);\n",
              "          const docLink = document.createElement('div');\n",
              "          docLink.innerHTML = docLinkHtml;\n",
              "          element.appendChild(docLink);\n",
              "        }\n",
              "      </script>\n",
              "    </div>\n",
              "  </div>\n",
              "  "
            ]
          },
          "metadata": {},
          "execution_count": 253
        }
      ]
    },
    {
      "cell_type": "code",
      "source": [
        "temp3[\"label\"].value_counts()\n"
      ],
      "metadata": {
        "id": "rUN7HlcdHhGW",
        "colab": {
          "base_uri": "https://localhost:8080/"
        },
        "outputId": "4acce5fe-148f-4bd6-a25a-ead9ab3ef8eb"
      },
      "execution_count": null,
      "outputs": [
        {
          "output_type": "execute_result",
          "data": {
            "text/plain": [
              "unac    250\n",
              "acpt    250\n",
              "Name: label, dtype: int64"
            ]
          },
          "metadata": {},
          "execution_count": 254
        }
      ]
    },
    {
      "cell_type": "code",
      "source": [
        "print(len(temp3['text']))"
      ],
      "metadata": {
        "colab": {
          "base_uri": "https://localhost:8080/"
        },
        "id": "lNj2gVMixlay",
        "outputId": "4dc7b911-1bf1-4551-b7c3-fda5cb6757dd"
      },
      "execution_count": null,
      "outputs": [
        {
          "output_type": "stream",
          "name": "stdout",
          "text": [
            "500\n"
          ]
        }
      ]
    },
    {
      "cell_type": "code",
      "source": [
        "text = temp3['text'].values.tolist()\n",
        "emotion= temp3['label'].tolist()"
      ],
      "metadata": {
        "id": "HGekrmOoHoHJ"
      },
      "execution_count": null,
      "outputs": []
    },
    {
      "cell_type": "code",
      "source": [
        "print(len(temp3['text']))"
      ],
      "metadata": {
        "colab": {
          "base_uri": "https://localhost:8080/"
        },
        "id": "kp1jDE_awZKi",
        "outputId": "06864238-2d80-4133-9cf1-fd493e716f98"
      },
      "execution_count": null,
      "outputs": [
        {
          "output_type": "stream",
          "name": "stdout",
          "text": [
            "500\n"
          ]
        }
      ]
    },
    {
      "cell_type": "code",
      "source": [
        "from sklearn.model_selection import train_test_split\n",
        "X_train, X_test, y_train, y_test = train_test_split(text , emotion, test_size=0.2, random_state=42)"
      ],
      "metadata": {
        "id": "MJyx4zOeHpgG"
      },
      "execution_count": null,
      "outputs": []
    },
    {
      "cell_type": "code",
      "source": [
        "print(len(X_train))"
      ],
      "metadata": {
        "colab": {
          "base_uri": "https://localhost:8080/"
        },
        "id": "Zff2MHTPtPXi",
        "outputId": "74f0ce91-0362-43c6-88bd-6863286bc552"
      },
      "execution_count": null,
      "outputs": [
        {
          "output_type": "stream",
          "name": "stdout",
          "text": [
            "400\n"
          ]
        }
      ]
    },
    {
      "cell_type": "code",
      "source": [
        "print(len(y_train))"
      ],
      "metadata": {
        "colab": {
          "base_uri": "https://localhost:8080/"
        },
        "id": "1-LjxNZSuG4q",
        "outputId": "1676e339-90ab-4501-f2a0-1e45d95800b5"
      },
      "execution_count": null,
      "outputs": [
        {
          "output_type": "stream",
          "name": "stdout",
          "text": [
            "400\n"
          ]
        }
      ]
    },
    {
      "cell_type": "code",
      "source": [
        "print(len(X_test))"
      ],
      "metadata": {
        "colab": {
          "base_uri": "https://localhost:8080/"
        },
        "id": "abJwdADLuNT0",
        "outputId": "2a06fc10-05a5-47c9-b661-81673d159572"
      },
      "execution_count": null,
      "outputs": [
        {
          "output_type": "stream",
          "name": "stdout",
          "text": [
            "100\n"
          ]
        }
      ]
    },
    {
      "cell_type": "code",
      "source": [
        "print(len(y_test))"
      ],
      "metadata": {
        "colab": {
          "base_uri": "https://localhost:8080/"
        },
        "id": "JFpYjgbAucIQ",
        "outputId": "e4456a9e-b22f-4181-83f1-4cd62ccda063"
      },
      "execution_count": null,
      "outputs": [
        {
          "output_type": "stream",
          "name": "stdout",
          "text": [
            "100\n"
          ]
        }
      ]
    },
    {
      "cell_type": "code",
      "source": [
        "import ktrain\n",
        "from ktrain import text\n",
        "MODEL_NAME = 'bert-base-uncased'\n",
        "t = text.Transformer(MODEL_NAME, maxlen=500)"
      ],
      "metadata": {
        "id": "HupuwOB8HtHX"
      },
      "execution_count": null,
      "outputs": []
    },
    {
      "cell_type": "code",
      "source": [
        "trn = t.preprocess_train(X_train, y_train)\n",
        "val = t.preprocess_test(X_test, y_test)"
      ],
      "metadata": {
        "id": "eSbTvz3AH5a3",
        "colab": {
          "base_uri": "https://localhost:8080/",
          "height": 243
        },
        "outputId": "b3f4345f-cb2f-43fa-a5d3-c82f08687cbd"
      },
      "execution_count": null,
      "outputs": [
        {
          "output_type": "stream",
          "name": "stdout",
          "text": [
            "preprocessing train...\n",
            "language: en\n",
            "train sequence lengths:\n",
            "\tmean : 19\n",
            "\t95percentile : 46\n",
            "\t99percentile : 53\n"
          ]
        },
        {
          "output_type": "display_data",
          "data": {
            "text/plain": [
              "<IPython.core.display.HTML object>"
            ],
            "text/html": [
              "\n",
              "<style>\n",
              "    /* Turns off some styling */\n",
              "    progress {\n",
              "        /* gets rid of default border in Firefox and Opera. */\n",
              "        border: none;\n",
              "        /* Needs to be in here for Safari polyfill so background images work as expected. */\n",
              "        background-size: auto;\n",
              "    }\n",
              "    progress:not([value]), progress:not([value])::-webkit-progress-bar {\n",
              "        background: repeating-linear-gradient(45deg, #7e7e7e, #7e7e7e 10px, #5c5c5c 10px, #5c5c5c 20px);\n",
              "    }\n",
              "    .progress-bar-interrupted, .progress-bar-interrupted::-webkit-progress-bar {\n",
              "        background: #F44336;\n",
              "    }\n",
              "</style>\n"
            ]
          },
          "metadata": {}
        },
        {
          "output_type": "display_data",
          "data": {
            "text/plain": [
              "<IPython.core.display.HTML object>"
            ],
            "text/html": []
          },
          "metadata": {}
        },
        {
          "output_type": "stream",
          "name": "stdout",
          "text": [
            "Is Multi-Label? False\n",
            "preprocessing test...\n",
            "language: en\n",
            "test sequence lengths:\n",
            "\tmean : 20\n",
            "\t95percentile : 40\n",
            "\t99percentile : 55\n"
          ]
        },
        {
          "output_type": "display_data",
          "data": {
            "text/plain": [
              "<IPython.core.display.HTML object>"
            ],
            "text/html": [
              "\n",
              "<style>\n",
              "    /* Turns off some styling */\n",
              "    progress {\n",
              "        /* gets rid of default border in Firefox and Opera. */\n",
              "        border: none;\n",
              "        /* Needs to be in here for Safari polyfill so background images work as expected. */\n",
              "        background-size: auto;\n",
              "    }\n",
              "    progress:not([value]), progress:not([value])::-webkit-progress-bar {\n",
              "        background: repeating-linear-gradient(45deg, #7e7e7e, #7e7e7e 10px, #5c5c5c 10px, #5c5c5c 20px);\n",
              "    }\n",
              "    .progress-bar-interrupted, .progress-bar-interrupted::-webkit-progress-bar {\n",
              "        background: #F44336;\n",
              "    }\n",
              "</style>\n"
            ]
          },
          "metadata": {}
        },
        {
          "output_type": "display_data",
          "data": {
            "text/plain": [
              "<IPython.core.display.HTML object>"
            ],
            "text/html": []
          },
          "metadata": {}
        }
      ]
    },
    {
      "cell_type": "code",
      "source": [
        "model = t.get_classifier()"
      ],
      "metadata": {
        "id": "cYAoxu8pH_aP"
      },
      "execution_count": null,
      "outputs": []
    },
    {
      "cell_type": "code",
      "source": [
        "learner = ktrain.get_learner(model, train_data=trn, val_data=val, batch_size=6)"
      ],
      "metadata": {
        "id": "YeonT2rQICgI"
      },
      "execution_count": null,
      "outputs": []
    },
    {
      "cell_type": "code",
      "source": [
        "learner.fit_onecycle(2e-5, 20)"
      ],
      "metadata": {
        "id": "BaEG7bgNIGo_",
        "colab": {
          "base_uri": "https://localhost:8080/"
        },
        "outputId": "99a13121-779f-4226-dcdd-10739c3a0fcc"
      },
      "execution_count": null,
      "outputs": [
        {
          "output_type": "stream",
          "name": "stdout",
          "text": [
            "\n",
            "\n",
            "begin training using onecycle policy with max lr of 2e-05...\n",
            "Epoch 1/20\n",
            "67/67 [==============================] - 74s 755ms/step - loss: 0.6935 - accuracy: 0.5100 - val_loss: 0.6963 - val_accuracy: 0.5500\n",
            "Epoch 2/20\n",
            "67/67 [==============================] - 48s 720ms/step - loss: 0.6896 - accuracy: 0.5075 - val_loss: 0.6975 - val_accuracy: 0.5000\n",
            "Epoch 3/20\n",
            "67/67 [==============================] - 48s 718ms/step - loss: 0.6671 - accuracy: 0.6175 - val_loss: 0.7020 - val_accuracy: 0.4700\n",
            "Epoch 4/20\n",
            "67/67 [==============================] - 48s 719ms/step - loss: 0.6560 - accuracy: 0.6100 - val_loss: 0.7031 - val_accuracy: 0.5100\n",
            "Epoch 5/20\n",
            "67/67 [==============================] - 48s 718ms/step - loss: 0.6300 - accuracy: 0.6575 - val_loss: 0.7069 - val_accuracy: 0.5500\n",
            "Epoch 6/20\n",
            "67/67 [==============================] - 48s 717ms/step - loss: 0.6016 - accuracy: 0.6725 - val_loss: 0.6962 - val_accuracy: 0.5600\n",
            "Epoch 7/20\n",
            "67/67 [==============================] - 48s 718ms/step - loss: 0.5513 - accuracy: 0.7450 - val_loss: 0.7311 - val_accuracy: 0.5900\n",
            "Epoch 8/20\n",
            "67/67 [==============================] - 48s 720ms/step - loss: 0.5333 - accuracy: 0.7425 - val_loss: 0.7135 - val_accuracy: 0.5700\n",
            "Epoch 9/20\n",
            "67/67 [==============================] - 48s 719ms/step - loss: 0.5194 - accuracy: 0.7375 - val_loss: 0.8286 - val_accuracy: 0.6000\n",
            "Epoch 10/20\n",
            "67/67 [==============================] - 48s 720ms/step - loss: 0.4946 - accuracy: 0.7550 - val_loss: 0.8053 - val_accuracy: 0.5600\n",
            "Epoch 11/20\n",
            "67/67 [==============================] - 48s 719ms/step - loss: 0.4557 - accuracy: 0.7550 - val_loss: 0.8347 - val_accuracy: 0.5800\n",
            "Epoch 12/20\n",
            "67/67 [==============================] - 49s 725ms/step - loss: 0.4216 - accuracy: 0.7675 - val_loss: 0.9357 - val_accuracy: 0.6200\n",
            "Epoch 13/20\n",
            "67/67 [==============================] - 48s 721ms/step - loss: 0.4094 - accuracy: 0.7800 - val_loss: 0.9063 - val_accuracy: 0.5600\n",
            "Epoch 14/20\n",
            "67/67 [==============================] - 48s 720ms/step - loss: 0.3770 - accuracy: 0.7875 - val_loss: 1.1380 - val_accuracy: 0.5700\n",
            "Epoch 15/20\n",
            "67/67 [==============================] - 48s 719ms/step - loss: 0.3663 - accuracy: 0.7775 - val_loss: 1.0850 - val_accuracy: 0.5800\n",
            "Epoch 16/20\n",
            "67/67 [==============================] - 48s 719ms/step - loss: 0.3611 - accuracy: 0.8125 - val_loss: 1.1837 - val_accuracy: 0.5600\n",
            "Epoch 17/20\n",
            "67/67 [==============================] - 48s 719ms/step - loss: 0.3431 - accuracy: 0.8000 - val_loss: 1.2464 - val_accuracy: 0.5500\n",
            "Epoch 18/20\n",
            "67/67 [==============================] - 48s 720ms/step - loss: 0.3339 - accuracy: 0.8150 - val_loss: 1.2534 - val_accuracy: 0.5700\n",
            "Epoch 19/20\n",
            "67/67 [==============================] - 48s 720ms/step - loss: 0.3352 - accuracy: 0.8200 - val_loss: 1.2809 - val_accuracy: 0.5500\n",
            "Epoch 20/20\n",
            "67/67 [==============================] - 48s 719ms/step - loss: 0.3192 - accuracy: 0.8250 - val_loss: 1.2830 - val_accuracy: 0.5500\n"
          ]
        },
        {
          "output_type": "execute_result",
          "data": {
            "text/plain": [
              "<keras.callbacks.History at 0x7f1acca32580>"
            ]
          },
          "metadata": {},
          "execution_count": 267
        }
      ]
    },
    {
      "cell_type": "code",
      "source": [
        "class_names=[\"acpt\",\"unac\"]"
      ],
      "metadata": {
        "id": "naIlJ7_jKBSf"
      },
      "execution_count": null,
      "outputs": []
    },
    {
      "cell_type": "code",
      "source": [
        "learner.validate(val_data=(val), class_names=class_names)"
      ],
      "metadata": {
        "id": "pjo2gGRZKGLv",
        "colab": {
          "base_uri": "https://localhost:8080/"
        },
        "outputId": "a48bb99a-7e9a-4d9a-b906-38faab9e78c6"
      },
      "execution_count": null,
      "outputs": [
        {
          "output_type": "stream",
          "name": "stdout",
          "text": [
            "4/4 [==============================] - 3s 136ms/step\n",
            "              precision    recall  f1-score   support\n",
            "\n",
            "        acpt       0.53      0.65      0.59        49\n",
            "        unac       0.57      0.45      0.51        51\n",
            "\n",
            "    accuracy                           0.55       100\n",
            "   macro avg       0.55      0.55      0.55       100\n",
            "weighted avg       0.55      0.55      0.55       100\n",
            "\n"
          ]
        },
        {
          "output_type": "execute_result",
          "data": {
            "text/plain": [
              "array([[32, 17],\n",
              "       [28, 23]])"
            ]
          },
          "metadata": {},
          "execution_count": 269
        }
      ]
    }
  ]
}